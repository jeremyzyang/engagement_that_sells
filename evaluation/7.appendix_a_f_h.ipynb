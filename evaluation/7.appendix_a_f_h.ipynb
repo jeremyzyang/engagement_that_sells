{
 "cells": [
  {
   "cell_type": "code",
   "execution_count": 1,
   "id": "117397c7-03ef-4fe4-8b3b-29928dcdee5a",
   "metadata": {},
   "outputs": [],
   "source": [
    "load('tiktok.RData')\n",
    "options(warn = -1)"
   ]
  },
  {
   "cell_type": "code",
   "execution_count": 2,
   "id": "d4f843f0-c20d-48af-a1c7-e43701595bec",
   "metadata": {},
   "outputs": [
    {
     "data": {
      "text/html": [
       "<style>\n",
       ".list-inline {list-style: none; margin:0; padding: 0}\n",
       ".list-inline>li {display: inline-block}\n",
       ".list-inline>li:not(:last-child)::after {content: \"\\00b7\"; padding: 0 .5ex}\n",
       "</style>\n",
       "<ol class=list-inline><li>'activity'</li><li>'e_space'</li><li>'e_time'</li><li>'emotion'</li><li>'loss'</li><li>'model_construction'</li><li>'model_evaluation'</li><li>'object'</li><li>'own'</li><li>'p_space'</li><li>'p_time'</li><li>'pe_space'</li><li>'pe_time'</li><li>'search'</li></ol>\n"
      ],
      "text/latex": [
       "\\begin{enumerate*}\n",
       "\\item 'activity'\n",
       "\\item 'e\\_space'\n",
       "\\item 'e\\_time'\n",
       "\\item 'emotion'\n",
       "\\item 'loss'\n",
       "\\item 'model\\_construction'\n",
       "\\item 'model\\_evaluation'\n",
       "\\item 'object'\n",
       "\\item 'own'\n",
       "\\item 'p\\_space'\n",
       "\\item 'p\\_time'\n",
       "\\item 'pe\\_space'\n",
       "\\item 'pe\\_time'\n",
       "\\item 'search'\n",
       "\\end{enumerate*}\n"
      ],
      "text/markdown": [
       "1. 'activity'\n",
       "2. 'e_space'\n",
       "3. 'e_time'\n",
       "4. 'emotion'\n",
       "5. 'loss'\n",
       "6. 'model_construction'\n",
       "7. 'model_evaluation'\n",
       "8. 'object'\n",
       "9. 'own'\n",
       "10. 'p_space'\n",
       "11. 'p_time'\n",
       "12. 'pe_space'\n",
       "13. 'pe_time'\n",
       "14. 'search'\n",
       "\n",
       "\n"
      ],
      "text/plain": [
       " [1] \"activity\"           \"e_space\"            \"e_time\"            \n",
       " [4] \"emotion\"            \"loss\"               \"model_construction\"\n",
       " [7] \"model_evaluation\"   \"object\"             \"own\"               \n",
       "[10] \"p_space\"            \"p_time\"             \"pe_space\"          \n",
       "[13] \"pe_time\"            \"search\"            "
      ]
     },
     "metadata": {},
     "output_type": "display_data"
    }
   ],
   "source": [
    "ls()"
   ]
  },
  {
   "cell_type": "code",
   "execution_count": 3,
   "id": "41a25a67-b734-477a-80e2-f3e2a7c05693",
   "metadata": {},
   "outputs": [],
   "source": [
    "suppressWarnings(suppressMessages(library(data.table)))\n",
    "suppressWarnings(suppressMessages(library(tidyr)))\n",
    "suppressWarnings(suppressMessages(library(dplyr)))\n",
    "suppressWarnings(suppressMessages(library(ggplot2)))\n",
    "suppressWarnings(suppressMessages(library(lubridate)))\n",
    "suppressWarnings(suppressMessages(library(lfe)))\n",
    "suppressWarnings(suppressMessages(library(patchwork)))\n",
    "suppressWarnings(suppressMessages(library(zoo)))\n",
    "suppressWarnings(suppressMessages(library(forcats)))\n",
    "suppressWarnings(suppressMessages(library(stargazer)))\n",
    "suppressWarnings(suppressMessages(library(xgboost)))\n",
    "suppressWarnings(suppressMessages(library(caret)))\n",
    "suppressWarnings(suppressMessages(library(sampling)))\n",
    "suppressWarnings(suppressMessages(library(foreach)))\n",
    "suppressWarnings(suppressMessages(library(doParallel)))\n",
    "suppressWarnings(suppressMessages(library(tsbox)))\n",
    "suppressWarnings(suppressMessages(library(tempdisagg)))"
   ]
  },
  {
   "cell_type": "code",
   "execution_count": 4,
   "id": "8a835917-a73a-434c-894f-59f91437ee65",
   "metadata": {},
   "outputs": [
    {
     "data": {
      "text/plain": [
       "R version 4.3.1 (2023-06-16)\n",
       "Platform: x86_64-pc-linux-gnu (64-bit)\n",
       "Running under: Rocky Linux 8.7 (Green Obsidian)\n",
       "\n",
       "Matrix products: default\n",
       "BLAS:   /n/sw/helmod-rocky8/apps/Core/R/4.3.1-fasrc01/lib64/R/lib/libRblas.so \n",
       "LAPACK: /n/sw/helmod-rocky8/apps/Core/R/4.3.1-fasrc01/lib64/R/lib/libRlapack.so;  LAPACK version 3.11.0\n",
       "\n",
       "locale:\n",
       " [1] LC_CTYPE=en_US.UTF-8       LC_NUMERIC=C              \n",
       " [3] LC_TIME=en_US.UTF-8        LC_COLLATE=en_US.UTF-8    \n",
       " [5] LC_MONETARY=en_US.UTF-8    LC_MESSAGES=en_US.UTF-8   \n",
       " [7] LC_PAPER=en_US.UTF-8       LC_NAME=C                 \n",
       " [9] LC_ADDRESS=C               LC_TELEPHONE=C            \n",
       "[11] LC_MEASUREMENT=en_US.UTF-8 LC_IDENTIFICATION=C       \n",
       "\n",
       "time zone: America/New_York\n",
       "tzcode source: system (glibc)\n",
       "\n",
       "attached base packages:\n",
       "[1] parallel  stats     graphics  grDevices utils     datasets  methods  \n",
       "[8] base     \n",
       "\n",
       "other attached packages:\n",
       " [1] tempdisagg_1.1.1   tsbox_0.4.1        doParallel_1.0.17  iterators_1.0.14  \n",
       " [5] foreach_1.5.2      sampling_2.10      caret_6.0-94       lattice_0.21-8    \n",
       " [9] xgboost_1.7.6.1    stargazer_5.2.3    forcats_1.0.0      zoo_1.8-12        \n",
       "[13] patchwork_1.1.3    lfe_2.9-0          Matrix_1.5-4.1     lubridate_1.9.3   \n",
       "[17] ggplot2_3.4.4      dplyr_1.1.4        tidyr_1.3.0        data.table_1.14.10\n",
       "\n",
       "loaded via a namespace (and not attached):\n",
       " [1] anytime_0.3.9        gtable_0.3.4         recipes_1.0.9       \n",
       " [4] vctrs_0.6.5          tools_4.3.1          generics_0.1.3      \n",
       " [7] stats4_4.3.1         sandwich_3.1-0       tibble_3.2.1        \n",
       "[10] fansi_1.0.6          ModelMetrics_1.2.2.2 pkgconfig_2.0.3     \n",
       "[13] uuid_1.1-1           lifecycle_1.0.4      stringr_1.5.1       \n",
       "[16] compiler_4.3.1       munsell_0.5.0        repr_1.1.6          \n",
       "[19] codetools_0.2-19     htmltools_0.5.7      class_7.3-22        \n",
       "[22] prodlim_2023.08.28   Formula_1.2-5        pillar_1.9.0        \n",
       "[25] crayon_1.5.2         MASS_7.3-60          gower_1.0.1         \n",
       "[28] rpart_4.1.19         nlme_3.1-162         parallelly_1.36.0   \n",
       "[31] lava_1.7.3           tidyselect_1.2.0     digest_0.6.33       \n",
       "[34] stringi_1.8.3        future_1.33.0        reshape2_1.4.4      \n",
       "[37] purrr_1.0.2          listenv_0.9.0        splines_4.3.1       \n",
       "[40] fastmap_1.1.1        grid_4.3.1           colorspace_2.1-0    \n",
       "[43] cli_3.6.2            magrittr_2.0.3       base64enc_0.1-3     \n",
       "[46] survival_3.5-5       utf8_1.2.4           IRdisplay_1.1       \n",
       "[49] future.apply_1.11.0  withr_2.5.2          scales_1.3.0        \n",
       "[52] IRkernel_1.3.2       timechange_0.2.0     globals_0.16.2      \n",
       "[55] nnet_7.3-19          timeDate_4032.109    pbdZMQ_0.3-10       \n",
       "[58] lpSolve_5.6.20       evaluate_0.23        hardhat_1.3.0       \n",
       "[61] rlang_1.1.2          Rcpp_1.0.11          xtable_1.8-4        \n",
       "[64] glue_1.6.2           pROC_1.18.5          ipred_0.9-14        \n",
       "[67] jsonlite_1.8.8       R6_2.5.1             plyr_1.8.9          "
      ]
     },
     "metadata": {},
     "output_type": "display_data"
    }
   ],
   "source": [
    "sessionInfo()"
   ]
  },
  {
   "cell_type": "code",
   "execution_count": 5,
   "id": "48d94546-566e-44eb-bc02-bc9c39d2cc5f",
   "metadata": {},
   "outputs": [],
   "source": [
    "df = model_evaluation"
   ]
  },
  {
   "cell_type": "markdown",
   "id": "ad1541f8-c53d-4cd4-a0ca-ad12b046bbc4",
   "metadata": {},
   "source": [
    "### Appendix A"
   ]
  },
  {
   "cell_type": "markdown",
   "id": "9a792fc5-07c8-4044-8779-5b4012329da8",
   "metadata": {},
   "source": [
    "#### Figure A.4"
   ]
  },
  {
   "cell_type": "code",
   "execution_count": 6,
   "id": "045b4583-8795-4fc9-b14a-3dff3c5b256a",
   "metadata": {},
   "outputs": [
    {
     "data": {
      "image/png": "[encoded data removed]",
      "text/plain": [
       "plot without title"
      ]
     },
     "metadata": {
      "image/png": {
       "height": 420,
       "width": 420
      }
     },
     "output_type": "display_data"
    }
   ],
   "source": [
    "pivot_longer(loss, c('Training Loss', 'Validation Loss')) %>% \n",
    "ggplot(aes(epoch, value, linetype = name)) + \n",
    "   geom_point() +\n",
    "   geom_line() +\n",
    "scale_y_continuous(breaks = seq(0,40,1)) +\n",
    "scale_x_continuous(breaks = seq(2,30,2)) + \n",
    "xlab('Epoch') +\n",
    "ylab('Loss (MAPE)') +\n",
    "theme_bw() +\n",
    "theme(legend.position=\"top\",\n",
    "        legend.title=element_blank()) +\n",
    "theme(text = element_text(size=15)) +\n",
    "theme(legend.text = element_text(size=15)) +\n",
    "theme(aspect.ratio=2/4)"
   ]
  },
  {
   "cell_type": "markdown",
   "id": "e4831d40-9172-4cb1-a87f-f5d1101d99d9",
   "metadata": {},
   "source": [
    "### Appendix F"
   ]
  },
  {
   "cell_type": "markdown",
   "id": "9ac08f1a-1d7c-49f1-be3a-fbe5ff51d2f9",
   "metadata": {},
   "source": [
    "#### Figure F.1"
   ]
  },
  {
   "cell_type": "code",
   "execution_count": 7,
   "id": "95a1c4b4-c1d2-494d-ad75-7f0aca1c53ed",
   "metadata": {},
   "outputs": [
    {
     "data": {
      "image/png": "[encoded data removed]",
      "text/plain": [
       "plot without title"
      ]
     },
     "metadata": {
      "image/png": {
       "height": 420,
       "width": 420
      }
     },
     "output_type": "display_data"
    }
   ],
   "source": [
    "missing = model_evaluation %>% \n",
    "group_by(taobao_id) %>%\n",
    "summarize(duration = as.numeric(max(updated_time) - min(updated_time)+1),\n",
    "         n = n())\n",
    "\n",
    "ggplot(aes(n), data = missing) + geom_histogram(bins = 30) + theme_bw() +\n",
    "theme(text = element_text(size=15))  + xlab('Number of Observed Days in the Sales Panel') + ylab('Count') + \n",
    "scale_x_continuous(breaks = seq(0, 150, by = 30)) + \n",
    "theme(aspect.ratio=2/4)"
   ]
  },
  {
   "cell_type": "markdown",
   "id": "48bb34f9-7150-429b-9929-32290d0ea51a",
   "metadata": {},
   "source": [
    "#### Figure F.2"
   ]
  },
  {
   "cell_type": "code",
   "execution_count": 8,
   "id": "4df3575b-8ea6-4561-a664-6c0088658669",
   "metadata": {},
   "outputs": [],
   "source": [
    "df_ss = df %>% \n",
    "group_by(video_id) %>% \n",
    "mutate(rev_avg = mean(rev)) %>% \n",
    "distinct(video_id, .keep_all = T)"
   ]
  },
  {
   "cell_type": "code",
   "execution_count": 9,
   "id": "a0fd0bd8-217c-4cb5-8cd5-e8357d175a31",
   "metadata": {},
   "outputs": [
    {
     "data": {
      "image/png": "[encoded data removed]",
      "text/plain": [
       "plot without title"
      ]
     },
     "metadata": {
      "image/png": {
       "height": 420,
       "width": 420
      }
     },
     "output_type": "display_data"
    }
   ],
   "source": [
    "ggplot(aes(log(like+1)), data = df_ss) + geom_histogram(bins = 30) + theme_bw() +\n",
    "theme(text = element_text(size=15)) + xlim(c(0,15))+ xlab('Log(Likes+1)') + ylab('Count') + ylim(c(0,300)) + theme(aspect.ratio=2/4) +\n",
    "\n",
    "ggplot(aes(log(comment+1)), data = df_ss) + geom_histogram(bins = 30) + theme_bw() +\n",
    "theme(text = element_text(size=15)) + xlim(c(0,15)) + xlab('Log(Comments+1)') + ylab('Count') + ylim(c(0,300)) + theme(aspect.ratio=2/4) +\n",
    "\n",
    "ggplot(aes(log(share+1)), data = df_ss) + geom_histogram(bins = 30) + theme_bw() +\n",
    "theme(text = element_text(size=15)) + xlim(c(0,15)) + xlab('Log(Shares+1)') + ylab('Count') + ylim(c(0,300)) + theme(aspect.ratio=2/4) +\n",
    "\n",
    "ggplot(aes(log(rev_avg+1)), data = df_ss) + geom_histogram(bins = 30) + theme_bw() +\n",
    "theme(text = element_text(size=15)) + xlim(c(0,15)) + xlab('Log(30-Day Sales+1)') + ylab('Count') + ylim(c(0,300)) + theme(aspect.ratio=2/4) +\n",
    "\n",
    "plot_layout(ncol = 2)"
   ]
  },
  {
   "cell_type": "markdown",
   "id": "776796f7-bd02-4d11-90f6-01a8c69fd576",
   "metadata": {},
   "source": [
    "#### Figure F.3"
   ]
  },
  {
   "cell_type": "code",
   "execution_count": 10,
   "id": "49d7aeac-6736-4f49-abc5-b585c9aa817d",
   "metadata": {},
   "outputs": [
    {
     "data": {
      "image/png": "[encoded data removed]",
      "text/plain": [
       "plot without title"
      ]
     },
     "metadata": {
      "image/png": {
       "height": 420,
       "width": 420
      }
     },
     "output_type": "display_data"
    }
   ],
   "source": [
    "ggplot(aes(n_video), \n",
    "                            data = df_ss %>% \n",
    "                    group_by(influencer_id) %>% \n",
    "                    summarize(n_video = n())) + \n",
    "geom_histogram(binwidth = 1) + \n",
    "theme_bw() +\n",
    "theme(text = element_text(size=15)) + \n",
    "scale_x_continuous(breaks = seq(0, 13, by = 1)) + \n",
    "ylab('Count') +\n",
    "xlab('Number of Videos by Influencer') +\n",
    "theme(aspect.ratio=2/4)"
   ]
  },
  {
   "cell_type": "markdown",
   "id": "e3fef0da-cf4b-4b29-9955-643451f87b5b",
   "metadata": {},
   "source": [
    "#### Figure F.4"
   ]
  },
  {
   "cell_type": "code",
   "execution_count": 11,
   "id": "b30d60ec-3582-4971-87d1-c4cbcd113c9f",
   "metadata": {},
   "outputs": [
    {
     "data": {
      "image/png": "[encoded data removed]",
      "text/plain": [
       "plot without title"
      ]
     },
     "metadata": {
      "image/png": {
       "height": 420,
       "width": 420
      }
     },
     "output_type": "display_data"
    }
   ],
   "source": [
    "ggplot(aes(len), data = df_ss) + \n",
    "geom_histogram(bins = 45) + \n",
    "theme_bw() +\n",
    "theme(text = element_text(size=15)) +\n",
    "scale_x_continuous(breaks = seq(15, 60, by = 5)) + xlab('Video Length (in Seconds)') + ylab('Count') + \n",
    "\n",
    "ggplot(aes(video_posted_time), data = df_ss) + \n",
    "geom_histogram(bins = 32) + theme_bw() +\n",
    "theme(text = element_text(size=15)) + xlab('Video Posting Date (in 2019)') + ylab('Count') +\n",
    "scale_x_date(date_breaks = \"1 month\", date_labels = \"%b\") +\n",
    "\n",
    "plot_layout(ncol = 1)"
   ]
  },
  {
   "cell_type": "markdown",
   "id": "1c5854a0-5ba3-4814-b761-cf5a86b91ebd",
   "metadata": {},
   "source": [
    "#### Figure F.5"
   ]
  },
  {
   "cell_type": "code",
   "execution_count": 12,
   "id": "b0850de8-11b7-40e2-89b9-6f6825e750ad",
   "metadata": {},
   "outputs": [
    {
     "data": {
      "image/png": "[encoded data removed]",
      "text/plain": [
       "plot without title"
      ]
     },
     "metadata": {
      "image/png": {
       "height": 420,
       "width": 420
      }
     },
     "output_type": "display_data"
    }
   ],
   "source": [
    "ggplot(aes(fct_rev(fct_infreq(category))), data = df_ss) +  geom_bar() + theme_bw() + \n",
    "theme(text = element_text(size=15)) + ylim(c(0,1000)) + xlab('Category') + ylab('Count') + coord_flip() + theme(aspect.ratio=2/4)"
   ]
  },
  {
   "cell_type": "markdown",
   "id": "ae4277fe-bf3d-4956-b8d6-31f6bbb33b66",
   "metadata": {},
   "source": [
    "#### Figure F.6"
   ]
  },
  {
   "cell_type": "code",
   "execution_count": 13,
   "id": "bc4b8503-cba2-449d-9c87-9f56fb43b2f9",
   "metadata": {},
   "outputs": [
    {
     "data": {
      "text/html": [
       "259"
      ],
      "text/latex": [
       "259"
      ],
      "text/markdown": [
       "259"
      ],
      "text/plain": [
       "[1] 259"
      ]
     },
     "metadata": {},
     "output_type": "display_data"
    }
   ],
   "source": [
    "# create separate data frames for treated and control products\n",
    "\n",
    "df = df %>% group_by(taobao_id) %>% \n",
    "  mutate(treated_mean = mean(treated))\n",
    "\n",
    "df %>% distinct(taobao_id, .keep_all = T) %>%\n",
    "  filter(treated_mean != 1) %>%\n",
    "  pull(treated_mean) %>% table %>% sum\n",
    "\n",
    "df_treat = filter(df, treated_mean != 1)\n",
    "df_control = filter(df, treated_mean == 1)\n",
    "df_control$treated = 0\n",
    "\n",
    "treat_id = unique(df_treat$taobao_id)"
   ]
  },
  {
   "cell_type": "code",
   "execution_count": 14,
   "id": "ffe4b019-77cb-4092-a18d-97a8b8c761d0",
   "metadata": {},
   "outputs": [],
   "source": [
    "s = df_treat %>% # compute average revenue before and after the treatment \n",
    "  ungroup() %>%\n",
    "  group_by(taobao_id, treated) %>% \n",
    "  mutate(\n",
    "    avg_rev = mean(rev)\n",
    "  ) %>%\n",
    "  distinct(taobao_id, treated, .keep_all = T) %>%\n",
    "  arrange(taobao_id) %>% \n",
    "  ungroup() %>%\n",
    "  group_by(taobao_id) %>%\n",
    "  mutate(count = n()) %>%\n",
    "  filter(count == 2) %>%\n",
    "  ungroup()"
   ]
  },
  {
   "cell_type": "code",
   "execution_count": 15,
   "id": "8bd76a02-6204-4255-aee4-95db2c4d7980",
   "metadata": {},
   "outputs": [
    {
     "data": {
      "image/png": "[encoded data removed]",
      "text/plain": [
       "plot without title"
      ]
     },
     "metadata": {
      "image/png": {
       "height": 420,
       "width": 420
      }
     },
     "output_type": "display_data"
    }
   ],
   "source": [
    "s = df_treat %>% # compute average revenue before and after the treatment \n",
    "  ungroup() %>%\n",
    "  group_by(taobao_id, treated) %>% \n",
    "  mutate(\n",
    "    avg_rev = mean(rev)\n",
    "  ) %>%\n",
    "  distinct(taobao_id, treated, .keep_all = T) %>%\n",
    "  arrange(taobao_id) %>% \n",
    "  ungroup() %>%\n",
    "  group_by(taobao_id) %>%\n",
    "  mutate(count = n()) %>%\n",
    "  ungroup()\n",
    "\n",
    "s = dcast(s, taobao_id ~ treated, value.var = c(\"avg_rev\")) # reshape the data frame so the average revenue before and after the treatment becomes two separate columns\n",
    "\n",
    "s = left_join(s, df_treat %>% \n",
    "                distinct(taobao_id, .keep_all = T) %>%\n",
    "                select(taobao_id, like, comment, share, pe_score), by ='taobao_id') \n",
    "\n",
    "s$rev_diff = s[,3] - s[,2] # compute the difference in average revenue before and after the treatment \n",
    "\n",
    "g_like = ggplot(s,\n",
    "           aes(log(like+1), rev_diff)) +\n",
    "  geom_smooth(method = 'lm', color = 'grey', formula = y ~ x) +\n",
    "  geom_point() +\n",
    "  xlab('Log(Likes+1)') + \n",
    "  ylab('Sales Difference') + \n",
    "  theme_bw() +\n",
    "  theme(text = element_text(size=15)) +\n",
    "  scale_y_continuous(\n",
    "      limits = c(-1000,1000),\n",
    "          breaks=seq(-1000, 1000, 200)\n",
    "  ) +\n",
    "  scale_x_continuous(\n",
    "    breaks=seq(0, 15, 2)\n",
    "  ) \n",
    "\n",
    "g_comment = ggplot(s,\n",
    "           aes(log(comment+1), rev_diff)) +\n",
    "  geom_smooth(method = 'lm', color = 'grey', formula = y ~ x) +\n",
    "  geom_point() +\n",
    "  xlab('Log(Comments+1)') + \n",
    "  ylab('Sales Difference') + \n",
    "theme_bw() +\n",
    "  theme(text = element_text(size=15)) +\n",
    "  scale_y_continuous(\n",
    "      limits = c(-1000,1000),\n",
    "          breaks=seq(-1000, 1000, 200)\n",
    "  ) +\n",
    "  scale_x_continuous(\n",
    "    breaks=seq(0, 10, 2)\n",
    "  ) \n",
    "\n",
    "g_share = ggplot(s,\n",
    "           aes(log(share+1), rev_diff)) +\n",
    "  geom_smooth(method = 'lm', color = 'grey', formula = y ~ x) +\n",
    "  geom_point() +\n",
    "  xlab('Log(Shares+1)') + \n",
    "  ylab('Sales Difference') + \n",
    "  theme_bw() +\n",
    "  theme(text = element_text(size=15)) +\n",
    "  scale_y_continuous(\n",
    "      limits = c(-1000,1000),\n",
    "          breaks=seq(-1000, 1000, 200)\n",
    "  ) +\n",
    "  scale_x_continuous(\n",
    "    breaks=seq(0, 12, 2)\n",
    "  ) \n",
    "\n",
    "g_like/g_comment/g_share"
   ]
  },
  {
   "cell_type": "code",
   "execution_count": 16,
   "id": "187f5d8b-afde-4205-af1a-daacebc44772",
   "metadata": {},
   "outputs": [
    {
     "data": {
      "text/plain": [
       "\n",
       "\tPearson's product-moment correlation\n",
       "\n",
       "data:  s$like and s$rev_diff\n",
       "t = -0.12059, df = 257, p-value = 0.9041\n",
       "alternative hypothesis: true correlation is not equal to 0\n",
       "95 percent confidence interval:\n",
       " -0.1292924  0.1144714\n",
       "sample estimates:\n",
       "         cor \n",
       "-0.007522289 \n"
      ]
     },
     "metadata": {},
     "output_type": "display_data"
    },
    {
     "data": {
      "text/plain": [
       "\n",
       "\tPearson's product-moment correlation\n",
       "\n",
       "data:  s$comment and s$rev_diff\n",
       "t = -0.32743, df = 257, p-value = 0.7436\n",
       "alternative hypothesis: true correlation is not equal to 0\n",
       "95 percent confidence interval:\n",
       " -0.1419556  0.1017216\n",
       "sample estimates:\n",
       "        cor \n",
       "-0.02042023 \n"
      ]
     },
     "metadata": {},
     "output_type": "display_data"
    },
    {
     "data": {
      "text/plain": [
       "\n",
       "\tPearson's product-moment correlation\n",
       "\n",
       "data:  s$share and s$rev_diff\n",
       "t = -0.11913, df = 257, p-value = 0.9053\n",
       "alternative hypothesis: true correlation is not equal to 0\n",
       "95 percent confidence interval:\n",
       " -0.1292024  0.1145617\n",
       "sample estimates:\n",
       "         cor \n",
       "-0.007430714 \n"
      ]
     },
     "metadata": {},
     "output_type": "display_data"
    }
   ],
   "source": [
    "cor.test(s$like, s$rev_diff)\n",
    "cor.test(s$comment, s$rev_diff)\n",
    "cor.test(s$share, s$rev_diff)"
   ]
  },
  {
   "cell_type": "code",
   "execution_count": 17,
   "id": "6d4b2c9a-3a7a-45d6-9b81-83249f8a7b26",
   "metadata": {},
   "outputs": [
    {
     "data": {
      "text/plain": [
       "\n",
       "\tPearson's product-moment correlation\n",
       "\n",
       "data:  log(s$like + 1) and s$rev_diff\n",
       "t = 0.0040483, df = 257, p-value = 0.9968\n",
       "alternative hypothesis: true correlation is not equal to 0\n",
       "95 percent confidence interval:\n",
       " -0.1216399  0.1221375\n",
       "sample estimates:\n",
       "         cor \n",
       "0.0002525287 \n"
      ]
     },
     "metadata": {},
     "output_type": "display_data"
    },
    {
     "data": {
      "text/plain": [
       "\n",
       "\tPearson's product-moment correlation\n",
       "\n",
       "data:  log(s$comment + 1) and s$rev_diff\n",
       "t = -0.013098, df = 257, p-value = 0.9896\n",
       "alternative hypothesis: true correlation is not equal to 0\n",
       "95 percent confidence interval:\n",
       " -0.1226935  0.1210837\n",
       "sample estimates:\n",
       "          cor \n",
       "-0.0008170229 \n"
      ]
     },
     "metadata": {},
     "output_type": "display_data"
    },
    {
     "data": {
      "text/plain": [
       "\n",
       "\tPearson's product-moment correlation\n",
       "\n",
       "data:  log(s$share + 1) and s$rev_diff\n",
       "t = 0.74905, df = 257, p-value = 0.4545\n",
       "alternative hypothesis: true correlation is not equal to 0\n",
       "95 percent confidence interval:\n",
       " -0.0756455  0.1676087\n",
       "sample estimates:\n",
       "       cor \n",
       "0.04667353 \n"
      ]
     },
     "metadata": {},
     "output_type": "display_data"
    }
   ],
   "source": [
    "cor.test(log(s$like+1), s$rev_diff)\n",
    "cor.test(log(s$comment+1), s$rev_diff)\n",
    "cor.test(log(s$share+1), s$rev_diff)"
   ]
  },
  {
   "cell_type": "code",
   "execution_count": 18,
   "id": "281a0e93-b842-4d6d-8425-0e91d2b7993e",
   "metadata": {},
   "outputs": [
    {
     "data": {
      "text/plain": [
       "\n",
       "Call:\n",
       "lm(formula = rev_diff ~ like, data = s)\n",
       "\n",
       "Residuals:\n",
       "    Min      1Q  Median      3Q     Max \n",
       "-3713.4   -18.8   -12.6    -4.2 14153.5 \n",
       "\n",
       "Coefficients:\n",
       "              Estimate Std. Error t value Pr(>|t|)\n",
       "(Intercept)  1.310e+01  6.402e+01   0.205    0.838\n",
       "like        -5.539e-05  4.593e-04  -0.121    0.904\n",
       "\n",
       "Residual standard error: 976.8 on 257 degrees of freedom\n",
       "Multiple R-squared:  5.658e-05,\tAdjusted R-squared:  -0.003834 \n",
       "F-statistic: 0.01454 on 1 and 257 DF,  p-value: 0.9041\n"
      ]
     },
     "metadata": {},
     "output_type": "display_data"
    },
    {
     "data": {
      "text/plain": [
       "\n",
       "Call:\n",
       "lm(formula = rev_diff ~ comment, data = s)\n",
       "\n",
       "Residuals:\n",
       "    Min      1Q  Median      3Q     Max \n",
       "-3710.7   -21.6   -15.4    -5.4 14151.1 \n",
       "\n",
       "Coefficients:\n",
       "             Estimate Std. Error t value Pr(>|t|)\n",
       "(Intercept) 16.451519  63.226688   0.260    0.795\n",
       "comment     -0.009316   0.028452  -0.327    0.744\n",
       "\n",
       "Residual standard error: 976.7 on 257 degrees of freedom\n",
       "Multiple R-squared:  0.000417,\tAdjusted R-squared:  -0.003472 \n",
       "F-statistic: 0.1072 on 1 and 257 DF,  p-value: 0.7436\n"
      ]
     },
     "metadata": {},
     "output_type": "display_data"
    },
    {
     "data": {
      "text/plain": [
       "\n",
       "Call:\n",
       "lm(formula = rev_diff ~ share, data = s)\n",
       "\n",
       "Residuals:\n",
       "    Min      1Q  Median      3Q     Max \n",
       "-3712.4   -19.0   -11.9    -6.1 14155.0 \n",
       "\n",
       "Coefficients:\n",
       "              Estimate Std. Error t value Pr(>|t|)\n",
       "(Intercept) 11.8874134 61.5900648   0.193    0.847\n",
       "share       -0.0008691  0.0072960  -0.119    0.905\n",
       "\n",
       "Residual standard error: 976.8 on 257 degrees of freedom\n",
       "Multiple R-squared:  5.522e-05,\tAdjusted R-squared:  -0.003836 \n",
       "F-statistic: 0.01419 on 1 and 257 DF,  p-value: 0.9053\n"
      ]
     },
     "metadata": {},
     "output_type": "display_data"
    }
   ],
   "source": [
    "summary(lm(rev_diff ~ like, s))\n",
    "summary(lm(rev_diff ~ comment, s))\n",
    "summary(lm(rev_diff ~ share, s))"
   ]
  },
  {
   "cell_type": "code",
   "execution_count": 19,
   "id": "1f255224-e3af-4f18-a099-f1d265f099a2",
   "metadata": {},
   "outputs": [
    {
     "data": {
      "text/plain": [
       "\n",
       "Call:\n",
       "lm(formula = rev_diff ~ log(like + 1), data = s)\n",
       "\n",
       "Residuals:\n",
       "    Min      1Q  Median      3Q     Max \n",
       "-3711.2   -17.7   -10.6    -6.2 14156.0 \n",
       "\n",
       "Coefficients:\n",
       "              Estimate Std. Error t value Pr(>|t|)\n",
       "(Intercept)     9.7750   222.9580   0.044    0.965\n",
       "log(like + 1)   0.1045    25.8148   0.004    0.997\n",
       "\n",
       "Residual standard error: 976.9 on 257 degrees of freedom\n",
       "Multiple R-squared:  6.377e-08,\tAdjusted R-squared:  -0.003891 \n",
       "F-statistic: 1.639e-05 on 1 and 257 DF,  p-value: 0.9968\n"
      ]
     },
     "metadata": {},
     "output_type": "display_data"
    },
    {
     "data": {
      "text/plain": [
       "\n",
       "Call:\n",
       "lm(formula = rev_diff ~ log(comment + 1), data = s)\n",
       "\n",
       "Residuals:\n",
       "    Min      1Q  Median      3Q     Max \n",
       "-3710.4   -17.8   -10.9    -5.7 14155.9 \n",
       "\n",
       "Coefficients:\n",
       "                 Estimate Std. Error t value Pr(>|t|)\n",
       "(Intercept)       12.4459   150.4044   0.083    0.934\n",
       "log(comment + 1)  -0.4007    30.5939  -0.013    0.990\n",
       "\n",
       "Residual standard error: 976.9 on 257 degrees of freedom\n",
       "Multiple R-squared:  6.675e-07,\tAdjusted R-squared:  -0.00389 \n",
       "F-statistic: 0.0001716 on 1 and 257 DF,  p-value: 0.9896\n"
      ]
     },
     "metadata": {},
     "output_type": "display_data"
    },
    {
     "data": {
      "text/plain": [
       "\n",
       "Call:\n",
       "lm(formula = rev_diff ~ log(share + 1), data = s)\n",
       "\n",
       "Residuals:\n",
       "    Min      1Q  Median      3Q     Max \n",
       "-3683.5   -54.5   -10.3    23.2 14123.1 \n",
       "\n",
       "Coefficients:\n",
       "               Estimate Std. Error t value Pr(>|t|)\n",
       "(Intercept)      -79.08     134.25  -0.589    0.556\n",
       "log(share + 1)    20.05      26.77   0.749    0.455\n",
       "\n",
       "Residual standard error: 975.8 on 257 degrees of freedom\n",
       "Multiple R-squared:  0.002178,\tAdjusted R-squared:  -0.001704 \n",
       "F-statistic: 0.5611 on 1 and 257 DF,  p-value: 0.4545\n"
      ]
     },
     "metadata": {},
     "output_type": "display_data"
    }
   ],
   "source": [
    "summary(lm(rev_diff ~ log(like+1), s))\n",
    "summary(lm(rev_diff ~ log(comment+1), s))\n",
    "summary(lm(rev_diff ~ log(share+1), s))"
   ]
  },
  {
   "cell_type": "markdown",
   "id": "2f818ee7-831d-475b-a5d5-ac8793b8f3c3",
   "metadata": {},
   "source": [
    "### Appendix H "
   ]
  },
  {
   "cell_type": "markdown",
   "id": "10c188bf-f448-4e94-8c5b-784e0f68858f",
   "metadata": {},
   "source": [
    "#### Table H.1"
   ]
  },
  {
   "cell_type": "code",
   "execution_count": 20,
   "id": "cc03cb0c-746a-4432-9fb5-aadf3f16be17",
   "metadata": {},
   "outputs": [
    {
     "data": {
      "text/html": [
       "259"
      ],
      "text/latex": [
       "259"
      ],
      "text/markdown": [
       "259"
      ],
      "text/plain": [
       "[1] 259"
      ]
     },
     "metadata": {},
     "output_type": "display_data"
    }
   ],
   "source": [
    "# create separate data frames for treated and control products\n",
    "\n",
    "df = df %>% group_by(taobao_id) %>% \n",
    "  mutate(treated_mean = mean(treated, na.rm = T))\n",
    "\n",
    "df %>% distinct(taobao_id, .keep_all = T) %>%\n",
    "  filter(treated_mean != 1) %>%\n",
    "  pull(treated_mean) %>% table %>% sum\n",
    "\n",
    "df_treat = filter(df, treated_mean != 1)\n",
    "df_control = filter(df, treated_mean == 1)\n",
    "df_control$treated = 0\n",
    "\n",
    "treat_id = unique(df_treat$taobao_id)"
   ]
  },
  {
   "cell_type": "code",
   "execution_count": 21,
   "id": "36775d63-68fb-4d71-b62c-a2c6477fe62f",
   "metadata": {},
   "outputs": [],
   "source": [
    "# impute daily sales\n",
    "id = unique(df$taobao_id)\n",
    "rev_day = data.frame()\n",
    "\n",
    "for (i in id) { # loop over all products \n",
    "df_p = select(df, rev, taobao_id, updated_time_rel) %>% filter(taobao_id == i) %>% arrange(updated_time_rel)\n",
    "df_p$updated_time_rel = as.numeric(df_p$updated_time_rel)\n",
    "\n",
    "s = full_seq(df_p$updated_time_rel, 1) # fill in missing dates\n",
    "rev_day_p_c = data.frame(rep(i,length(s)), s)\n",
    "colnames(rev_day_p_c) = c('taobao_id','updated_time_rel')\n",
    "\n",
    "df_p = left_join(rev_day_p_c, df_p, by = c(\"taobao_id\", \"updated_time_rel\"))\n",
    "df_p = fill(df_p, rev) # imputing revenues on missing days by the previous value\n",
    "\n",
    "rev_day_p = vector()\n",
    "\n",
    "for (j in 1:nrow(df_p)) {\n",
    "\n",
    "  rev_day_p[j] = ifelse( # imputing daily revenue\n",
    "    df_p$updated_time_rel[j] == 0,\n",
    "    df_p$rev[1]/30,\n",
    "    ifelse(df_p$updated_time_rel[j] < 30,\n",
    "                               df_p$rev[j] - df_p$rev[j-1] + df_p$rev[1]/30,\n",
    "                               df_p$rev[j] - df_p$rev[j-1] + rev_day_p[j-30]\n",
    "                               ))\n",
    "}\n",
    "\n",
    "df_p$rev_day = rev_day_p\n",
    "\n",
    "rev_day = rbind(rev_day, df_p)\n",
    "\n",
    "}"
   ]
  },
  {
   "cell_type": "code",
   "execution_count": 22,
   "id": "14b8fe92-6d83-480b-97c0-d1cff2bb6f5d",
   "metadata": {},
   "outputs": [],
   "source": [
    "df$updated_time_rel = as.numeric(df$updated_time_rel)\n",
    "\n",
    "df_day = left_join(rev_day, \n",
    "                     select(df, -rev), by = c('taobao_id','updated_time_rel')) %>% drop_na"
   ]
  },
  {
   "cell_type": "code",
   "execution_count": 23,
   "id": "c966a353-bf0f-48b9-af73-557d372434b5",
   "metadata": {},
   "outputs": [],
   "source": [
    "df_day_treat = filter(df_day, taobao_id %in% treat_id)\n",
    "df_day_control = filter(df_day, !(taobao_id %in% treat_id))\n",
    "df_day_control$treated = 0"
   ]
  },
  {
   "cell_type": "code",
   "execution_count": 24,
   "id": "e8cb9bd2-62bb-4dbf-bbaa-1e86750006e2",
   "metadata": {},
   "outputs": [],
   "source": [
    "tau = vector()\n",
    "gamma = vector()\n",
    "r2 = vector()\n",
    "r2_adj = vector()\n",
    "  \n",
    "for (i in seq(1,length(treat_id))) { # loop over all treated products\n",
    "        \n",
    "    df_day_treat_i = filter(df_day_treat, taobao_id == treat_id[[i]])\n",
    "    df_day_i = rbind(df_day_treat_i, df_day_control)\n",
    "    \n",
    "    model = felm(rev_day ~ \n",
    "                   + treated + search                 \n",
    "                 |as.factor(updated_time) + as.factor(taobao_id)|0|taobao_id + updated_time,\n",
    "                 df_day_i\n",
    "    )\n",
    "    \n",
    "    tau[i] = as.numeric(coef(summary(model))[1,1])\n",
    "    gamma[i] = as.numeric(coef(summary(model))[2,1])\n",
    "    r2[i] = summary(model)$r2\n",
    "    r2_adj[i] = summary(model)$r2adj\n",
    "    \n",
    "  }"
   ]
  },
  {
   "cell_type": "code",
   "execution_count": 25,
   "id": "4a181704-6de9-42b0-9b86-73c6c2a5927a",
   "metadata": {},
   "outputs": [],
   "source": [
    "d = data.frame(taobao_id = treat_id, tau = tau, gamma = gamma, r2 = r2, r2_adj = r2_adj)\n",
    "\n",
    "d = left_join(d, \n",
    "              df %>% \n",
    "              distinct(taobao_id, .keep_all = T) %>% \n",
    "              select(taobao_id,\n",
    "                            pe_score, p_score, e_score, like, comment, share, len,\n",
    "                               price, discount, avg_search, category,\n",
    "                               gender,fans,avg_play,influencer_price,expected_cpm,order_cnt, influencer_id, len,\n",
    "                               pe_score_like, pe_score_comment, pe_score_unsup, e_score_like, e_score_comment, e_score_unsup), by = 'taobao_id')"
   ]
  },
  {
   "cell_type": "code",
   "execution_count": 26,
   "id": "adc7379b-d04c-4ea0-9ee4-f5fb6fde6978",
   "metadata": {},
   "outputs": [],
   "source": [
    "# normalize the engagement scores\n",
    "d = d %>% mutate(e_score_like = (e_score_like-min(e_score_like))/(max(e_score_like)-min(e_score_like)),\n",
    "                e_score_comment = (e_score_comment-min(e_score_comment))/(max(e_score_comment)-min(e_score_comment)),\n",
    "                e_score_unsup = (e_score_unsup-min(e_score_unsup))/(max(e_score_unsup)-min(e_score_unsup)))"
   ]
  },
  {
   "cell_type": "code",
   "execution_count": 27,
   "id": "6a300faf-a82b-423a-a6ec-f062e233cb44",
   "metadata": {},
   "outputs": [
    {
     "name": "stdout",
     "output_type": "stream",
     "text": [
      "\n",
      "==============================================================\n",
      "                                     Dependent variable:      \n",
      "                               -------------------------------\n",
      "                                             tau              \n",
      "                                  (1)        (2)        (3)   \n",
      "--------------------------------------------------------------\n",
      "pe_score_like                   119.36*                       \n",
      "                                (53.21)                       \n",
      "                                                              \n",
      "pe_score_comment                           164.78*            \n",
      "                                           (66.83)            \n",
      "                                                              \n",
      "pe_score_unsup                                         12.20  \n",
      "                                                      (30.88) \n",
      "                                                              \n",
      "p_score                          -26.76     29.48      49.92  \n",
      "                                (57.17)    (59.39)    (63.98) \n",
      "                                                              \n",
      "gender                            5.86       5.89      7.56   \n",
      "                                 (6.48)     (6.46)    (6.46)  \n",
      "                                                              \n",
      "fans                              0.62       0.34      0.58   \n",
      "                                 (1.52)     (1.52)    (1.54)  \n",
      "                                                              \n",
      "avg_play                          0.64       0.45      0.22   \n",
      "                                 (2.38)     (2.36)    (2.40)  \n",
      "                                                              \n",
      "influencer_price                 -72.73     -49.75    -71.10  \n",
      "                                (185.76)   (186.36)  (188.99) \n",
      "                                                              \n",
      "expected_cpm                      9.87       9.93      5.36   \n",
      "                                (44.60)    (44.46)    (44.86) \n",
      "                                                              \n",
      "order_cnt                        -0.01      -0.003     -0.02  \n",
      "                                 (0.18)     (0.18)    (0.18)  \n",
      "                                                              \n",
      "avg_search                       -3.28      -3.48      -4.40  \n",
      "                                 (7.23)     (7.24)    (7.27)  \n",
      "                                                              \n",
      "price                            0.002      0.002      0.002  \n",
      "                                 (0.01)     (0.01)    (0.01)  \n",
      "                                                              \n",
      "discount                         -0.003     -0.003    -0.003  \n",
      "                                (0.005)    (0.005)    (0.005) \n",
      "                                                              \n",
      "e_score_like                     -5.35                        \n",
      "                                (22.84)                       \n",
      "                                                              \n",
      "e_score_comment                             -6.26             \n",
      "                                           (27.10)            \n",
      "                                                              \n",
      "e_score_unsup                                          -5.92  \n",
      "                                                      (31.18) \n",
      "                                                              \n",
      "p_score:e_score_like             31.14                        \n",
      "                                (98.74)                       \n",
      "                                                              \n",
      "p_score:e_score_comment                     -61.26            \n",
      "                                           (111.44)           \n",
      "                                                              \n",
      "p_score:e_score_unsup                                 -90.94  \n",
      "                                                     (118.93) \n",
      "                                                              \n",
      "--------------------------------------------------------------\n",
      "Observations                      259        259        259   \n",
      "R2                                0.05       0.06      0.04   \n",
      "Adjusted R2                      -0.04      -0.03      -0.05  \n",
      "Residual Std. Error (df = 236)   48.46      48.31      48.78  \n",
      "==============================================================\n",
      "Note:                            *p<0.05; **p<0.01; ***p<0.001\n"
     ]
    }
   ],
   "source": [
    "m6_like = felm(tau ~ 0 +\n",
    "          pe_score_like\n",
    "             + p_score*e_score_like                   \n",
    "             + avg_search \n",
    "               + price\n",
    "               + discount\n",
    "               + fans\n",
    "               + avg_play\n",
    "               + influencer_price\n",
    "               + expected_cpm\n",
    "               + order_cnt \n",
    "               + gender\n",
    "             | category\n",
    "                 , d %>% mutate(\n",
    "                     fans = fans/1000000,\n",
    "                                avg_play = avg_play/1000000,\n",
    "                               influencer_price = influencer_price/1000000,\n",
    "                               expected_cpm = expected_cpm/1000000))\n",
    "\n",
    "m6_comment = felm(tau ~ \n",
    "              + pe_score_comment\n",
    "                + p_score*e_score_comment\n",
    "             + avg_search \n",
    "               + price\n",
    "               + discount\n",
    "               + fans\n",
    "               + avg_play\n",
    "               + influencer_price\n",
    "               + expected_cpm\n",
    "               + order_cnt \n",
    "               + gender\n",
    "             | category\n",
    "                 , d %>% mutate(\n",
    "                     fans = fans/1000000,\n",
    "                                avg_play = avg_play/1000000,\n",
    "                               influencer_price = influencer_price/1000000,\n",
    "                               expected_cpm = expected_cpm/1000000))\n",
    "\n",
    "m6_unsup = felm(tau ~ \n",
    "          + pe_score_unsup\n",
    "             + p_score*e_score_unsup\n",
    "             + avg_search \n",
    "               + price\n",
    "               + discount\n",
    "               + fans\n",
    "               + avg_play\n",
    "               + influencer_price\n",
    "               + expected_cpm\n",
    "               + order_cnt \n",
    "               + gender\n",
    "             | category\n",
    "                 , d %>% mutate(\n",
    "                     fans = fans/1000000,\n",
    "                                avg_play = avg_play/1000000,\n",
    "                               influencer_price = influencer_price/1000000,\n",
    "                               expected_cpm = expected_cpm/1000000))\n",
    "\n",
    "vars.order = c(\"pe_score_like\", \"pe_score_comment\", \"pe_score_unsup\",\n",
    "               \"e_score\", \"p_score\", \"p_score:e_score\", \n",
    "               \"gender\", \"fans\",\"avg_play\",\"influencer_price\",\"expected_cpm\",\"order_cnt\",\n",
    "               \"avg_search\", \"price\", \"discount\")\n",
    "\n",
    "stargazer(m6_like, m6_comment, m6_unsup,\n",
    "          digits = 2,\n",
    "          type = 'text',\n",
    "          star.cutoffs = c(.05, .01, .001),\n",
    "          order=paste0(\"^\", vars.order , \"$\")\n",
    "         )"
   ]
  },
  {
   "cell_type": "markdown",
   "id": "082dc5f5-b538-4a43-aa71-dad2d75ae6ef",
   "metadata": {},
   "source": [
    "#### Table H.2"
   ]
  },
  {
   "cell_type": "code",
   "execution_count": 28,
   "id": "586c53af-0e62-4002-b0fd-9a2488fa35cd",
   "metadata": {},
   "outputs": [],
   "source": [
    "d$p_times_e_score = d$p_score * d$e_score"
   ]
  },
  {
   "cell_type": "code",
   "execution_count": 29,
   "id": "d7f1c3da-cbdc-4a6f-8bff-1e3ef8116c3d",
   "metadata": {},
   "outputs": [],
   "source": [
    "d$p_times_e_score_like = d$p_score * d$e_score_like\n",
    "d$p_times_e_score_comment = d$p_score * d$e_score_comment\n",
    "d$p_times_e_score_unsup = d$p_score * d$e_score_unsup"
   ]
  },
  {
   "cell_type": "code",
   "execution_count": 30,
   "id": "92d4d3fa-79d9-4e8b-988b-d7e8e3f050af",
   "metadata": {},
   "outputs": [
    {
     "name": "stdout",
     "output_type": "stream",
     "text": [
      "\n",
      "====================================\n",
      "Feature        Gain  Cover Frequency\n",
      "------------------------------------\n",
      "pe_score_like 0.876  0.256   0.318  \n",
      "discount      0.043  0.188   0.205  \n",
      "p_score       0.041  0.370   0.205  \n",
      "fans          0.020  0.139   0.091  \n",
      "order_cnt     0.013  0.019   0.045  \n",
      "avg_search    0.006  0.011   0.023  \n",
      "price         0.001  0.009   0.023  \n",
      "gender        0.0004 0.002   0.023  \n",
      "e_score_like  0.0003 0.003   0.023  \n",
      "expected_cpm  0.0002 0.002   0.023  \n",
      "------------------------------------\n"
     ]
    }
   ],
   "source": [
    "set.seed(101)\n",
    "\n",
    "x <- sparse.model.matrix(tau ~ ., data = select(d, tau, pe_score_like, \n",
    "                                                p_score, e_score_like, p_times_e_score_like,\n",
    "                                                 fans, avg_play, influencer_price, expected_cpm, order_cnt,gender,\n",
    "                                                    avg_search, price, discount, category,\n",
    "\n",
    "\n",
    "                                                           ) %>% drop_na)[,-1]\n",
    "\n",
    "xgb = xgboost(data = as.matrix(x), \n",
    "              label = d$tau[!is.na(d$tau)], nround = 2, verbose = 0)\n",
    "\n",
    "xgb.importance(model = xgb) %>% top_n(10, Gain) %>% stargazer(summary=FALSE, rownames=FALSE, type = 'text')"
   ]
  },
  {
   "cell_type": "code",
   "execution_count": 31,
   "id": "964b08f8-8e7f-4d67-8c60-18d985eba605",
   "metadata": {},
   "outputs": [
    {
     "name": "stdout",
     "output_type": "stream",
     "text": [
      "\n",
      "=============================================\n",
      "Feature                 Gain  Cover Frequency\n",
      "---------------------------------------------\n",
      "pe_score_comment        0.908 0.184   0.364  \n",
      "p_score                 0.030 0.171   0.152  \n",
      "e_score_comment         0.017 0.167   0.121  \n",
      "discount                0.015 0.016   0.091  \n",
      "order_cnt               0.010 0.153   0.061  \n",
      "fans                    0.007 0.002   0.030  \n",
      "avg_search              0.006 0.075   0.030  \n",
      "p_times_e_score_comment 0.004 0.082   0.061  \n",
      "categoryClothing        0.003 0.070   0.030  \n",
      "expected_cpm            0.002 0.076   0.030  \n",
      "---------------------------------------------\n"
     ]
    }
   ],
   "source": [
    "set.seed(101)\n",
    "\n",
    "x <- sparse.model.matrix(tau ~ ., data = select(d, tau,\n",
    "                                                                                    pe_score_comment,\n",
    "                                                                                                            p_score, e_score_comment, p_times_e_score_comment,\n",
    "                                                 fans, avg_play, influencer_price, expected_cpm, order_cnt,gender,\n",
    "\n",
    "                                                    avg_search, price, discount, category,\n",
    "\n",
    "\n",
    "                                                           ) %>% drop_na)[,-1]\n",
    "\n",
    "xgb = xgboost(data = as.matrix(x), \n",
    "              label = d$tau[!is.na(d$tau)], nround = 2, verbose = 0)\n",
    "\n",
    "xgb.importance(model = xgb) %>% top_n(10, Gain) %>% stargazer(summary=FALSE, rownames=FALSE, type = 'text')"
   ]
  },
  {
   "cell_type": "code",
   "execution_count": 32,
   "id": "f1bca701-503e-4715-a0d4-81e8b14760a0",
   "metadata": {},
   "outputs": [
    {
     "name": "stdout",
     "output_type": "stream",
     "text": [
      "\n",
      "=====================================\n",
      "Feature         Gain  Cover Frequency\n",
      "-------------------------------------\n",
      "avg_play       0.863  0.208   0.194  \n",
      "expected_cpm   0.057  0.165   0.161  \n",
      "p_score        0.028  0.154   0.129  \n",
      "e_score_unsup  0.026  0.147   0.097  \n",
      "pe_score_unsup 0.017  0.282   0.194  \n",
      "fans           0.010  0.002   0.065  \n",
      "discount       0.0004 0.018   0.065  \n",
      "avg_search     0.0002 0.017   0.065  \n",
      "categoryMakeup 0.0001 0.008   0.032  \n",
      "-------------------------------------\n"
     ]
    }
   ],
   "source": [
    "set.seed(101)\n",
    "\n",
    "x <- sparse.model.matrix(tau ~ ., data = select(d, tau,\n",
    "                                                                                    pe_score_unsup,\n",
    "                                                                                                            p_score, e_score_unsup, p_times_e_score_unsup,\n",
    "                                                 fans, avg_play, influencer_price, expected_cpm, order_cnt,gender,\n",
    "\n",
    "                                                    avg_search, price, discount, category,\n",
    "\n",
    "\n",
    "                                                           ) %>% drop_na)[,-1]\n",
    "\n",
    "xgb = xgboost(data = as.matrix(x), \n",
    "              label = d$tau[!is.na(d$tau)], nround = 2, verbose = 0)\n",
    "\n",
    "xgb.importance(model = xgb) %>% top_n(10, Gain) %>% stargazer(summary=FALSE, rownames=FALSE, type = 'text')"
   ]
  },
  {
   "cell_type": "markdown",
   "id": "ccd76235-685f-4f04-82b7-731c8ad82548",
   "metadata": {},
   "source": [
    "#### Table H.3"
   ]
  },
  {
   "cell_type": "markdown",
   "id": "f7fb3b80-c78d-4289-b7fe-ad7e1c4dacb9",
   "metadata": {},
   "source": [
    "##### excluding products with ads 30 days prior from control group"
   ]
  },
  {
   "cell_type": "code",
   "execution_count": 33,
   "id": "7a7b964c-2733-4b93-bc19-01e212256338",
   "metadata": {},
   "outputs": [],
   "source": [
    "# select control products that had video ads posted more than 30 days ago\n",
    "df_day_control_30day = df_day_control %>% \n",
    "group_by(taobao_id) %>% \n",
    "mutate(updated_time_min = min(updated_time),\n",
    "      diff = updated_time_min - video_posted_time) %>%\n",
    "filter(diff >= 30) %>% \n",
    "select(-diff, -updated_time_min)"
   ]
  },
  {
   "cell_type": "code",
   "execution_count": 34,
   "id": "2c640ce6-8705-4e92-bebf-6fe9e77701ec",
   "metadata": {},
   "outputs": [
    {
     "data": {
      "text/html": [
       "357"
      ],
      "text/latex": [
       "357"
      ],
      "text/markdown": [
       "357"
      ],
      "text/plain": [
       "[1] 357"
      ]
     },
     "metadata": {},
     "output_type": "display_data"
    }
   ],
   "source": [
    "n_distinct(df_day_control_30day$taobao_id)"
   ]
  },
  {
   "cell_type": "code",
   "execution_count": 35,
   "id": "1dfb38ce-fd62-4cc3-8fcf-0a5285dab73a",
   "metadata": {},
   "outputs": [],
   "source": [
    "tau_30day = vector()\n",
    "gamma_30day = vector()\n",
    "  \n",
    "for (i in seq(1,length(treat_id))) {\n",
    "        \n",
    "    df_day_treat_i = filter(df_day_treat, taobao_id == treat_id[[i]])\n",
    "    df_day_i = rbind(df_day_treat_i, df_day_control_30day)\n",
    "    \n",
    "    model = felm(rev_day ~\n",
    "                   + treated + search                 \n",
    "                 |as.factor(updated_time) + as.factor(taobao_id)|0|taobao_id + updated_time,\n",
    "                 df_day_i\n",
    "    )\n",
    "    \n",
    "    tau_30day[i] = as.numeric(coef(summary(model))[1,1])\n",
    "    gamma_30day[i] = as.numeric(coef(summary(model))[2,1])\n",
    "    \n",
    "  }"
   ]
  },
  {
   "cell_type": "code",
   "execution_count": 36,
   "id": "fa6a6e7b-5694-4806-85ee-a070f61e0a04",
   "metadata": {},
   "outputs": [
    {
     "data": {
      "text/plain": [
       "\n",
       "\tOne Sample t-test\n",
       "\n",
       "data:  tau_30day\n",
       "t = 0.5204, df = 258, p-value = 0.6032\n",
       "alternative hypothesis: true mean is not equal to 0\n",
       "95 percent confidence interval:\n",
       " -4.313204  7.411736\n",
       "sample estimates:\n",
       "mean of x \n",
       " 1.549266 \n"
      ]
     },
     "metadata": {},
     "output_type": "display_data"
    }
   ],
   "source": [
    "t.test(tau_30day)"
   ]
  },
  {
   "cell_type": "code",
   "execution_count": 37,
   "id": "150c8786-eca7-46fe-81d8-d0969b5c07f5",
   "metadata": {},
   "outputs": [],
   "source": [
    "d$tau_30day = tau_30day"
   ]
  },
  {
   "cell_type": "markdown",
   "id": "e4234fd3-162b-4496-91e7-7524f3bd7fd3",
   "metadata": {},
   "source": [
    "##### including only not-yet-treated products in control group"
   ]
  },
  {
   "cell_type": "code",
   "execution_count": 38,
   "id": "3041ee51-3191-4541-a896-a56397a04130",
   "metadata": {},
   "outputs": [],
   "source": [
    "date = as.Date('2019-06-01')\n",
    "\n",
    "df_day_treat_control = df_day_treat %>% # select products not yet treated by 2019/06/01 as controls\n",
    "filter(video_posted_time >= date) %>%\n",
    "filter(updated_time < video_posted_time)\n",
    "df_day_treat_control$treated = 0\n",
    "\n",
    "df_day_treat_treat = df_day_treat %>% \n",
    "filter(video_posted_time < date)\n",
    "\n",
    "treat_id_treat = unique(df_day_treat_treat$taobao_id)"
   ]
  },
  {
   "cell_type": "code",
   "execution_count": 39,
   "id": "919178d3-b378-4ac4-9201-ec4c9773a6b1",
   "metadata": {},
   "outputs": [
    {
     "data": {
      "text/html": [
       "259"
      ],
      "text/latex": [
       "259"
      ],
      "text/markdown": [
       "259"
      ],
      "text/plain": [
       "[1] 259"
      ]
     },
     "metadata": {},
     "output_type": "display_data"
    }
   ],
   "source": [
    "n_distinct(df_day_treat$taobao_id)"
   ]
  },
  {
   "cell_type": "code",
   "execution_count": 40,
   "id": "fbd26eb9-4d31-4b44-b40f-e09421cd6c1d",
   "metadata": {},
   "outputs": [
    {
     "data": {
      "text/html": [
       "146"
      ],
      "text/latex": [
       "146"
      ],
      "text/markdown": [
       "146"
      ],
      "text/plain": [
       "[1] 146"
      ]
     },
     "metadata": {},
     "output_type": "display_data"
    },
    {
     "data": {
      "text/html": [
       "113"
      ],
      "text/latex": [
       "113"
      ],
      "text/markdown": [
       "113"
      ],
      "text/plain": [
       "[1] 113"
      ]
     },
     "metadata": {},
     "output_type": "display_data"
    }
   ],
   "source": [
    "n_distinct(df_day_treat_treat$taobao_id)\n",
    "n_distinct(df_day_treat_control$taobao_id)"
   ]
  },
  {
   "cell_type": "code",
   "execution_count": 41,
   "id": "01aafaf5-c5ee-4707-9931-a227a94fd1b0",
   "metadata": {},
   "outputs": [],
   "source": [
    "tau_treat = vector()\n",
    "gamma_treat = vector()\n",
    "  \n",
    "  for (i in seq(1,length(treat_id_treat))) {\n",
    "        \n",
    "    df_day_treat_i = filter(df_day_treat_treat, taobao_id == treat_id_treat[[i]])\n",
    "      \n",
    "    df_day_i = rbind(df_day_treat_i, df_day_treat_control)\n",
    "    \n",
    "    model = felm(rev_day ~\n",
    "                   + treated + search                 \n",
    "                 |as.factor(updated_time) + as.factor(taobao_id)|0|taobao_id + updated_time,\n",
    "                 df_day_i\n",
    "    )\n",
    "    \n",
    "    tau_treat[i] = as.numeric(coef(summary(model))[1,1])\n",
    "    gamma_treat[i] = as.numeric(coef(summary(model))[2,1])\n",
    "    \n",
    "  }"
   ]
  },
  {
   "cell_type": "code",
   "execution_count": 42,
   "id": "91600a40-63ae-45eb-af98-0e97edd750ce",
   "metadata": {},
   "outputs": [
    {
     "data": {
      "text/plain": [
       "\n",
       "\tOne Sample t-test\n",
       "\n",
       "data:  tau_treat\n",
       "t = 0.91325, df = 139, p-value = 0.3627\n",
       "alternative hypothesis: true mean is not equal to 0\n",
       "95 percent confidence interval:\n",
       " -13.79222  37.47021\n",
       "sample estimates:\n",
       "mean of x \n",
       "   11.839 \n"
      ]
     },
     "metadata": {},
     "output_type": "display_data"
    }
   ],
   "source": [
    "t.test(tau_treat)"
   ]
  },
  {
   "cell_type": "code",
   "execution_count": 43,
   "id": "57a46330-1ba2-417f-9115-0f5b630c1905",
   "metadata": {},
   "outputs": [],
   "source": [
    "d2 = data.frame(taobao_id = treat_id_treat, \n",
    "               tau_treat)\n",
    "d = left_join(d, d2, by = 'taobao_id')"
   ]
  },
  {
   "cell_type": "markdown",
   "id": "44547472-a408-421d-95f8-18e110d1343c",
   "metadata": {},
   "source": [
    "##### recode treatment as 1 only on the day of treatment (no carryover)"
   ]
  },
  {
   "cell_type": "code",
   "execution_count": 44,
   "id": "2a145f23-f413-40cb-b464-d2d2b246f676",
   "metadata": {},
   "outputs": [],
   "source": [
    "df_day_treat = mutate(df_day_treat, treated2 = ifelse(updated_time == video_posted_time, 1, 0))\n",
    "df_day_control$treated2 = 0"
   ]
  },
  {
   "cell_type": "code",
   "execution_count": 45,
   "id": "7e3526f7-5dec-4b10-8f6c-eb4d47407261",
   "metadata": {},
   "outputs": [],
   "source": [
    "tau_no_carryover = vector()\n",
    "gamma_no_carryover = vector()\n",
    "  \n",
    "for (i in seq(1,length(treat_id))) {\n",
    "        \n",
    "    df_day_treat_i = filter(df_day_treat, taobao_id == treat_id[[i]])\n",
    "    df_day_i = rbind(df_day_treat_i, df_day_control)\n",
    "    \n",
    "    model = felm(rev_day ~ \n",
    "                   + treated2 + search                 \n",
    "                 |as.factor(updated_time) + as.factor(taobao_id)|0|taobao_id + updated_time,\n",
    "                 df_day_i\n",
    "    )\n",
    "    \n",
    "    tau_no_carryover[i] = as.numeric(coef(summary(model))[1,1])\n",
    "    gamma_no_carryover[i] = as.numeric(coef(summary(model))[2,1])\n",
    "    \n",
    "  }"
   ]
  },
  {
   "cell_type": "code",
   "execution_count": 46,
   "id": "8bca121d-6083-41d8-a77c-7e5f0748e5a9",
   "metadata": {},
   "outputs": [
    {
     "data": {
      "text/plain": [
       "\n",
       "\tOne Sample t-test\n",
       "\n",
       "data:  tau_no_carryover\n",
       "t = 0.99799, df = 190, p-value = 0.3196\n",
       "alternative hypothesis: true mean is not equal to 0\n",
       "95 percent confidence interval:\n",
       " -51.11474 155.80384\n",
       "sample estimates:\n",
       "mean of x \n",
       " 52.34455 \n"
      ]
     },
     "metadata": {},
     "output_type": "display_data"
    }
   ],
   "source": [
    "t.test(tau_no_carryover)"
   ]
  },
  {
   "cell_type": "code",
   "execution_count": 47,
   "id": "2a7c0345-65d7-4720-b0e1-ccf4b5a84ef4",
   "metadata": {},
   "outputs": [],
   "source": [
    "d2 = data.frame(taobao_id = treat_id, \n",
    "               tau_no_carryover)\n",
    "d = left_join(d, d2, by = 'taobao_id')"
   ]
  },
  {
   "cell_type": "code",
   "execution_count": 48,
   "id": "eb878535-d3bb-48db-88ae-3ddd6e6a85d3",
   "metadata": {},
   "outputs": [
    {
     "name": "stdout",
     "output_type": "stream",
     "text": [
      "\n",
      "========================================================================\n",
      "                                    Dependent variable:                 \n",
      "                    ----------------------------------------------------\n",
      "                       tau_30day         tau_treat     tau_no_carryover \n",
      "                          (1)               (2)               (3)       \n",
      "------------------------------------------------------------------------\n",
      "pe_score               102.59***         511.25***        1,737.00**    \n",
      "                        (29.12)          (141.52)          (522.41)     \n",
      "                                                                        \n",
      "e_score                  -2.97            148.79            438.64      \n",
      "                        (32.60)          (157.06)          (567.62)     \n",
      "                                                                        \n",
      "p_score                 -109.94           -207.46           -649.23     \n",
      "                        (81.04)          (390.44)         (1,382.84)    \n",
      "                                                                        \n",
      "p_score:e_score          113.34           -146.20           -697.25     \n",
      "                        (158.02)         (751.80)         (2,692.97)    \n",
      "                                                                        \n",
      "gender                    5.74             1.55              31.95      \n",
      "                         (6.41)           (29.22)          (116.21)     \n",
      "                                                                        \n",
      "fans                      0.18             -3.89            -10.13      \n",
      "                         (1.50)           (5.82)            (23.87)     \n",
      "                                                                        \n",
      "avg_play                  0.08             4.97              16.78      \n",
      "                         (2.34)           (11.33)           (51.47)     \n",
      "                                                                        \n",
      "influencer_price         -11.57           623.91           1,400.52     \n",
      "                        (184.97)         (838.31)         (3,207.84)    \n",
      "                                                                        \n",
      "expected_cpm             15.08             33.00             63.05      \n",
      "                        (44.16)          (146.78)          (680.53)     \n",
      "                                                                        \n",
      "order_cnt                 0.01             -0.67             -0.91      \n",
      "                         (0.18)           (0.98)            (3.22)      \n",
      "                                                                        \n",
      "avg_search               -3.44             -8.24            -11.32      \n",
      "                         (7.15)           (31.39)          (118.47)     \n",
      "                                                                        \n",
      "price                    0.003             0.04              0.17       \n",
      "                         (0.01)           (0.07)            (0.31)      \n",
      "                                                                        \n",
      "discount                 -0.002            -0.05             -0.21      \n",
      "                        (0.005)           (0.07)            (0.31)      \n",
      "                                                                        \n",
      "------------------------------------------------------------------------\n",
      "Observations              259               140               191       \n",
      "R2                        0.08             0.15              0.11       \n",
      "Adjusted R2              -0.003            -0.01             -0.01      \n",
      "Residual Std. Error 47.98 (df = 236) 153.83 (df = 117) 727.03 (df = 168)\n",
      "========================================================================\n",
      "Note:                                      *p<0.05; **p<0.01; ***p<0.001\n"
     ]
    }
   ],
   "source": [
    "m6_control1 = felm(tau_30day ~ \n",
    "               + pe_score \n",
    "             + p_score*e_score\n",
    "             + avg_search \n",
    "               + price\n",
    "               + discount\n",
    "               + fans\n",
    "               + avg_play\n",
    "               + influencer_price\n",
    "               + expected_cpm\n",
    "               + order_cnt \n",
    "               + gender\n",
    "             | category\n",
    "                 , d %>% mutate(\n",
    "                     fans = fans/1000000,\n",
    "                                avg_play = avg_play/1000000,\n",
    "                               influencer_price = influencer_price/1000000,\n",
    "                               expected_cpm = expected_cpm/1000000))\n",
    "\n",
    "m6_control2 = felm(tau_treat ~ \n",
    "               + pe_score \n",
    "             + p_score*e_score\n",
    "             + avg_search \n",
    "               + price\n",
    "               + discount\n",
    "               + fans\n",
    "               + avg_play\n",
    "               + influencer_price\n",
    "               + expected_cpm\n",
    "               + order_cnt \n",
    "               + gender\n",
    "             | category\n",
    "                 , d %>% mutate(\n",
    "                     fans = fans/1000000,\n",
    "                                avg_play = avg_play/1000000,\n",
    "                               influencer_price = influencer_price/1000000,\n",
    "                               expected_cpm = expected_cpm/1000000))\n",
    "\n",
    "m6_no_carryover = felm(tau_no_carryover ~ \n",
    "               + pe_score \n",
    "             + p_score*e_score\n",
    "             + avg_search \n",
    "               + price\n",
    "               + discount\n",
    "               + fans\n",
    "               + avg_play\n",
    "               + influencer_price\n",
    "               + expected_cpm\n",
    "               + order_cnt \n",
    "               + gender\n",
    "             | category\n",
    "                 , d %>% mutate(\n",
    "                     fans = fans/1000000,\n",
    "                                avg_play = avg_play/1000000,\n",
    "                               influencer_price = influencer_price/1000000,\n",
    "                               expected_cpm = expected_cpm/1000000))\n",
    "\n",
    "vars.order = c(\"pe_score\", \"e_score\", \"p_score\", \"p_score:e_score\", \"gender\", \"fans\",\"avg_play\",\"influencer_price\",\"expected_cpm\",\"order_cnt\", \"avg_search\", \"price\", \"discount\", \"Constant\")\n",
    "\n",
    "stargazer(m6_control1, m6_control2, m6_no_carryover,\n",
    "          digits = 2,\n",
    "          type = 'text',\n",
    "          star.cutoffs = c(.05, .01, .001),\n",
    "          order=paste0(\"^\", vars.order , \"$\")\n",
    "         )"
   ]
  },
  {
   "cell_type": "markdown",
   "id": "a06faf0a-b2c9-4da4-8564-084b4b0c94bc",
   "metadata": {
    "tags": []
   },
   "source": [
    "#### Table H.4"
   ]
  },
  {
   "cell_type": "code",
   "execution_count": 49,
   "id": "63ae392f-9263-4d95-b36b-4fe8e4f10e10",
   "metadata": {},
   "outputs": [
    {
     "name": "stdout",
     "output_type": "stream",
     "text": [
      "\n",
      "=========================================\n",
      "Feature             Gain  Cover Frequency\n",
      "-----------------------------------------\n",
      "pe_score            0.896 0.273   0.344  \n",
      "p_score             0.037 0.388   0.219  \n",
      "expected_cpm        0.036 0.091   0.094  \n",
      "e_score             0.020 0.012   0.188  \n",
      "discount            0.004 0.084   0.062  \n",
      "fans                0.004 0.142   0.062  \n",
      "categoryElectronics 0.003 0.010   0.031  \n",
      "-----------------------------------------\n"
     ]
    }
   ],
   "source": [
    "set.seed(101)\n",
    "\n",
    "x <- sparse.model.matrix(tau_30day ~ ., data = select(d, tau_30day,\n",
    "                                                      pe_score, p_score, e_score, p_times_e_score,\n",
    "                                                      fans, avg_play, influencer_price, expected_cpm, order_cnt,gender,\n",
    "                                                      avg_search, price, discount, category,\n",
    "                                                           ) %>% drop_na)[,-1]\n",
    "\n",
    "xgb = xgboost(data = as.matrix(x), \n",
    "              label = d$tau_30day[!is.na(d$tau_30day)], nround = 2, verbose = 0)\n",
    "\n",
    "xgb.importance(model = xgb) %>% top_n(10, Gain) %>% stargazer(summary = FALSE, rownames = FALSE, type = 'text')"
   ]
  },
  {
   "cell_type": "code",
   "execution_count": 50,
   "id": "3663555f-16ed-40d7-b8bd-2abb75bd5b98",
   "metadata": {
    "tags": []
   },
   "outputs": [
    {
     "name": "stdout",
     "output_type": "stream",
     "text": [
      "\n",
      "=======================================\n",
      "Feature           Gain  Cover Frequency\n",
      "---------------------------------------\n",
      "pe_score         0.991  0.185   0.192  \n",
      "discount         0.003  0.295   0.269  \n",
      "p_score          0.002  0.171   0.077  \n",
      "e_score          0.001  0.063   0.154  \n",
      "p_times_e_score  0.001  0.069   0.077  \n",
      "fans             0.001  0.010   0.038  \n",
      "influencer_price 0.001  0.117   0.115  \n",
      "avg_play         0.001  0.069   0.038  \n",
      "price            0.0001 0.020   0.038  \n",
      "---------------------------------------\n"
     ]
    }
   ],
   "source": [
    "set.seed(101)\n",
    "\n",
    "x <- sparse.model.matrix(tau_treat ~ ., data = select(d, tau_treat,\n",
    "                                                                                    pe_score,\n",
    "                                                                                                            p_score, e_score,p_times_e_score,\n",
    "                                                 fans, avg_play, influencer_price, expected_cpm, order_cnt,gender,\n",
    "\n",
    "                                                    avg_search, price, discount, category,\n",
    "\n",
    "\n",
    "                                                           ) %>% drop_na)[,-1]\n",
    "\n",
    "xgb = xgboost(data = as.matrix(x), \n",
    "              label = d$tau_treat[!is.na(d$tau_treat)], nround = 2, verbose = 0)\n",
    "\n",
    "xgb.importance(model = xgb) %>% top_n(10, Gain) %>% stargazer(summary=FALSE, rownames=FALSE, type = 'text')"
   ]
  },
  {
   "cell_type": "code",
   "execution_count": 51,
   "id": "4d0acc41-fde8-4c99-8549-f532eb7b4751",
   "metadata": {},
   "outputs": [
    {
     "name": "stdout",
     "output_type": "stream",
     "text": [
      "\n",
      "========================================\n",
      "Feature           Gain   Cover Frequency\n",
      "----------------------------------------\n",
      "pe_score          0.996  0.245   0.282  \n",
      "order_cnt         0.002  0.089   0.103  \n",
      "p_score           0.001  0.229   0.103  \n",
      "discount         0.0004  0.104   0.103  \n",
      "fans             0.0003  0.009   0.026  \n",
      "categoryClothing 0.0003  0.168   0.051  \n",
      "p_times_e_score  0.0002  0.008   0.026  \n",
      "e_score          0.0001  0.017   0.103  \n",
      "expected_cpm     0.00003 0.059   0.103  \n",
      "influencer_price 0.00003 0.059   0.077  \n",
      "----------------------------------------\n"
     ]
    }
   ],
   "source": [
    "set.seed(101)\n",
    "\n",
    "x <- sparse.model.matrix(tau_no_carryover ~ ., data = select(d, tau_no_carryover,\n",
    "                                                                                    pe_score,\n",
    "                                                                                                            p_score, e_score, p_times_e_score,\n",
    "                                                 fans, avg_play, influencer_price, expected_cpm, order_cnt,gender,\n",
    "\n",
    "                                                    avg_search, price, discount, category,\n",
    "\n",
    "\n",
    "                                                           ) %>% drop_na)[,-1]\n",
    "\n",
    "xgb = xgboost(data = as.matrix(x), \n",
    "              label = d$tau_no_carryover[!is.na(d$tau_no_carryover)], nround = 2, verbose = 0)\n",
    "\n",
    "xgb.importance(model = xgb) %>% top_n(10, Gain) %>% stargazer(summary=FALSE, rownames=FALSE, type = 'text')"
   ]
  },
  {
   "cell_type": "markdown",
   "id": "6ec05cbf-d474-4dcc-bd55-38cb2910da59",
   "metadata": {},
   "source": [
    "#### Table H.5"
   ]
  },
  {
   "cell_type": "markdown",
   "id": "cf86f5d7-3e62-41a7-af8a-1d1588b9be57",
   "metadata": {
    "tags": []
   },
   "source": [
    "##### initializing daily sales in proportion to search volume"
   ]
  },
  {
   "cell_type": "code",
   "execution_count": 52,
   "id": "4fad51c6-63e8-481f-8f38-c5c75f07f9b3",
   "metadata": {},
   "outputs": [],
   "source": [
    "search$updated_time = as.Date(search$updated_time)\n",
    "search$taobao_id = as.character(search$taobao_id)\n",
    "\n",
    "search2 = left_join(search, df %>% \n",
    "                   group_by(taobao_id) %>% \n",
    "                   arrange(taobao_id, updated_time) %>%\n",
    "                   mutate(updated_time_min = min(updated_time)) %>%\n",
    "                   select(taobao_id, updated_time_min) %>% \n",
    "                   distinct(taobao_id, .keep_all = T), \n",
    "                   by = 'taobao_id')\n",
    "\n",
    "search2$updated_time_rel = as.numeric(search2$updated_time - search2$updated_time_min)"
   ]
  },
  {
   "cell_type": "code",
   "execution_count": 53,
   "id": "faf49186-b983-40de-aa62-3279835503ba",
   "metadata": {},
   "outputs": [],
   "source": [
    "search3 = search2 %>% # calculate weight \n",
    "group_by(taobao_id) %>%\n",
    "filter(updated_time_rel > -30 & updated_time_rel < 1) "
   ]
  },
  {
   "cell_type": "code",
   "execution_count": 54,
   "id": "19aec464-8b0e-400d-bff4-31b8a2608d0d",
   "metadata": {},
   "outputs": [],
   "source": [
    "search3 = left_join(data.frame(taobao_id = rep(unique(search3$taobao_id), each = 30), \n",
    "               updated_time_rel = rep(seq(-29,0,1),n_distinct(search3$taobao_id))) %>% \n",
    "                    arrange(taobao_id, updated_time_rel), \n",
    "                    search3, \n",
    "                    by = c('taobao_id', 'updated_time_rel')) %>%\n",
    "group_by(taobao_id) %>%\n",
    "mutate(across(search, ~replace_na(., mean(., na.rm=TRUE))))"
   ]
  },
  {
   "cell_type": "code",
   "execution_count": 55,
   "id": "488d09ab-168e-4fd8-ac7b-69454aeba6e8",
   "metadata": {
    "tags": []
   },
   "outputs": [],
   "source": [
    "search3 = search3 %>% # calculate weight \n",
    "group_by(taobao_id) %>%\n",
    "mutate(weight = search/sum(search)) %>% \n",
    "mutate(weight = ifelse(is.na(weight), 1/30, weight)) %>%\n",
    "arrange(taobao_id, updated_time_rel) %>%\n",
    "select(taobao_id, updated_time_rel, weight)"
   ]
  },
  {
   "cell_type": "code",
   "execution_count": 56,
   "id": "b3a1d5b6-b88a-4d03-b548-1babf0928592",
   "metadata": {},
   "outputs": [],
   "source": [
    "# impute daily sales\n",
    "id = unique(df$taobao_id)   \n",
    "rev_day_alt1 = data.frame()\n",
    "\n",
    "for (i in id) {\n",
    "df_p = select(df, rev, taobao_id, updated_time, updated_time_rel) %>% filter(taobao_id == i) %>% arrange(updated_time_rel)\n",
    "df_p$updated_time_rel = as.numeric(df_p$updated_time_rel)\n",
    "\n",
    "s = full_seq(df_p$updated_time_rel, 1)\n",
    "rev_day_p_c = data.frame(rep(i,length(s)), s)\n",
    "colnames(rev_day_p_c) = c('taobao_id','updated_time_rel')\n",
    "\n",
    "df_p = left_join(rev_day_p_c, df_p, by = c(\"taobao_id\", \"updated_time_rel\"))\n",
    "df_p = fill(df_p, rev)\n",
    "\n",
    "rev_day_p = vector()\n",
    "\n",
    "for (j in 1:nrow(df_p)) {\n",
    "\n",
    "  rev_day_p[j] = \n",
    "    \n",
    "    ifelse(\n",
    "        \n",
    "    df_p$taobao_id %in% search3$taobao_id,    \n",
    "    \n",
    "    ifelse(\n",
    "\n",
    "      df_p$updated_time_rel[j] == 0,\n",
    "      df_p$rev[1] * filter(search3, taobao_id == i, updated_time_rel == 0) %>% pull(weight),\n",
    "              ifelse(df_p$updated_time_rel[j] < 30,\n",
    "                               df_p$rev[j] - df_p$rev[j-1] + df_p$rev[1] * filter(search3, taobao_id == i, updated_time_rel == j-30) %>% pull(weight),\n",
    "                               df_p$rev[j] - df_p$rev[j-1] + rev_day_p[j-30]\n",
    "                               )\n",
    "\n",
    "\n",
    "\n",
    "  ),\n",
    "    \n",
    "    ifelse(\n",
    "        df_p$updated_time_rel[j] == 0,\n",
    "        df_p$rev[1]/30,\n",
    "        ifelse(df_p$updated_time_rel[j] < 30,\n",
    "                                   df_p$rev[j] - df_p$rev[j-1] + df_p$rev[1]/30,\n",
    "                                   df_p$rev[j] - df_p$rev[j-1] + rev_day_p[j-30]\n",
    "                                   ))\n",
    "    )\n",
    "    \n",
    "    \n",
    "\n",
    "\n",
    "\n",
    "}\n",
    "\n",
    "df_p$rev_day = rev_day_p\n",
    "\n",
    "rev_day_alt1 = rbind(rev_day_alt1, df_p)\n",
    "\n",
    "}"
   ]
  },
  {
   "cell_type": "code",
   "execution_count": 57,
   "id": "1573ec9b-e02d-422a-8149-0840f0aa3169",
   "metadata": {},
   "outputs": [],
   "source": [
    "treat_id = unique(df_treat$taobao_id)\n",
    "\n",
    "df_day_alt1 = left_join(rev_day_alt1, \n",
    "                     select(df, -rev, -updated_time), by = c('taobao_id','updated_time_rel'))\n",
    "\n",
    "df_day_treat_alt1 = filter(df_day_alt1, taobao_id %in% treat_id) \n",
    "df_day_control_alt1 = filter(df_day_alt1, !(taobao_id %in% treat_id)) \n",
    "df_day_control_alt1$treated = 0"
   ]
  },
  {
   "cell_type": "code",
   "execution_count": 58,
   "id": "799cb8a8-368e-4fc0-928b-6f3d527a9c89",
   "metadata": {},
   "outputs": [],
   "source": [
    "tau_alt1 = vector()\n",
    "gamma_alt1 = vector()\n",
    "  \n",
    "for (i in seq(1,length(treat_id))) {\n",
    "        \n",
    "    df_day_treat_i = filter(df_day_treat_alt1, taobao_id == treat_id[[i]])\n",
    "    df_day_i = rbind(df_day_treat_i, df_day_control_alt1)\n",
    "    \n",
    "    model = felm(rev_day ~\n",
    "                   + treated + search                 \n",
    "                 |as.factor(updated_time) + as.factor(taobao_id)|0|taobao_id + updated_time,\n",
    "                 df_day_i\n",
    "    )\n",
    "    \n",
    "    tau_alt1[i] = as.numeric(coef(summary(model))[1,1])\n",
    "    gamma_alt1[i] = as.numeric(coef(summary(model))[2,1])\n",
    "    \n",
    "  }"
   ]
  },
  {
   "cell_type": "code",
   "execution_count": 59,
   "id": "eaec52d2-ef45-462c-a7bd-3ce3827ec1f3",
   "metadata": {},
   "outputs": [
    {
     "data": {
      "text/plain": [
       "\n",
       "\tOne Sample t-test\n",
       "\n",
       "data:  tau_alt1\n",
       "t = 0.67621, df = 258, p-value = 0.4995\n",
       "alternative hypothesis: true mean is not equal to 0\n",
       "95 percent confidence interval:\n",
       " -3.820142  7.815902\n",
       "sample estimates:\n",
       "mean of x \n",
       "  1.99788 \n"
      ]
     },
     "metadata": {},
     "output_type": "display_data"
    }
   ],
   "source": [
    "t.test(tau_alt1)"
   ]
  },
  {
   "cell_type": "code",
   "execution_count": 60,
   "id": "0a2cdd46-048d-4484-a4e4-9cd25ff593f5",
   "metadata": {
    "tags": []
   },
   "outputs": [],
   "source": [
    "d2 = data.frame(taobao_id = treat_id, tau_alt1 = tau_alt1)\n",
    "\n",
    "d = left_join(d, \n",
    "              d2, by = 'taobao_id')"
   ]
  },
  {
   "cell_type": "markdown",
   "id": "b6322b70-bb92-4adf-ae57-f261051d9df2",
   "metadata": {},
   "source": [
    "##### removing products with unusual search fluctuations"
   ]
  },
  {
   "cell_type": "code",
   "execution_count": 61,
   "id": "d19de79f-7f09-4341-bb1e-67467723add1",
   "metadata": {},
   "outputs": [],
   "source": [
    "df_first = df %>% group_by(taobao_id) %>% arrange(updated_time) %>% filter(row_number()==1) %>% select(taobao_id, updated_time) %>% rename(enter_time = updated_time)\n",
    "\n",
    "search2 = left_join(search, df_first, by = 'taobao_id') %>% filter(updated_time < enter_time) %>% group_by(taobao_id) %>% mutate(search_mean = mean(search), search_sd = sd(search)) %>% drop_na\n",
    "search2 = search2 %>% group_by(taobao_id) %>% mutate(unusual = ifelse(search <= search_mean - 1*search_sd | search >= search_mean + 1*search_sd, 1, 0)) # identify products with unusual search volumes \n",
    "\n",
    "unusual = search2 %>% group_by(taobao_id) %>% summarize(unusual = sum(unusual)) %>% filter(unusual > 0) %>% pull(taobao_id)\n",
    "df3 = df %>% filter(!taobao_id %in% unusual)"
   ]
  },
  {
   "cell_type": "code",
   "execution_count": 62,
   "id": "2b222cc5-dc81-4546-8b24-95a37d66f5ff",
   "metadata": {},
   "outputs": [],
   "source": [
    "# impute daily sales\n",
    "id = unique(df3$taobao_id)   \n",
    "rev_day_alt2 = data.frame()\n",
    "\n",
    "for (i in id) { # loop over all products \n",
    "df_p = select(df3, rev, taobao_id, updated_time_rel) %>% filter(taobao_id == i) %>% arrange(updated_time_rel)\n",
    "df_p$updated_time_rel = as.numeric(df_p$updated_time_rel)\n",
    "\n",
    "s = full_seq(df_p$updated_time_rel, 1) # fill in missing dates\n",
    "rev_day_p_c = data.frame(rep(i,length(s)), s)\n",
    "colnames(rev_day_p_c) = c('taobao_id','updated_time_rel')\n",
    "\n",
    "df_p = left_join(rev_day_p_c, df_p, by = c(\"taobao_id\", \"updated_time_rel\"))\n",
    "df_p = fill(df_p, rev) # imputing revenues on missing days by the previous value\n",
    "\n",
    "rev_day_p = vector()\n",
    "\n",
    "for (j in 1:nrow(df_p)) {\n",
    "\n",
    "  rev_day_p[j] = ifelse( # imputing daily revenue\n",
    "    df_p$updated_time_rel[j] == 0,\n",
    "    df_p$rev[1]/30,\n",
    "    ifelse(df_p$updated_time_rel[j] < 30,\n",
    "                               df_p$rev[j] - df_p$rev[j-1] + df_p$rev[1]/30,\n",
    "                               df_p$rev[j] - df_p$rev[j-1] + rev_day_p[j-30]\n",
    "                               ))\n",
    "}\n",
    "\n",
    "df_p$rev_day = rev_day_p\n",
    "\n",
    "rev_day_alt2 = rbind(rev_day_alt2, df_p)\n",
    "\n",
    "}"
   ]
  },
  {
   "cell_type": "code",
   "execution_count": 63,
   "id": "4d95f632-15be-4b83-8e8c-c74b06e89771",
   "metadata": {},
   "outputs": [],
   "source": [
    "df_day_alt2 = left_join(rev_day_alt2, \n",
    "                     select(df3, -rev), by = c('taobao_id','updated_time_rel'))\n",
    "\n",
    "df_day_treat2 = filter(df_day_alt2, taobao_id %in% unique(filter(df3, treated_mean != 1) %>% pull(taobao_id))) \n",
    "df_day_control2 = filter(df_day_alt2, !(taobao_id %in% unique(filter(df3, treated_mean != 1) %>% pull(taobao_id)))) \n",
    "df_day_control2$treated = 0\n",
    "                         \n",
    "treat_id_alt2 = unique(df_day_treat2$taobao_id)"
   ]
  },
  {
   "cell_type": "code",
   "execution_count": 64,
   "id": "c10ae97b-388d-4863-8ff8-ed3cf8230260",
   "metadata": {},
   "outputs": [
    {
     "data": {
      "text/html": [
       "243"
      ],
      "text/latex": [
       "243"
      ],
      "text/markdown": [
       "243"
      ],
      "text/plain": [
       "[1] 243"
      ]
     },
     "metadata": {},
     "output_type": "display_data"
    },
    {
     "data": {
      "text/html": [
       "2214"
      ],
      "text/latex": [
       "2214"
      ],
      "text/markdown": [
       "2214"
      ],
      "text/plain": [
       "[1] 2214"
      ]
     },
     "metadata": {},
     "output_type": "display_data"
    }
   ],
   "source": [
    "n_distinct(df_day_treat2$taobao_id)\n",
    "n_distinct(df_day_control2$taobao_id)"
   ]
  },
  {
   "cell_type": "code",
   "execution_count": 65,
   "id": "57858dc8-9f0e-4b38-8d64-29642a6dbbfd",
   "metadata": {},
   "outputs": [],
   "source": [
    "tau_alt2 = vector()\n",
    "gamma_alt2 = vector()\n",
    "  \n",
    "for (i in seq(1,length(treat_id_alt2))) {\n",
    "        \n",
    "    df_day_treat_i = filter(df_day_treat2, taobao_id == treat_id_alt2[[i]])\n",
    "    df_day_i = rbind(df_day_treat_i, df_day_control2)\n",
    "    \n",
    "    model = felm(rev_day ~\n",
    "                   + treated + search                 \n",
    "                 |as.factor(updated_time) + as.factor(taobao_id)|0|taobao_id + updated_time,\n",
    "                 df_day_i\n",
    "    )\n",
    "    \n",
    "    tau_alt2[i] = as.numeric(coef(summary(model))[1,1])\n",
    "    gamma_alt2[i] = as.numeric(coef(summary(model))[2,1])\n",
    "    \n",
    "  }"
   ]
  },
  {
   "cell_type": "code",
   "execution_count": 66,
   "id": "ada75d8f-4ce8-4afe-be2f-b261bdd9c5e2",
   "metadata": {},
   "outputs": [
    {
     "data": {
      "text/plain": [
       "\n",
       "\tOne Sample t-test\n",
       "\n",
       "data:  tau_alt2\n",
       "t = 0.73835, df = 242, p-value = 0.461\n",
       "alternative hypothesis: true mean is not equal to 0\n",
       "95 percent confidence interval:\n",
       " -3.856404  8.480789\n",
       "sample estimates:\n",
       "mean of x \n",
       " 2.312192 \n"
      ]
     },
     "metadata": {},
     "output_type": "display_data"
    }
   ],
   "source": [
    "t.test(tau_alt2)"
   ]
  },
  {
   "cell_type": "code",
   "execution_count": 67,
   "id": "10d8d990-6875-4e12-b6ac-6cbddc82444b",
   "metadata": {},
   "outputs": [],
   "source": [
    "d2 = data.frame(taobao_id = treat_id_alt2, tau_alt2 = tau_alt2)\n",
    "\n",
    "d = left_join(d, \n",
    "              d2, by = 'taobao_id')"
   ]
  },
  {
   "cell_type": "markdown",
   "id": "1a036b45-e556-47d2-a5a7-dabb66cb46b0",
   "metadata": {},
   "source": [
    "##### temporal disaggregration (Denton-Cholette method)"
   ]
  },
  {
   "cell_type": "code",
   "execution_count": 68,
   "id": "3becaec8-a7ce-433d-81f4-984216a4d95c",
   "metadata": {},
   "outputs": [],
   "source": [
    "# impute daily sales\n",
    "id = unique(df$taobao_id)\n",
    "rev_day_alt3 = data.frame()\n",
    "\n",
    "for (i in id) { # loop over all products \n",
    "    \n",
    "rev_td = df %>% \n",
    "    ungroup %>% \n",
    "    filter(taobao_id == i) %>% \n",
    "    select(rev, updated_time) %>% \n",
    "    rename(time = updated_time, value = rev) %>% \n",
    "    complete(time = seq.Date(from = floor_date(min(time), 'month'), \n",
    "                             to = max(max(time), min(time) + 30), by = \"day\")) %>% \n",
    "    fill(value, .direction = 'up') %>% \n",
    "    fill(value, .direction = 'down') %>% \n",
    "    filter(time %in% seq(from = min(time), by = 'month', length.out = 12))\n",
    "\n",
    "tryCatch({\n",
    "   p = predict(td(rev_td ~ 1, method = \"fast\", to = \"day\"))\n",
    "   p$taobao_id = i\n",
    "   rev_day_alt3 = rbind(rev_day_alt3, p)\n",
    "  }, error=function(e){})\n",
    "}"
   ]
  },
  {
   "cell_type": "code",
   "execution_count": 69,
   "id": "6bfa3f15-07df-4813-83c1-23dec917229e",
   "metadata": {},
   "outputs": [],
   "source": [
    "rev_day_alt3 = rev_day_alt3 %>% rename(updated_time = time, rev_day = value)\n",
    "df_day_alt3 = left_join(rev_day_alt3, \n",
    "                     df, by = c('taobao_id','updated_time')) %>% drop_na # the missing dates from the observed sale panel are dropped"
   ]
  },
  {
   "cell_type": "code",
   "execution_count": 70,
   "id": "2eeb4a96-80f4-470d-a3a3-19d76a555596",
   "metadata": {},
   "outputs": [],
   "source": [
    "df_day_treat3 = filter(df_day_alt3, taobao_id %in% treat_id)\n",
    "df_day_control3 = filter(df_day_alt3, !(taobao_id %in% treat_id))\n",
    "df_day_control3$treated = 0"
   ]
  },
  {
   "cell_type": "code",
   "execution_count": 71,
   "id": "546ab448-cfde-42c9-b426-f1133689af07",
   "metadata": {},
   "outputs": [],
   "source": [
    "tau_alt3 = vector()\n",
    "gamma_alt3 = vector()\n",
    "  \n",
    "for (i in seq(1,length(treat_id))) { # loop over all treated products\n",
    "        \n",
    "    df_day_treat_i = filter(df_day_treat3, taobao_id == treat_id[[i]])\n",
    "    df_day_i = rbind(df_day_treat_i, df_day_control3)\n",
    "    \n",
    "    model = felm(rev_day ~ \n",
    "                    treated + search                 \n",
    "                 |as.factor(updated_time) + as.factor(taobao_id)|0|taobao_id + updated_time,\n",
    "                 df_day_i\n",
    "    )\n",
    "    \n",
    "    tau_alt3[i] = as.numeric(coef(summary(model))[1,1])\n",
    "    gamma_alt3[i] = as.numeric(coef(summary(model))[2,1])    \n",
    "  }"
   ]
  },
  {
   "cell_type": "code",
   "execution_count": 72,
   "id": "5444157b-d13f-4d58-b6dd-4de58f6c4461",
   "metadata": {},
   "outputs": [
    {
     "data": {
      "text/plain": [
       "\n",
       "\tOne Sample t-test\n",
       "\n",
       "data:  tau_alt3\n",
       "t = -0.13197, df = 258, p-value = 0.8951\n",
       "alternative hypothesis: true mean is not equal to 0\n",
       "95 percent confidence interval:\n",
       " -3.621950  3.166985\n",
       "sample estimates:\n",
       " mean of x \n",
       "-0.2274827 \n"
      ]
     },
     "metadata": {},
     "output_type": "display_data"
    }
   ],
   "source": [
    "t.test(tau_alt3)"
   ]
  },
  {
   "cell_type": "code",
   "execution_count": 73,
   "id": "eae42df2-9086-42f8-a27b-f491d7618c69",
   "metadata": {},
   "outputs": [],
   "source": [
    "d2 = data.frame(taobao_id = treat_id, tau_alt3 = tau_alt3)\n",
    "d = left_join(d, \n",
    "              d2, by = 'taobao_id')"
   ]
  },
  {
   "cell_type": "code",
   "execution_count": 74,
   "id": "b01062e8-0507-486c-b077-b5b6d99b0fb2",
   "metadata": {
    "tags": []
   },
   "outputs": [
    {
     "name": "stdout",
     "output_type": "stream",
     "text": [
      "\n",
      "======================================================================\n",
      "                                   Dependent variable:                \n",
      "                    --------------------------------------------------\n",
      "                        tau_alt1         tau_alt2         tau_alt3    \n",
      "                          (1)              (2)              (3)       \n",
      "----------------------------------------------------------------------\n",
      "pe_score               100.79***        104.33***         55.08**     \n",
      "                        (28.92)          (30.01)          (16.77)     \n",
      "                                                                      \n",
      "e_score                  -2.46             4.13             3.32      \n",
      "                        (32.38)          (34.36)          (18.77)     \n",
      "                                                                      \n",
      "p_score                 -112.44          -112.65           -80.99     \n",
      "                        (80.50)          (84.75)          (46.66)     \n",
      "                                                                      \n",
      "p_score:e_score          126.29           119.69           67.02      \n",
      "                        (156.96)         (167.98)         (90.98)     \n",
      "                                                                      \n",
      "gender                    5.89             5.54            -0.50      \n",
      "                         (6.37)           (6.72)           (3.69)     \n",
      "                                                                      \n",
      "fans                      0.24            -0.65             0.23      \n",
      "                         (1.49)           (1.62)           (0.86)     \n",
      "                                                                      \n",
      "avg_play                  0.30             1.08             0.62      \n",
      "                         (2.32)           (2.43)           (1.35)     \n",
      "                                                                      \n",
      "influencer_price         -9.38            166.83           -82.13     \n",
      "                        (183.72)         (210.77)         (106.49)    \n",
      "                                                                      \n",
      "expected_cpm             13.09             9.38             8.56      \n",
      "                        (43.86)          (44.89)          (25.43)     \n",
      "                                                                      \n",
      "order_cnt                -0.01            -0.36            0.21*      \n",
      "                         (0.18)           (0.26)           (0.10)     \n",
      "                                                                      \n",
      "avg_search               -3.69            -12.73           -0.29      \n",
      "                         (7.11)           (9.80)           (4.12)     \n",
      "                                                                      \n",
      "price                    0.003            0.003           -0.0003     \n",
      "                         (0.01)           (0.01)          (0.003)     \n",
      "                                                                      \n",
      "discount                 -0.002           -0.003           -0.001     \n",
      "                        (0.005)          (0.005)          (0.003)     \n",
      "                                                                      \n",
      "----------------------------------------------------------------------\n",
      "Observations              259              243              259       \n",
      "R2                        0.08             0.10             0.09      \n",
      "Adjusted R2              -0.005            0.01             0.01      \n",
      "Residual Std. Error 47.66 (df = 236) 48.67 (df = 220) 27.62 (df = 236)\n",
      "======================================================================\n",
      "Note:                                    *p<0.05; **p<0.01; ***p<0.001\n"
     ]
    }
   ],
   "source": [
    "m6_alt1 = felm(tau_alt1 ~ \n",
    "               + pe_score \n",
    "             + p_score*e_score\n",
    "             + avg_search \n",
    "               + price\n",
    "               + discount\n",
    "               + fans\n",
    "               + avg_play\n",
    "               + influencer_price\n",
    "               + expected_cpm\n",
    "               + order_cnt \n",
    "               + gender\n",
    "              | category\n",
    "                 , d %>% mutate(\n",
    "                     fans = fans/1000000,\n",
    "                                avg_play = avg_play/1000000,\n",
    "                               influencer_price = influencer_price/1000000,\n",
    "                               expected_cpm = expected_cpm/1000000))\n",
    "\n",
    "m6_alt2 = felm(tau_alt2 ~ \n",
    "               + pe_score \n",
    "             + p_score*e_score\n",
    "             + avg_search \n",
    "               + price\n",
    "               + discount\n",
    "               + fans\n",
    "               + avg_play\n",
    "               + influencer_price\n",
    "               + expected_cpm\n",
    "               + order_cnt \n",
    "               + gender\n",
    "              | category\n",
    "                 , d %>% mutate(\n",
    "                     fans = fans/1000000,\n",
    "                                avg_play = avg_play/1000000,\n",
    "                               influencer_price = influencer_price/1000000,\n",
    "                               expected_cpm = expected_cpm/1000000))\n",
    "\n",
    "\n",
    "m6_alt3 = felm(tau_alt3 ~ \n",
    "               + pe_score \n",
    "             + p_score*e_score\n",
    "             + avg_search \n",
    "               + price\n",
    "               + discount\n",
    "               + fans\n",
    "               + avg_play\n",
    "               + influencer_price\n",
    "               + expected_cpm\n",
    "               + order_cnt \n",
    "               + gender\n",
    "              | category\n",
    "                 , d %>% mutate(\n",
    "                     fans = fans/1000000,\n",
    "                                avg_play = avg_play/1000000,\n",
    "                               influencer_price = influencer_price/1000000,\n",
    "                               expected_cpm = expected_cpm/1000000))\n",
    "\n",
    "vars.order = c(\"pe_score\", \"e_score\", \"p_score\", \"p_score:e_score\", \"gender\", \"fans\",\"avg_play\",\"influencer_price\",\"expected_cpm\",\"order_cnt\", \"avg_search\", \"price\", \"discount\", \"Constant\")\n",
    "\n",
    "stargazer(m6_alt1, m6_alt2, m6_alt3,\n",
    "          digits = 2,\n",
    "          type = 'text',\n",
    "          star.cutoffs = c(.05, .01, .001),\n",
    "          order=paste0(\"^\", vars.order , \"$\")\n",
    "         )"
   ]
  },
  {
   "cell_type": "markdown",
   "id": "715a51c6-5be3-4e4f-8870-6b531bd66316",
   "metadata": {},
   "source": [
    "#### Table H.6"
   ]
  },
  {
   "cell_type": "code",
   "execution_count": 75,
   "id": "1315fdf8-4a01-49cc-9a0d-c7d625b144c1",
   "metadata": {},
   "outputs": [
    {
     "name": "stdout",
     "output_type": "stream",
     "text": [
      "\n",
      "===================================\n",
      "Feature       Gain  Cover Frequency\n",
      "-----------------------------------\n",
      "pe_score     0.865  0.338   0.242  \n",
      "expected_cpm 0.044  0.075   0.091  \n",
      "p_score      0.027  0.329   0.152  \n",
      "e_score      0.025  0.006   0.091  \n",
      "discount     0.017  0.034   0.212  \n",
      "fans         0.013  0.070   0.091  \n",
      "avg_search   0.009  0.143   0.061  \n",
      "price        0.0002 0.002   0.030  \n",
      "order_cnt    0.0001 0.003   0.030  \n",
      "-----------------------------------\n"
     ]
    }
   ],
   "source": [
    "set.seed(101)\n",
    "\n",
    "x <- sparse.model.matrix(tau_alt1 ~ ., data = select(d, tau_alt1,\n",
    "                                                                                    pe_score,\n",
    "                                                                                                            p_score, e_score, p_times_e_score,\n",
    "                                                 fans, avg_play, influencer_price, expected_cpm, order_cnt,gender,\n",
    "\n",
    "                                                    avg_search, price, discount, category,\n",
    "\n",
    "\n",
    "                                                           ) %>% drop_na)[,-1]\n",
    "\n",
    "xgb = xgboost(data = as.matrix(x), \n",
    "              label = d$tau_alt1[!is.na(d$tau_alt1)], nround = 2, verbose = 0)\n",
    "\n",
    "xgb.importance(model = xgb) %>% top_n(10, Gain) %>% stargazer(summary=FALSE, rownames=FALSE, type = 'text')"
   ]
  },
  {
   "cell_type": "code",
   "execution_count": 76,
   "id": "e218f29c-a457-43c6-8fb4-d2d98af3ebd2",
   "metadata": {},
   "outputs": [
    {
     "name": "stdout",
     "output_type": "stream",
     "text": [
      "\n",
      "======================================\n",
      "Feature          Gain  Cover Frequency\n",
      "--------------------------------------\n",
      "pe_score         0.888 0.174   0.333  \n",
      "e_score          0.035 0.009   0.143  \n",
      "order_cnt        0.028 0.168   0.095  \n",
      "p_score          0.019 0.248   0.143  \n",
      "avg_search       0.013 0.163   0.095  \n",
      "p_times_e_score  0.007 0.158   0.095  \n",
      "categoryFood     0.006 0.003   0.048  \n",
      "categoryClothing 0.003 0.078   0.048  \n",
      "--------------------------------------\n"
     ]
    }
   ],
   "source": [
    "set.seed(101)\n",
    "\n",
    "x <- sparse.model.matrix(tau_alt2 ~ ., data = select(d, tau_alt2,\n",
    "                                                                                    pe_score,\n",
    "                                                                                                            p_score, e_score, p_times_e_score,\n",
    "                                                 fans, avg_play, influencer_price, expected_cpm, order_cnt,gender,\n",
    "\n",
    "                                                    avg_search, price, discount, category,\n",
    "\n",
    "\n",
    "                                                           ) %>% drop_na)[,-1]\n",
    "\n",
    "xgb = xgboost(data = as.matrix(x), \n",
    "              label = d$tau_alt2[!is.na(d$tau_alt2)], nround = 2, verbose = 0)\n",
    "\n",
    "xgb.importance(model = xgb) %>% top_n(10, Gain) %>% stargazer(summary=FALSE, rownames=FALSE, type = 'text')"
   ]
  },
  {
   "cell_type": "code",
   "execution_count": 77,
   "id": "87918e44-658b-4825-b4a2-97ff661e0f19",
   "metadata": {},
   "outputs": [
    {
     "name": "stdout",
     "output_type": "stream",
     "text": [
      "\n",
      "======================================\n",
      "Feature          Gain  Cover Frequency\n",
      "--------------------------------------\n",
      "pe_score         0.590 0.247   0.379  \n",
      "p_score          0.287 0.175   0.138  \n",
      "order_cnt        0.052 0.168   0.069  \n",
      "fans             0.037 0.008   0.069  \n",
      "expected_cpm     0.012 0.009   0.034  \n",
      "avg_search       0.011 0.294   0.138  \n",
      "discount         0.006 0.009   0.069  \n",
      "categoryClothing 0.002 0.078   0.034  \n",
      "p_times_e_score  0.002 0.008   0.034  \n",
      "e_score          0.001 0.004   0.034  \n",
      "--------------------------------------\n"
     ]
    }
   ],
   "source": [
    "set.seed(101)\n",
    "\n",
    "x <- sparse.model.matrix(tau_alt3 ~ ., data = select(d, tau_alt3,\n",
    "                                                                                    pe_score,\n",
    "                                                                                                            p_score, e_score, p_times_e_score,\n",
    "                                                 fans, avg_play, influencer_price, expected_cpm, order_cnt,gender,\n",
    "\n",
    "                                                    avg_search, price, discount, category,\n",
    "\n",
    "\n",
    "                                                           ) %>% drop_na)[,-1]\n",
    "\n",
    "xgb = xgboost(data = as.matrix(x), \n",
    "              label = d$tau_alt3[!is.na(d$tau_alt3)], nround = 2, verbose = 0)\n",
    "\n",
    "xgb.importance(model = xgb) %>% top_n(10, Gain) %>% stargazer(summary=FALSE, rownames=FALSE, type = 'text')"
   ]
  },
  {
   "cell_type": "markdown",
   "id": "df792843-f497-4f09-8cfc-857d5371675a",
   "metadata": {},
   "source": [
    "#### Figure H.1, H.2, H.3"
   ]
  },
  {
   "cell_type": "code",
   "execution_count": 78,
   "id": "9f9c2095-bae4-4428-b5b4-be474d34ce9e",
   "metadata": {},
   "outputs": [
    {
     "data": {
      "text/plain": [
       "socket cluster with 47 nodes on host ‘localhost’"
      ]
     },
     "metadata": {},
     "output_type": "display_data"
    }
   ],
   "source": [
    "# parallel\n",
    "cores = detectCores() \n",
    "cl = makeCluster(cores[1]-1)\n",
    "registerDoParallel(cl) \n",
    "cl"
   ]
  },
  {
   "cell_type": "code",
   "execution_count": 79,
   "id": "646efb49-14c9-4b5e-aa12-eef355a5cef3",
   "metadata": {},
   "outputs": [
    {
     "data": {
      "text/html": [
       "<table class=\"dataframe\">\n",
       "<caption>A matrix: 6 × 1000 of type dbl</caption>\n",
       "<thead>\n",
       "\t<tr><th scope=col>result.1</th><th scope=col>result.2</th><th scope=col>result.3</th><th scope=col>result.4</th><th scope=col>result.5</th><th scope=col>result.6</th><th scope=col>result.7</th><th scope=col>result.8</th><th scope=col>result.9</th><th scope=col>result.10</th><th scope=col>⋯</th><th scope=col>result.991</th><th scope=col>result.992</th><th scope=col>result.993</th><th scope=col>result.994</th><th scope=col>result.995</th><th scope=col>result.996</th><th scope=col>result.997</th><th scope=col>result.998</th><th scope=col>result.999</th><th scope=col>result.1000</th></tr>\n",
       "</thead>\n",
       "<tbody>\n",
       "\t<tr><td> 11.779010</td><td>  9.558280</td><td> 10.100814</td><td>  9.570054</td><td> -0.1615369</td><td>  3.247458</td><td> 10.030992</td><td>  9.721507</td><td>  2.448288</td><td>  4.237728</td><td>⋯</td><td> 12.320143</td><td>  1.2072259</td><td>  2.554885</td><td>  8.979268</td><td>  3.152039</td><td>  3.789526</td><td>  9.524263</td><td> 11.002537</td><td>  9.050883</td><td>  9.955400</td></tr>\n",
       "\t<tr><td>-62.016052</td><td>-63.983368</td><td>-61.484726</td><td>-64.150395</td><td>-55.4174757</td><td>-53.634909</td><td>-63.591939</td><td>-62.640952</td><td>-55.340261</td><td>-51.857500</td><td>⋯</td><td>-60.858534</td><td>-54.6410876</td><td>-53.973256</td><td>-62.955171</td><td>-52.457637</td><td>-53.770981</td><td>-62.673336</td><td>-62.866846</td><td>-63.721094</td><td>-62.691994</td></tr>\n",
       "\t<tr><td>  2.748389</td><td> -4.600229</td><td> -3.469789</td><td> -3.996791</td><td> -5.7114332</td><td> -1.708633</td><td> -3.951834</td><td> -3.936975</td><td> -2.640056</td><td>  3.353046</td><td>⋯</td><td>  2.565188</td><td>  0.3685344</td><td>  1.587528</td><td> -5.665766</td><td> -2.043582</td><td>  3.591709</td><td> -3.867172</td><td> -2.521558</td><td> -5.164604</td><td> -4.142559</td></tr>\n",
       "\t<tr><td> 22.057721</td><td> 18.540582</td><td> 20.299764</td><td> 20.159303</td><td> 24.2886116</td><td> 23.737662</td><td> 21.222757</td><td> 20.152757</td><td> 22.961035</td><td> 28.458864</td><td>⋯</td><td> 21.399405</td><td> 23.3998336</td><td> 23.259797</td><td> 18.144468</td><td> 27.940206</td><td> 27.407731</td><td> 18.290753</td><td> 18.957130</td><td> 20.432802</td><td> 21.723052</td></tr>\n",
       "\t<tr><td>  8.894988</td><td>  7.332224</td><td>  7.523182</td><td>  7.860402</td><td>  0.6415112</td><td>  2.983253</td><td>  8.119433</td><td>  7.860571</td><td>  2.203598</td><td>  3.241157</td><td>⋯</td><td>  9.342790</td><td>  1.5732656</td><td>  2.362109</td><td>  6.751878</td><td>  2.477662</td><td>  2.974547</td><td>  7.649286</td><td>  8.455689</td><td>  6.852740</td><td>  7.896659</td></tr>\n",
       "\t<tr><td> 30.550919</td><td> 29.200885</td><td> 29.570368</td><td> 30.358269</td><td> 22.2823404</td><td> 24.076304</td><td> 30.151184</td><td> 30.719775</td><td> 23.483152</td><td> 24.888337</td><td>⋯</td><td> 31.220812</td><td> 22.6698540</td><td> 23.320154</td><td> 29.285384</td><td> 23.797039</td><td> 23.616741</td><td> 30.099795</td><td> 30.158128</td><td> 29.113161</td><td> 29.864357</td></tr>\n",
       "</tbody>\n",
       "</table>\n"
      ],
      "text/latex": [
       "A matrix: 6 × 1000 of type dbl\n",
       "\\begin{tabular}{lllllllllllllllllllll}\n",
       " result.1 & result.2 & result.3 & result.4 & result.5 & result.6 & result.7 & result.8 & result.9 & result.10 & ⋯ & result.991 & result.992 & result.993 & result.994 & result.995 & result.996 & result.997 & result.998 & result.999 & result.1000\\\\\n",
       "\\hline\n",
       "\t  11.779010 &   9.558280 &  10.100814 &   9.570054 &  -0.1615369 &   3.247458 &  10.030992 &   9.721507 &   2.448288 &   4.237728 & ⋯ &  12.320143 &   1.2072259 &   2.554885 &   8.979268 &   3.152039 &   3.789526 &   9.524263 &  11.002537 &   9.050883 &   9.955400\\\\\n",
       "\t -62.016052 & -63.983368 & -61.484726 & -64.150395 & -55.4174757 & -53.634909 & -63.591939 & -62.640952 & -55.340261 & -51.857500 & ⋯ & -60.858534 & -54.6410876 & -53.973256 & -62.955171 & -52.457637 & -53.770981 & -62.673336 & -62.866846 & -63.721094 & -62.691994\\\\\n",
       "\t   2.748389 &  -4.600229 &  -3.469789 &  -3.996791 &  -5.7114332 &  -1.708633 &  -3.951834 &  -3.936975 &  -2.640056 &   3.353046 & ⋯ &   2.565188 &   0.3685344 &   1.587528 &  -5.665766 &  -2.043582 &   3.591709 &  -3.867172 &  -2.521558 &  -5.164604 &  -4.142559\\\\\n",
       "\t  22.057721 &  18.540582 &  20.299764 &  20.159303 &  24.2886116 &  23.737662 &  21.222757 &  20.152757 &  22.961035 &  28.458864 & ⋯ &  21.399405 &  23.3998336 &  23.259797 &  18.144468 &  27.940206 &  27.407731 &  18.290753 &  18.957130 &  20.432802 &  21.723052\\\\\n",
       "\t   8.894988 &   7.332224 &   7.523182 &   7.860402 &   0.6415112 &   2.983253 &   8.119433 &   7.860571 &   2.203598 &   3.241157 & ⋯ &   9.342790 &   1.5732656 &   2.362109 &   6.751878 &   2.477662 &   2.974547 &   7.649286 &   8.455689 &   6.852740 &   7.896659\\\\\n",
       "\t  30.550919 &  29.200885 &  29.570368 &  30.358269 &  22.2823404 &  24.076304 &  30.151184 &  30.719775 &  23.483152 &  24.888337 & ⋯ &  31.220812 &  22.6698540 &  23.320154 &  29.285384 &  23.797039 &  23.616741 &  30.099795 &  30.158128 &  29.113161 &  29.864357\\\\\n",
       "\\end{tabular}\n"
      ],
      "text/markdown": [
       "\n",
       "A matrix: 6 × 1000 of type dbl\n",
       "\n",
       "| result.1 | result.2 | result.3 | result.4 | result.5 | result.6 | result.7 | result.8 | result.9 | result.10 | ⋯ | result.991 | result.992 | result.993 | result.994 | result.995 | result.996 | result.997 | result.998 | result.999 | result.1000 |\n",
       "|---|---|---|---|---|---|---|---|---|---|---|---|---|---|---|---|---|---|---|---|---|\n",
       "|  11.779010 |   9.558280 |  10.100814 |   9.570054 |  -0.1615369 |   3.247458 |  10.030992 |   9.721507 |   2.448288 |   4.237728 | ⋯ |  12.320143 |   1.2072259 |   2.554885 |   8.979268 |   3.152039 |   3.789526 |   9.524263 |  11.002537 |   9.050883 |   9.955400 |\n",
       "| -62.016052 | -63.983368 | -61.484726 | -64.150395 | -55.4174757 | -53.634909 | -63.591939 | -62.640952 | -55.340261 | -51.857500 | ⋯ | -60.858534 | -54.6410876 | -53.973256 | -62.955171 | -52.457637 | -53.770981 | -62.673336 | -62.866846 | -63.721094 | -62.691994 |\n",
       "|   2.748389 |  -4.600229 |  -3.469789 |  -3.996791 |  -5.7114332 |  -1.708633 |  -3.951834 |  -3.936975 |  -2.640056 |   3.353046 | ⋯ |   2.565188 |   0.3685344 |   1.587528 |  -5.665766 |  -2.043582 |   3.591709 |  -3.867172 |  -2.521558 |  -5.164604 |  -4.142559 |\n",
       "|  22.057721 |  18.540582 |  20.299764 |  20.159303 |  24.2886116 |  23.737662 |  21.222757 |  20.152757 |  22.961035 |  28.458864 | ⋯ |  21.399405 |  23.3998336 |  23.259797 |  18.144468 |  27.940206 |  27.407731 |  18.290753 |  18.957130 |  20.432802 |  21.723052 |\n",
       "|   8.894988 |   7.332224 |   7.523182 |   7.860402 |   0.6415112 |   2.983253 |   8.119433 |   7.860571 |   2.203598 |   3.241157 | ⋯ |   9.342790 |   1.5732656 |   2.362109 |   6.751878 |   2.477662 |   2.974547 |   7.649286 |   8.455689 |   6.852740 |   7.896659 |\n",
       "|  30.550919 |  29.200885 |  29.570368 |  30.358269 |  22.2823404 |  24.076304 |  30.151184 |  30.719775 |  23.483152 |  24.888337 | ⋯ |  31.220812 |  22.6698540 |  23.320154 |  29.285384 |  23.797039 |  23.616741 |  30.099795 |  30.158128 |  29.113161 |  29.864357 |\n",
       "\n"
      ],
      "text/plain": [
       "     result.1   result.2   result.3   result.4   result.5    result.6  \n",
       "[1,]  11.779010   9.558280  10.100814   9.570054  -0.1615369   3.247458\n",
       "[2,] -62.016052 -63.983368 -61.484726 -64.150395 -55.4174757 -53.634909\n",
       "[3,]   2.748389  -4.600229  -3.469789  -3.996791  -5.7114332  -1.708633\n",
       "[4,]  22.057721  18.540582  20.299764  20.159303  24.2886116  23.737662\n",
       "[5,]   8.894988   7.332224   7.523182   7.860402   0.6415112   2.983253\n",
       "[6,]  30.550919  29.200885  29.570368  30.358269  22.2823404  24.076304\n",
       "     result.7   result.8   result.9   result.10  ⋯ result.991 result.992 \n",
       "[1,]  10.030992   9.721507   2.448288   4.237728 ⋯  12.320143   1.2072259\n",
       "[2,] -63.591939 -62.640952 -55.340261 -51.857500 ⋯ -60.858534 -54.6410876\n",
       "[3,]  -3.951834  -3.936975  -2.640056   3.353046 ⋯   2.565188   0.3685344\n",
       "[4,]  21.222757  20.152757  22.961035  28.458864 ⋯  21.399405  23.3998336\n",
       "[5,]   8.119433   7.860571   2.203598   3.241157 ⋯   9.342790   1.5732656\n",
       "[6,]  30.151184  30.719775  23.483152  24.888337 ⋯  31.220812  22.6698540\n",
       "     result.993 result.994 result.995 result.996 result.997 result.998\n",
       "[1,]   2.554885   8.979268   3.152039   3.789526   9.524263  11.002537\n",
       "[2,] -53.973256 -62.955171 -52.457637 -53.770981 -62.673336 -62.866846\n",
       "[3,]   1.587528  -5.665766  -2.043582   3.591709  -3.867172  -2.521558\n",
       "[4,]  23.259797  18.144468  27.940206  27.407731  18.290753  18.957130\n",
       "[5,]   2.362109   6.751878   2.477662   2.974547   7.649286   8.455689\n",
       "[6,]  23.320154  29.285384  23.797039  23.616741  30.099795  30.158128\n",
       "     result.999 result.1000\n",
       "[1,]   9.050883   9.955400 \n",
       "[2,] -63.721094 -62.691994 \n",
       "[3,]  -5.164604  -4.142559 \n",
       "[4,]  20.432802  21.723052 \n",
       "[5,]   6.852740   7.896659 \n",
       "[6,]  29.113161  29.864357 "
      ]
     },
     "metadata": {},
     "output_type": "display_data"
    }
   ],
   "source": [
    "# bootstrap\n",
    "tau_bs <- foreach(b = 1:1000, .combine=cbind) %dopar% {\n",
    "    \n",
    "set.seed(b)\n",
    "\n",
    "tau = vector()\n",
    "\n",
    "clu = sampling::cluster(df_day_control, \n",
    "                        clustername=c(\"taobao_id\"), \n",
    "                        size=dplyr::n_distinct(df_day_control$taobao_id), \n",
    "                        method=\"srswr\")\n",
    "df_day_control_bs = sampling::getdata(df_day_control, clu)\n",
    "df_day_control_bs = dplyr::select(df_day_control_bs, -ID_unit, -Replicates, -Prob)\n",
    "\n",
    "\n",
    "for (i in seq(1,length(treat_id))) { # loop over all treated products\n",
    "        \n",
    "    df_day_treat_i = dplyr::filter(df_day_treat, taobao_id == treat_id[[i]])\n",
    "    df_day_i = rbind(df_day_treat_i, df_day_control_bs)\n",
    "    \n",
    "    model = lfe::felm(rev_day ~ \n",
    "                    treated + search                 \n",
    "                 |as.factor(updated_time) + as.factor(taobao_id)|0|taobao_id + updated_time,\n",
    "                 df_day_i\n",
    "    )\n",
    "    \n",
    "    tau[i] = as.numeric(coef(summary(model))[1,1])\n",
    "    \n",
    "  }\n",
    "\n",
    "tau\n",
    "\n",
    "}\n",
    "\n",
    "head(tau_bs)\n",
    "\n",
    "stopCluster(cl)"
   ]
  },
  {
   "cell_type": "code",
   "execution_count": 80,
   "id": "ad4dca73-a8ca-4c04-bcd6-bad30c2c150e",
   "metadata": {},
   "outputs": [],
   "source": [
    "beta_bs = vector()\n",
    "p_bs = vector()\n",
    "gain_bs = vector()\n",
    "\n",
    "for (i in 1:1000){\n",
    "\n",
    "d_bs = data.frame(taobao_id = treat_id, tau = tau_bs[,i])\n",
    "d_bs = left_join(d_bs, \n",
    "              df %>% \n",
    "              distinct(taobao_id, .keep_all = T) %>% \n",
    "              select(taobao_id,\n",
    "                            pe_score, p_score, e_score, like, comment, share,\n",
    "                               price, discount, avg_search, category,\n",
    "                               gender,fans,avg_play,influencer_price,expected_cpm,order_cnt, influencer_id,\n",
    "                    pe_score_like, pe_score_comment, pe_score_unsup), \n",
    "                 by = 'taobao_id')\n",
    "    \n",
    "d_bs$p_times_e_score = d_bs$p_score * d_bs$e_score\n",
    "    \n",
    "m6 = felm(tau ~ \n",
    "               + pe_score \n",
    "             + p_score*e_score\n",
    "             + avg_search \n",
    "               + price\n",
    "               + discount\n",
    "               + fans\n",
    "               + avg_play\n",
    "               + influencer_price\n",
    "               + expected_cpm\n",
    "               + order_cnt \n",
    "               + gender\n",
    "             | category\n",
    "                 , d_bs %>% mutate(\n",
    "                     fans = fans/1000000,\n",
    "                                avg_play = avg_play/1000000,\n",
    "                               influencer_price = influencer_price/1000000,\n",
    "                               expected_cpm = expected_cpm/1000000))\n",
    "\n",
    "beta_bs[i] = as.numeric(coef(summary(m6))[1,1])\n",
    "p_bs[i] = as.numeric(coef(summary(m6))[1,4])\n",
    "    \n",
    "x <- sparse.model.matrix(tau ~ ., data = select(d_bs, tau,\n",
    "                                                                                    pe_score,\n",
    "                                                                                                            p_score, e_score,\n",
    "                                                p_times_e_score,\n",
    "                                                 fans, avg_play, influencer_price, expected_cpm, order_cnt,gender,\n",
    "\n",
    "                                                    avg_search, price, discount, category,\n",
    "\n",
    "\n",
    "                                                           ) %>% drop_na)[,-1]\n",
    "\n",
    "xgb = xgboost(data = as.matrix(x), \n",
    "              label = d_bs$tau, nround = 2, verbose = 0)\n",
    "\n",
    "gain_bs[i] = as.numeric(xgb.importance(model = xgb)[Feature == 'pe_score',2]) \n",
    "\n",
    "}"
   ]
  },
  {
   "cell_type": "code",
   "execution_count": 81,
   "id": "48aeb944-06a3-4e32-8b09-857d0a478a59",
   "metadata": {},
   "outputs": [
    {
     "data": {
      "image/png": "[encoded data removed]",
      "text/plain": [
       "plot without title"
      ]
     },
     "metadata": {
      "image/png": {
       "height": 420,
       "width": 420
      }
     },
     "output_type": "display_data"
    }
   ],
   "source": [
    "ggplot(data.frame(beta_bs = beta_bs), aes(beta_bs)) + \n",
    "  geom_density() + \n",
    "  scale_x_continuous(\n",
    "    breaks=seq(98, 103 ,1)\n",
    "  ) +\n",
    "theme_bw() +\n",
    "  xlab('Coefficient of the PE-Score') + \n",
    "  ylab('Density') + \n",
    "  theme(text = element_text(size=15)) +\n",
    "theme(aspect.ratio=2/4)"
   ]
  },
  {
   "cell_type": "code",
   "execution_count": 82,
   "id": "96cdc6e0-722d-4584-9bea-521ca4d2ebc6",
   "metadata": {},
   "outputs": [
    {
     "data": {
      "image/png": "[encoded data removed]",
      "text/plain": [
       "plot without title"
      ]
     },
     "metadata": {
      "image/png": {
       "height": 420,
       "width": 420
      }
     },
     "output_type": "display_data"
    }
   ],
   "source": [
    "ggplot(data.frame(p_bs = p_bs), aes(p_bs)) + \n",
    "  geom_density() + \n",
    "theme_bw() +\n",
    "  xlab('P-value of the PE-Score') + \n",
    "  ylab('Density') + \n",
    "  theme(text = element_text(size=15)) +\n",
    "theme(aspect.ratio=2/4)"
   ]
  },
  {
   "cell_type": "code",
   "execution_count": 83,
   "id": "c9ff4112-0094-4fba-831a-b957358458a8",
   "metadata": {},
   "outputs": [
    {
     "data": {
      "image/png": "[encoded data removed]",
      "text/plain": [
       "plot without title"
      ]
     },
     "metadata": {
      "image/png": {
       "height": 420,
       "width": 420
      }
     },
     "output_type": "display_data"
    }
   ],
   "source": [
    "ggplot(data.frame(gain_bs = gain_bs), aes(gain_bs)) + \n",
    "  geom_density() + \n",
    "\n",
    "theme_bw() +\n",
    "\n",
    "  xlab('Gain of the PE-Score') + \n",
    "  ylab('Density') + \n",
    "  theme(text = element_text(size=15)) +\n",
    "theme(aspect.ratio=2/4)"
   ]
  },
  {
   "cell_type": "markdown",
   "id": "a1814c86-a193-4949-9bcd-b9fdc5fb716e",
   "metadata": {},
   "source": [
    "#### Table H.7"
   ]
  },
  {
   "cell_type": "code",
   "execution_count": 84,
   "id": "285766c9-c969-4406-81f2-fbdacabc8d59",
   "metadata": {},
   "outputs": [
    {
     "name": "stdout",
     "output_type": "stream",
     "text": [
      "\n",
      "==============================================================\n",
      "                                     Dependent variable:      \n",
      "                               -------------------------------\n",
      "                                             tau              \n",
      "                                  (1)       (2)        (3)    \n",
      "--------------------------------------------------------------\n",
      "pe_score                       100.62*** 100.98***  100.81*** \n",
      "                                (28.84)   (28.96)    (28.80)  \n",
      "                                                              \n",
      "like                             24.76                        \n",
      "                                (72.52)                       \n",
      "                                                              \n",
      "comment                                    603.40             \n",
      "                                         (3,199.10)           \n",
      "                                                              \n",
      "share                                                 732.34  \n",
      "                                                     (969.85) \n",
      "                                                              \n",
      "p_score                         -45.94     -47.63     -46.08  \n",
      "                                (29.30)   (28.57)    (27.83)  \n",
      "                                                              \n",
      "p_score:like                    -107.71                       \n",
      "                               (290.16)                       \n",
      "                                                              \n",
      "p_score:comment                          -2,719.43            \n",
      "                                         (8,948.66)           \n",
      "                                                              \n",
      "p_score:share                                       -5,366.50 \n",
      "                                                    (6,426.91)\n",
      "                                                              \n",
      "gender                           5.32       5.20       5.31   \n",
      "                                (6.41)     (6.36)     (6.35)  \n",
      "                                                              \n",
      "fans                             -0.02     -0.09      -0.62   \n",
      "                                (1.61)     (2.13)     (1.88)  \n",
      "                                                              \n",
      "avg_play                         0.22       0.32       0.63   \n",
      "                                (2.34)     (2.38)     (2.37)  \n",
      "                                                              \n",
      "influencer_price                 -1.03      2.50      30.72   \n",
      "                               (204.01)   (193.85)   (193.00) \n",
      "                                                              \n",
      "expected_cpm                     12.98     12.67      11.64   \n",
      "                                (43.97)   (43.97)    (43.92)  \n",
      "                                                              \n",
      "order_cnt                        -0.01     -0.01      -0.01   \n",
      "                                (0.18)     (0.18)     (0.18)  \n",
      "                                                              \n",
      "avg_search                       -3.35     -3.37      -3.65   \n",
      "                                (7.12)     (7.12)     (7.12)  \n",
      "                                                              \n",
      "price                            0.003     0.003      0.002   \n",
      "                                (0.01)     (0.01)     (0.01)  \n",
      "                                                              \n",
      "discount                        -0.002     -0.002     -0.002  \n",
      "                                (0.005)   (0.005)    (0.005)  \n",
      "                                                              \n",
      "--------------------------------------------------------------\n",
      "Observations                      259       259        259    \n",
      "R2                               0.08       0.08       0.08   \n",
      "Adjusted R2                      -0.01     -0.01      -0.01   \n",
      "Residual Std. Error (df = 236)   47.76     47.77      47.70   \n",
      "==============================================================\n",
      "Note:                            *p<0.05; **p<0.01; ***p<0.001\n"
     ]
    }
   ],
   "source": [
    "m6_like = felm(tau ~ \n",
    "          + pe_score\n",
    "             + p_score*like\n",
    "             + avg_search \n",
    "               + price\n",
    "               + discount\n",
    "               + fans\n",
    "               + avg_play\n",
    "               + influencer_price\n",
    "               + expected_cpm\n",
    "               + order_cnt \n",
    "               + gender\n",
    "             | category\n",
    "                 , d %>% mutate(\n",
    "                     like = like/1000000,\n",
    "                     fans = fans/1000000,\n",
    "                                avg_play = avg_play/1000000,\n",
    "                               influencer_price = influencer_price/1000000,\n",
    "                               expected_cpm = expected_cpm/1000000))\n",
    "\n",
    "m6_comment = felm(tau ~ \n",
    "          + pe_score\n",
    "             + p_score*comment\n",
    "             + avg_search \n",
    "               + price\n",
    "               + discount\n",
    "               + fans\n",
    "               + avg_play\n",
    "               + influencer_price\n",
    "               + expected_cpm\n",
    "               + order_cnt \n",
    "               + gender\n",
    "             | category\n",
    "                 , d %>% mutate(\n",
    "                     comment = comment/1000000,\n",
    "                     fans = fans/1000000,\n",
    "                                avg_play = avg_play/1000000,\n",
    "                               influencer_price = influencer_price/1000000,\n",
    "                               expected_cpm = expected_cpm/1000000))\n",
    "\n",
    "m6_share = felm(tau ~ \n",
    "          + pe_score\n",
    "             + p_score*share\n",
    "             + avg_search \n",
    "               + price\n",
    "               + discount\n",
    "               + fans\n",
    "               + avg_play\n",
    "               + influencer_price\n",
    "               + expected_cpm\n",
    "               + order_cnt \n",
    "               + gender\n",
    "             | category\n",
    "                 , d %>% mutate(\n",
    "                     share = share/1000000,\n",
    "                     fans = fans/1000000,\n",
    "                                avg_play = avg_play/1000000,\n",
    "                               influencer_price = influencer_price/1000000,\n",
    "                               expected_cpm = expected_cpm/1000000))\n",
    "\n",
    "vars.order = c(\"pe_score\", \"like\", \"comment\", \"share\", \"p_score\", \"p_score:like\", \"p_score:comment\", \"p_score:share\",\n",
    "               \"gender\", \"fans\",\"avg_play\",\"influencer_price\",\"expected_cpm\",\"order_cnt\",\n",
    "               \"avg_search\", \"price\", \"discount\", \n",
    "               \"Constant\")\n",
    "\n",
    "stargazer(m6_like, m6_comment, m6_share,\n",
    "          digits = 2,\n",
    "          type = 'text',\n",
    "          star.cutoffs = c(.05, .01, .001),\n",
    "          order=paste0(\"^\", vars.order , \"$\")\n",
    "         )"
   ]
  },
  {
   "cell_type": "markdown",
   "id": "b119f714-c445-4f76-ad9c-71a663e46905",
   "metadata": {},
   "source": [
    "#### Table H.8"
   ]
  },
  {
   "cell_type": "code",
   "execution_count": 85,
   "id": "3601a2d6-78d6-40d6-8caa-9da6a1d4a577",
   "metadata": {},
   "outputs": [],
   "source": [
    "d = mutate(d, like_times_p_score = like * p_score,\n",
    "              comment_times_p_score = comment * p_score,\n",
    "              share_times_p_score = share * p_score)"
   ]
  },
  {
   "cell_type": "code",
   "execution_count": 86,
   "id": "5dee7c6d-8b4c-4fa9-b449-99ec6f19aa75",
   "metadata": {},
   "outputs": [
    {
     "name": "stdout",
     "output_type": "stream",
     "text": [
      "\n",
      "===================================\n",
      "Feature       Gain  Cover Frequency\n",
      "-----------------------------------\n",
      "pe_score     0.874  0.338   0.242  \n",
      "expected_cpm 0.042  0.009   0.061  \n",
      "p_score      0.042  0.333   0.212  \n",
      "discount     0.017  0.034   0.212  \n",
      "fans         0.013  0.070   0.091  \n",
      "avg_search   0.009  0.144   0.061  \n",
      "share        0.003  0.069   0.061  \n",
      "price        0.0002 0.002   0.030  \n",
      "order_cnt    0.0001 0.003   0.030  \n",
      "-----------------------------------\n"
     ]
    }
   ],
   "source": [
    "set.seed(101)\n",
    "\n",
    "x <- sparse.model.matrix(tau ~ ., data = select(d, tau,\n",
    "                                                                                    pe_score,\n",
    "                                                                                                            p_score,\n",
    "                                                #like, \n",
    "                                                #comment, \n",
    "                                                share,\n",
    "                                                #like_times_p_score, \n",
    "                                                #comment_times_p_score, \n",
    "                                                share_times_p_score,\n",
    "                                                 fans, avg_play, influencer_price, expected_cpm, order_cnt,gender,\n",
    "\n",
    "                                                    avg_search, price, discount, category,\n",
    "\n",
    "\n",
    "                                                           ) %>% drop_na)[,-1]\n",
    "\n",
    "xgb = xgboost(data = as.matrix(x), \n",
    "              label = d$tau[!is.na(d$tau)], nround = 2, verbose = 0)\n",
    "\n",
    "xgb.importance(model = xgb) %>% top_n(10, Gain) %>% stargazer(summary=FALSE, rownames=FALSE, type = 'text')"
   ]
  },
  {
   "cell_type": "markdown",
   "id": "f589e4ba-5049-4420-9fa3-aa64ffcbcf5d",
   "metadata": {},
   "source": [
    "#### Table H.9"
   ]
  },
  {
   "cell_type": "code",
   "execution_count": 87,
   "id": "f5c1e1ec-eb14-46a0-bd2f-f29cd76d1792",
   "metadata": {},
   "outputs": [],
   "source": [
    "d2 = mutate(d, p_score = (p_score/len - min(p_score/len))/(max(p_score/len) - min(p_score/len)),\n",
    "           e_score = (e_score/len - min(e_score/len))/(max(e_score/len) - min(e_score/len)))"
   ]
  },
  {
   "cell_type": "code",
   "execution_count": 88,
   "id": "a39cabc9-ab0c-437e-b5ce-fe7ccc0de216",
   "metadata": {},
   "outputs": [
    {
     "data": {
      "text/plain": [
       "\n",
       "\tPearson's product-moment correlation\n",
       "\n",
       "data:  d$pe_score and d$p_score\n",
       "t = 10.253, df = 257, p-value < 2.2e-16\n",
       "alternative hypothesis: true correlation is not equal to 0\n",
       "95 percent confidence interval:\n",
       " 0.4462079 0.6199666\n",
       "sample estimates:\n",
       "      cor \n",
       "0.5387929 \n"
      ]
     },
     "metadata": {},
     "output_type": "display_data"
    },
    {
     "data": {
      "text/plain": [
       "\n",
       "\tPearson's product-moment correlation\n",
       "\n",
       "data:  d2$pe_score and d2$p_score\n",
       "t = 26.254, df = 257, p-value < 2.2e-16\n",
       "alternative hypothesis: true correlation is not equal to 0\n",
       "95 percent confidence interval:\n",
       " 0.8165240 0.8834551\n",
       "sample estimates:\n",
       "      cor \n",
       "0.8534709 \n"
      ]
     },
     "metadata": {},
     "output_type": "display_data"
    }
   ],
   "source": [
    "cor.test(d$pe_score, d$p_score)\n",
    "cor.test(d2$pe_score, d2$p_score)"
   ]
  },
  {
   "cell_type": "code",
   "execution_count": 89,
   "id": "f54ebcaf-4966-4f15-be77-3657ff6f72aa",
   "metadata": {},
   "outputs": [
    {
     "data": {
      "text/plain": [
       "\n",
       "\tPearson's product-moment correlation\n",
       "\n",
       "data:  d$pe_score and d$e_score\n",
       "t = -0.29148, df = 257, p-value = 0.7709\n",
       "alternative hypothesis: true correlation is not equal to 0\n",
       "95 percent confidence interval:\n",
       " -0.1397579  0.1039401\n",
       "sample estimates:\n",
       "        cor \n",
       "-0.01817894 \n"
      ]
     },
     "metadata": {},
     "output_type": "display_data"
    },
    {
     "data": {
      "text/plain": [
       "\n",
       "\tPearson's product-moment correlation\n",
       "\n",
       "data:  d2$pe_score and d2$e_score\n",
       "t = 1.6976, df = 257, p-value = 0.0908\n",
       "alternative hypothesis: true correlation is not equal to 0\n",
       "95 percent confidence interval:\n",
       " -0.01680271  0.22431127\n",
       "sample estimates:\n",
       "      cor \n",
       "0.1053016 \n"
      ]
     },
     "metadata": {},
     "output_type": "display_data"
    }
   ],
   "source": [
    "cor.test(d$pe_score, d$e_score)\n",
    "cor.test(d2$pe_score, d2$e_score)"
   ]
  },
  {
   "cell_type": "code",
   "execution_count": 90,
   "id": "fbdf927d-bbf3-4855-bd30-c88f427584e5",
   "metadata": {},
   "outputs": [
    {
     "name": "stdout",
     "output_type": "stream",
     "text": [
      "\n",
      "=========================================================================================================================\n",
      "                                                             Dependent variable:                                         \n",
      "                    -----------------------------------------------------------------------------------------------------\n",
      "                                                                     tau                                                 \n",
      "                          (1)              (2)              (3)              (4)              (5)              (6)       \n",
      "-------------------------------------------------------------------------------------------------------------------------\n",
      "pe_score                68.27**                                                             138.23**         141.02**    \n",
      "                        (22.87)                                                             (44.79)          (46.86)     \n",
      "                                                                                                                         \n",
      "e_score                                   28.86*                                             -19.91           -26.04     \n",
      "                                         (13.52)                                            (25.17)          (26.48)     \n",
      "                                                                                                                         \n",
      "p_score                                                    19.50                           -106.84**        -106.02**    \n",
      "                                                          (16.14)                           (37.25)          (38.57)     \n",
      "                                                                                                                         \n",
      "p_score:e_score                                                            88.92**           125.54           127.62     \n",
      "                                                                           (28.50)          (69.25)          (72.62)     \n",
      "                                                                                                                         \n",
      "gender                                                                                                         5.20      \n",
      "                                                                                                              (6.28)     \n",
      "                                                                                                                         \n",
      "fans                                                                                                           0.39      \n",
      "                                                                                                              (1.46)     \n",
      "                                                                                                                         \n",
      "avg_play                                                                                                       0.24      \n",
      "                                                                                                              (2.30)     \n",
      "                                                                                                                         \n",
      "influencer_price                                                                                              -19.34     \n",
      "                                                                                                             (180.10)    \n",
      "                                                                                                                         \n",
      "expected_cpm                                                                                                  10.68      \n",
      "                                                                                                             (43.44)     \n",
      "                                                                                                                         \n",
      "order_cnt                                                                                                     -0.01      \n",
      "                                                                                                              (0.17)     \n",
      "                                                                                                                         \n",
      "avg_search                                                                                                    -3.95      \n",
      "                                                                                                              (7.02)     \n",
      "                                                                                                                         \n",
      "price                                                                                                         0.002      \n",
      "                                                                                                              (0.01)     \n",
      "                                                                                                                         \n",
      "discount                                                                                                      -0.003     \n",
      "                                                                                                             (0.005)     \n",
      "                                                                                                                         \n",
      "-------------------------------------------------------------------------------------------------------------------------\n",
      "Observations              259              259              259              259              259              259       \n",
      "R2                        0.03             0.02             0.01             0.04             0.08             0.10      \n",
      "Adjusted R2               0.03             0.01            0.002             0.03             0.06             0.01      \n",
      "Residual Std. Error 46.82 (df = 257) 47.21 (df = 257) 47.49 (df = 257) 46.75 (df = 257) 46.04 (df = 254) 47.18 (df = 236)\n",
      "=========================================================================================================================\n",
      "Note:                                                                                       *p<0.05; **p<0.01; ***p<0.001\n"
     ]
    }
   ],
   "source": [
    "m1 = felm(tau ~ \n",
    "               + pe_score \n",
    "                 , d2 %>% mutate(\n",
    "                     fans = fans/1000000,\n",
    "                                avg_play = avg_play/1000000,\n",
    "                               influencer_price = influencer_price/1000000,\n",
    "                               expected_cpm = expected_cpm/1000000))\n",
    "\n",
    "m2 = felm(tau ~ \n",
    "          + e_score\n",
    "                 , d2 %>% mutate(\n",
    "                     fans = fans/1000000,\n",
    "                                avg_play = avg_play/1000000,\n",
    "                               influencer_price = influencer_price/1000000,\n",
    "                               expected_cpm = expected_cpm/1000000))\n",
    "\n",
    "m3 = felm(tau ~ \n",
    "               + p_score \n",
    "                 , d2 %>% mutate(\n",
    "                     fans = fans/1000000,\n",
    "                                avg_play = avg_play/1000000,\n",
    "                               influencer_price = influencer_price/1000000,\n",
    "                               expected_cpm = expected_cpm/1000000))\n",
    "\n",
    "m4 = felm(tau ~ \n",
    "          + p_score*e_score -p_score -e_score\n",
    "                 , d2 %>% mutate(\n",
    "                     fans = fans/1000000,\n",
    "                                avg_play = avg_play/1000000,\n",
    "                               influencer_price = influencer_price/1000000,\n",
    "                               expected_cpm = expected_cpm/1000000))\n",
    "\n",
    "m5 = felm(tau ~ \n",
    "               + pe_score \n",
    "              + p_score*e_score\n",
    "                 , d2 %>% mutate(\n",
    "                     fans = fans/1000000,\n",
    "                                avg_play = avg_play/1000000,\n",
    "                               influencer_price = influencer_price/1000000,\n",
    "                               expected_cpm = expected_cpm/1000000))\n",
    "\n",
    "m6 = felm(tau ~ \n",
    "               + pe_score \n",
    "             + p_score*e_score\n",
    "             + avg_search \n",
    "               + price\n",
    "               + discount\n",
    "               + fans\n",
    "               + avg_play\n",
    "               + influencer_price\n",
    "               + expected_cpm\n",
    "               + order_cnt \n",
    "               + gender\n",
    "             | category\n",
    "                 , d2 %>% mutate(\n",
    "                     fans = fans/1000000,\n",
    "                                avg_play = avg_play/1000000,\n",
    "                               influencer_price = influencer_price/1000000,\n",
    "                               expected_cpm = expected_cpm/1000000))\n",
    "\n",
    "vars.order = c(\"pe_score\", \"e_score\", \"p_score\", \"p_score:e_score\", \n",
    "               \"gender\", \"fans\", \"avg_play\", \"influencer_price\", \"expected_cpm\", \"order_cnt\",\n",
    "               \"avg_search\", \"price\", \"discount\", \n",
    "               \"Constant\")\n",
    "\n",
    "stargazer(m1,m2,m3,m4,m5,m6,\n",
    "          digits = 2,\n",
    "          type = 'text',\n",
    "          star.cutoffs = c(.05, .01, .001),\n",
    "          omit = c(\"Constant\"),\n",
    "          order=paste0(\"^\", vars.order , \"$\")\n",
    "         )"
   ]
  },
  {
   "cell_type": "markdown",
   "id": "6825cc09-6375-49c0-9a7c-d4605cbc427e",
   "metadata": {},
   "source": [
    "#### Table H.10"
   ]
  },
  {
   "cell_type": "code",
   "execution_count": 91,
   "id": "3a5c0832-eb17-4bfe-ad06-833766e13250",
   "metadata": {},
   "outputs": [
    {
     "name": "stdout",
     "output_type": "stream",
     "text": [
      "\n",
      "=========================================================================================================================\n",
      "                                                             Dependent variable:                                         \n",
      "                    -----------------------------------------------------------------------------------------------------\n",
      "                                                                     tau                                                 \n",
      "                          (1)              (2)              (3)              (4)              (5)              (6)       \n",
      "-------------------------------------------------------------------------------------------------------------------------\n",
      "pe_score                65.85**                                                             141.34**         145.92**    \n",
      "                        (23.00)                                                             (44.96)          (47.12)     \n",
      "                                                                                                                         \n",
      "e_score                                   35.85                                              -8.23            -12.15     \n",
      "                                         (20.42)                                            (28.55)          (29.88)     \n",
      "                                                                                                                         \n",
      "p_score                                                    19.87                           -109.99**        -109.83**    \n",
      "                                                          (16.12)                           (37.45)          (38.75)     \n",
      "                                                                                                                         \n",
      "p_score:e_score                                                            94.14**           129.04           131.23     \n",
      "                                                                           (33.07)          (69.40)          (72.71)     \n",
      "                                                                                                                         \n",
      "len                      -0.20             0.14            -0.26             0.07             0.25             0.31      \n",
      "                         (0.20)           (0.30)           (0.20)           (0.23)           (0.29)           (0.31)     \n",
      "                                                                                                                         \n",
      "gender                                                                                                         5.36      \n",
      "                                                                                                              (6.28)     \n",
      "                                                                                                                         \n",
      "fans                                                                                                           0.62      \n",
      "                                                                                                              (1.48)     \n",
      "                                                                                                                         \n",
      "avg_play                                                                                                       0.11      \n",
      "                                                                                                              (2.31)     \n",
      "                                                                                                                         \n",
      "influencer_price                                                                                              -44.36     \n",
      "                                                                                                             (181.82)    \n",
      "                                                                                                                         \n",
      "expected_cpm                                                                                                  12.84      \n",
      "                                                                                                             (43.49)     \n",
      "                                                                                                                         \n",
      "order_cnt                                                                                                     -0.01      \n",
      "                                                                                                              (0.17)     \n",
      "                                                                                                                         \n",
      "avg_search                                                                                                    -4.77      \n",
      "                                                                                                              (7.07)     \n",
      "                                                                                                                         \n",
      "price                                                                                                         0.002      \n",
      "                                                                                                              (0.01)     \n",
      "                                                                                                                         \n",
      "discount                                                                                                      -0.002     \n",
      "                                                                                                             (0.005)     \n",
      "                                                                                                                         \n",
      "-------------------------------------------------------------------------------------------------------------------------\n",
      "Observations              259              259              259              259              259              259       \n",
      "R2                        0.04             0.02             0.01             0.04             0.08             0.10      \n",
      "Adjusted R2               0.03             0.01            0.005             0.03             0.06             0.01      \n",
      "Residual Std. Error 46.82 (df = 256) 47.28 (df = 256) 47.42 (df = 256) 46.83 (df = 256) 46.06 (df = 253) 47.18 (df = 235)\n",
      "=========================================================================================================================\n",
      "Note:                                                                                       *p<0.05; **p<0.01; ***p<0.001\n"
     ]
    }
   ],
   "source": [
    "m1 = felm(tau ~ \n",
    "               + pe_score \n",
    "               + len\n",
    "                 , d2 %>% mutate(\n",
    "                     fans = fans/1000000,\n",
    "                                avg_play = avg_play/1000000,\n",
    "                               influencer_price = influencer_price/1000000,\n",
    "                               expected_cpm = expected_cpm/1000000))\n",
    "\n",
    "m2 = felm(tau ~ \n",
    "          + e_score\n",
    "                         + len\n",
    "                 , d2 %>% mutate(\n",
    "                     fans = fans/1000000,\n",
    "                                avg_play = avg_play/1000000,\n",
    "                               influencer_price = influencer_price/1000000,\n",
    "                               expected_cpm = expected_cpm/1000000))\n",
    "\n",
    "m3 = felm(tau ~ \n",
    "               + p_score \n",
    "                         + len\n",
    "                 , d2 %>% mutate(\n",
    "                     fans = fans/1000000,\n",
    "                                avg_play = avg_play/1000000,\n",
    "                               influencer_price = influencer_price/1000000,\n",
    "                               expected_cpm = expected_cpm/1000000))\n",
    "\n",
    "m4 = felm(tau ~ \n",
    "          + p_score*e_score -p_score -e_score\n",
    "                         + len\n",
    "                 , d2 %>% mutate(\n",
    "                     fans = fans/1000000,\n",
    "                                avg_play = avg_play/1000000,\n",
    "                               influencer_price = influencer_price/1000000,\n",
    "                               expected_cpm = expected_cpm/1000000))\n",
    "\n",
    "m5 = felm(tau ~ \n",
    "               + pe_score \n",
    "              + p_score*e_score\n",
    "                         + len\n",
    "                 , d2 %>% mutate(\n",
    "                     fans = fans/1000000,\n",
    "                                avg_play = avg_play/1000000,\n",
    "                               influencer_price = influencer_price/1000000,\n",
    "                               expected_cpm = expected_cpm/1000000))\n",
    "\n",
    "m6 = felm(tau ~ \n",
    "               + pe_score \n",
    "             + p_score*e_score\n",
    "             + avg_search \n",
    "               + price\n",
    "               + discount\n",
    "               + fans\n",
    "               + avg_play\n",
    "               + influencer_price\n",
    "               + expected_cpm\n",
    "               + order_cnt \n",
    "               + gender\n",
    "               + len \n",
    "             | category\n",
    "                 , d2 %>% mutate(\n",
    "                     fans = fans/1000000,\n",
    "                                avg_play = avg_play/1000000,\n",
    "                               influencer_price = influencer_price/1000000,\n",
    "                               expected_cpm = expected_cpm/1000000))\n",
    "\n",
    "vars.order = c(\"pe_score\", \"e_score\", \"p_score\", \"p_score:e_score\", \"len\",\n",
    "               \"gender\", \"fans\", \"avg_play\", \"influencer_price\", \"expected_cpm\", \"order_cnt\",\n",
    "               \"avg_search\", \"price\", \"discount\", \n",
    "               \"Constant\")\n",
    "\n",
    "stargazer(m1,m2,m3,m4,m5,m6,\n",
    "          digits = 2,\n",
    "          type = 'text',\n",
    "          star.cutoffs = c(.05, .01, .001),\n",
    "          omit = c(\"Constant\"),\n",
    "          order=paste0(\"^\", vars.order , \"$\")\n",
    "         )"
   ]
  },
  {
   "cell_type": "markdown",
   "id": "caff385a-7af0-4972-8b82-bdc4221ee691",
   "metadata": {},
   "source": [
    "#### Table H.11"
   ]
  },
  {
   "cell_type": "code",
   "execution_count": 92,
   "id": "1520d8e6-6197-4ca1-9546-da4b17a29edf",
   "metadata": {},
   "outputs": [
    {
     "name": "stdout",
     "output_type": "stream",
     "text": [
      "\n",
      "==================================\n",
      "Feature      Gain  Cover Frequency\n",
      "----------------------------------\n",
      "pe_score     0.869 0.344   0.235  \n",
      "expected_cpm 0.057 0.090   0.147  \n",
      "e_score      0.040 0.400   0.353  \n",
      "p_score      0.029 0.011   0.059  \n",
      "fans         0.002 0.077   0.118  \n",
      "avg_search   0.001 0.072   0.029  \n",
      "discount     0.001 0.007   0.059  \n",
      "----------------------------------\n"
     ]
    }
   ],
   "source": [
    "set.seed(101)\n",
    "\n",
    "x <- sparse.model.matrix(tau ~ ., data = select(d2, tau,\n",
    "                                                                                    pe_score,\n",
    "                                                                                                            p_score, e_score, p_times_e_score, \n",
    "                                                 fans, avg_play, influencer_price, expected_cpm, order_cnt,gender,\n",
    "\n",
    "                                                    avg_search, price, discount, category,\n",
    "\n",
    "\n",
    "                                                           ) %>% drop_na)[,-1]\n",
    "\n",
    "xgb = xgboost(data = as.matrix(x), \n",
    "              label = d2$tau[!is.na(d2$tau)], nround = 2, verbose = 0)\n",
    "\n",
    "xgb.importance(model = xgb) %>% top_n(10, Gain) %>% stargazer(summary=FALSE, rownames=FALSE, type = 'text')"
   ]
  },
  {
   "cell_type": "code",
   "execution_count": 93,
   "id": "f55ddc80-b2f8-444f-a682-4ce5cd472f43",
   "metadata": {},
   "outputs": [
    {
     "name": "stdout",
     "output_type": "stream",
     "text": [
      "\n",
      "==================================\n",
      "Feature      Gain  Cover Frequency\n",
      "----------------------------------\n",
      "pe_score     0.869 0.344   0.235  \n",
      "expected_cpm 0.057 0.090   0.147  \n",
      "e_score      0.039 0.330   0.324  \n",
      "p_score      0.029 0.011   0.059  \n",
      "fans         0.002 0.077   0.118  \n",
      "avg_search   0.001 0.072   0.029  \n",
      "len          0.001 0.070   0.029  \n",
      "discount     0.001 0.007   0.059  \n",
      "----------------------------------\n"
     ]
    }
   ],
   "source": [
    "set.seed(101)\n",
    "\n",
    "x <- sparse.model.matrix(tau ~ ., data = select(d2, tau,\n",
    "                                                                                    pe_score,\n",
    "                                                                                                            p_score, e_score, p_times_e_score, len,\n",
    "                                                 fans, avg_play, influencer_price, expected_cpm, order_cnt,gender,\n",
    "\n",
    "                                                    avg_search, price, discount, category,\n",
    "\n",
    "\n",
    "                                                           ) %>% drop_na)[,-1]\n",
    "\n",
    "xgb = xgboost(data = as.matrix(x), \n",
    "              label = d2$tau[!is.na(d2$tau)], nround = 2, verbose = 0)\n",
    "\n",
    "xgb.importance(model = xgb) %>% top_n(10, Gain) %>% stargazer(summary=FALSE, rownames=FALSE, type = 'text')"
   ]
  }
 ],
 "metadata": {
  "kernelspec": {
   "display_name": "R",
   "language": "R",
   "name": "ir"
  },
  "language_info": {
   "codemirror_mode": "r",
   "file_extension": ".r",
   "mimetype": "text/x-r-source",
   "name": "R",
   "pygments_lexer": "r",
   "version": "4.3.1"
  }
 },
 "nbformat": 4,
 "nbformat_minor": 5
}
