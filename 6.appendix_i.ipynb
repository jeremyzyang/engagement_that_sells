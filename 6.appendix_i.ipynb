{
 "cells": [
  {
   "cell_type": "markdown",
   "id": "29e86fb1-c8fa-40bc-b4ff-e49dd7dc7643",
   "metadata": {},
   "source": [
    "## Appendix I (Figure I.1, Table I.1)"
   ]
  },
  {
   "cell_type": "markdown",
   "id": "54b69fca-f6f4-4af4-bef9-45926eb39dc5",
   "metadata": {},
   "source": [
    "#### to-do"
   ]
  }
 ],
 "metadata": {
  "kernelspec": {
   "display_name": "R",
   "language": "R",
   "name": "ir"
  },
  "language_info": {
   "codemirror_mode": "r",
   "file_extension": ".r",
   "mimetype": "text/x-r-source",
   "name": "R",
   "pygments_lexer": "r",
   "version": "4.2.1"
  }
 },
 "nbformat": 4,
 "nbformat_minor": 5
}
