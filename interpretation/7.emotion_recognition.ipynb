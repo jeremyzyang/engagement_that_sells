{
 "cells": [
  {
   "cell_type": "code",
   "execution_count": 1,
   "id": "4f489058-5789-48bc-973b-7432f9f6fa61",
   "metadata": {},
   "outputs": [],
   "source": [
    "from py_session import py_session\n",
    "import random\n",
    "import re\n",
    "import os\n",
    "import tempfile\n",
    "import ssl\n",
    "import cv2\n",
    "import numpy as np\n",
    "import imageio\n",
    "from IPython import display\n",
    "from urllib import request\n",
    "import numpy as np\n",
    "import pandas as pd\n",
    "from fer import FER"
   ]
  },
  {
   "cell_type": "code",
   "execution_count": 2,
   "id": "9bd21d63-0ea0-4f06-9186-ec7f71041742",
   "metadata": {},
   "outputs": [],
   "source": [
    "emo_detector = FER(mtcnn=False)\n",
    "\n",
    "def emotion(path, max_seconds = 60, resize = (224, 224)):\n",
    "    frames = []\n",
    "\n",
    "    vidcap = cv2.VideoCapture(path)\n",
    "    fps = vidcap.get(cv2.CAP_PROP_FPS) # sample 1 frame per second \n",
    "\n",
    "    count = 0\n",
    "    \n",
    "    while vidcap.isOpened():\n",
    "        sucess, frame = vidcap.read()\n",
    "\n",
    "        if sucess and count <= fps*(max_seconds - 1):\n",
    "            frame = cv2.resize(frame, resize)\n",
    "            captured_emotions = emo_detector.detect_emotions(frame)\n",
    "            frames.append(captured_emotions)\n",
    "            count +=  (fps/1) # this advances one second\n",
    "            vidcap.set(1, count)\n",
    "        else:\n",
    "            vidcap.release()\n",
    "            break\n",
    "\n",
    "    return frames"
   ]
  },
  {
   "cell_type": "code",
   "execution_count": 3,
   "id": "6035d826-79d4-4022-bdad-2057d2122b87",
   "metadata": {},
   "outputs": [],
   "source": [
    "video_dir = '/n/holylfs05/LABS/jyang_lab/Lab/tiktok_sample/sales_panel/video/'\n",
    "video_name = os.listdir(video_dir)\n",
    "out_dir = '/n/holylfs05/LABS/jyang_lab/Lab/tiktok_sample/sales_panel/emotion/'"
   ]
  },
  {
   "cell_type": "code",
   "execution_count": 4,
   "id": "9def75a5-8167-4a22-b383-7b34efc59e74",
   "metadata": {},
   "outputs": [],
   "source": [
    "for i in range(len(video_name)):\n",
    "    e = emotion(video_dir + video_name[i])\n",
    "    \n",
    "    big_d = []\n",
    "    \n",
    "    for j in range(len(e)):\n",
    "        l = []\n",
    "        for k in range(len(e[j])):\n",
    "            l.append(e[j][k]['emotions'])\n",
    "        d = {'angry' : sum(item['angry'] for item in l),\n",
    "            'disgust' : sum(item['disgust'] for item in l),\n",
    "            'fear' : sum(item['fear'] for item in l),\n",
    "            'happy' : sum(item['happy'] for item in l),\n",
    "            'sad' : sum(item['sad'] for item in l),\n",
    "            'surprise' : sum(item['surprise'] for item in l),\n",
    "            'neutral' : sum(item['neutral'] for item in l)}\n",
    "        big_d.append(d)\n",
    "    df = pd.DataFrame(big_d)\n",
    "    df.to_csv(out_dir + video_name[i] + '.csv', index = False)"
   ]
  },
  {
   "cell_type": "code",
   "execution_count": 5,
   "id": "6ff8d5cb-fd92-45ee-b19c-993f4f80bf5f",
   "metadata": {},
   "outputs": [],
   "source": [
    "# py_session()\n",
    "# 69 modules found\n",
    "# IPython             \t7.22.0                  imageio             \t2.9.0                   ptyprocess          \t0.7.0\n",
    "# PIL                 \t8.2.0                   imageio_ffmpeg      \t0.4.9                   py_session          \t0.1.1\n",
    "# argparse            \t1.1                     ipykernel           \t5.3.4                   pygments            \t2.8.1\n",
    "# astunparse          \t1.6.3                   ipython_genutils    \t0.2.0                   pyparsing           \t2.4.7\n",
    "# backcall            \t0.2.0                   ipywidgets          \t7.6.3                   pytz                \t2021.1\n",
    "# bottleneck          \t1.3.2                   jedi                \t0.17.2                  re                  \t2.2.1\n",
    "# certifi             \t2020.12.05              json                \t2.0.9                   requests            \t2.31.0\n",
    "# cffi                \t1.14.5                  jupyter_client      \t6.1.12                  scipy               \t1.6.2\n",
    "# chardet             \t4.0.0                   jupyter_core        \t4.7.1                   six                 \t1.15.0\n",
    "# charset_normalizer  \t3.3.2                   keras_preprocessing \t1.1.2                   skimage             \t0.18.1\n",
    "# colorama            \t0.4.4                   kiwisolver          \t1.3.1                   socks               \t1.7.1\n",
    "# csv                 \t1.0                     logging             \t0.5.1.2                 tblib               \t1.7.0\n",
    "# ctypes              \t1.1.0                   matplotlib          \t3.3.4                   tensorboard         \t2.11.2\n",
    "# cv2                 \t4.8.1                   moviepy             \t1.0.3                   tensorflow          \t2.5.0\n",
    "# cycler              \t0.10.0                  numpy               \t1.22.4                  termcolor           \t(1, 1, 0)\n",
    "# dateutil            \t2.8.1                   opt_einsum          \tv3.3.0                  tqdm                \t4.66.1\n",
    "# decimal             \t1.70                    pandas              \t1.2.4                   traitlets           \t5.0.5\n",
    "# decorator           \t4.4.2                   parso               \t0.7.0                   urllib3             \t1.26.4\n",
    "# distutils           \t3.8.8                   pexpect             \t4.8.0                   wcwidth             \t0.2.5\n",
    "# fer                 \t22.5.1                  pickleshare         \t0.7.5                   wrapt               \t1.12.1\n",
    "# fsspec              \t0.9.0                   platform            \t1.0.8                   yaml                \t5.4.1\n",
    "# h5py                \t3.1.0                   proglog             \t0.1.10                  zlib                \t1.0\n",
    "# idna                \t2.10                    prompt_toolkit      \t3.0.17                  zmq                 \t20.0.0"
   ]
  }
 ],
 "metadata": {
  "kernelspec": {
   "display_name": "Python 3",
   "language": "python",
   "name": "python3"
  },
  "language_info": {
   "codemirror_mode": {
    "name": "ipython",
    "version": 3
   },
   "file_extension": ".py",
   "mimetype": "text/x-python",
   "name": "python",
   "nbconvert_exporter": "python",
   "pygments_lexer": "ipython3",
   "version": "3.8.8"
  }
 },
 "nbformat": 4,
 "nbformat_minor": 5
}
