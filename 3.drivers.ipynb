{
 "cells": [
  {
   "cell_type": "markdown",
   "id": "2f818ee7-831d-475b-a5d5-ac8793b8f3c3",
   "metadata": {},
   "source": [
    "## Drivers of PE-Score (Figure 5-7)"
   ]
  },
  {
   "cell_type": "code",
   "execution_count": 1,
   "id": "37d616c5-569d-4b4e-b7f2-15acb8febce7",
   "metadata": {},
   "outputs": [],
   "source": [
    "dir_path = '/Users/jeremyzyang/Library/CloudStorage/GoogleDrive-jeremy.z.yang@gmail.com/My Drive/tiktok_revision'\n",
    "setwd(dir_path)"
   ]
  },
  {
   "cell_type": "code",
   "execution_count": 2,
   "id": "35d0ce87-ed03-4b83-a698-2531bacbb912",
   "metadata": {},
   "outputs": [],
   "source": [
    "load('engagement_that_sells.RData')\n",
    "options(warn = -1)"
   ]
  },
  {
   "cell_type": "code",
   "execution_count": 3,
   "id": "5d25d208-7c59-45ff-ab57-76ff24d79868",
   "metadata": {},
   "outputs": [],
   "source": [
    "suppressWarnings(suppressMessages(library(data.table)))\n",
    "suppressWarnings(suppressMessages(library(tidyverse)))\n",
    "suppressWarnings(suppressMessages(library(lfe)))\n",
    "suppressWarnings(suppressMessages(library(patchwork)))\n",
    "suppressWarnings(suppressMessages(library(zoo)))\n",
    "suppressWarnings(suppressMessages(library(doParallel)))\n",
    "suppressWarnings(suppressMessages(library(staggered)))\n",
    "suppressWarnings(suppressMessages(library(fixest)))\n",
    "suppressWarnings(suppressMessages(library(faux)))\n",
    "suppressWarnings(suppressMessages(library(stargazer)))\n",
    "suppressWarnings(suppressMessages(library(xgboost)))\n",
    "suppressWarnings(suppressMessages(library(caret)))"
   ]
  },
  {
   "cell_type": "code",
   "execution_count": 4,
   "id": "ea93e15a-b5e9-47a9-a9e7-2eb8326b5604",
   "metadata": {},
   "outputs": [
    {
     "data": {
      "text/plain": [
       "R version 4.2.1 (2022-06-23)\n",
       "Platform: x86_64-apple-darwin17.0 (64-bit)\n",
       "Running under: macOS Big Sur ... 10.16\n",
       "\n",
       "Matrix products: default\n",
       "BLAS:   /Library/Frameworks/R.framework/Versions/4.2/Resources/lib/libRblas.0.dylib\n",
       "LAPACK: /Library/Frameworks/R.framework/Versions/4.2/Resources/lib/libRlapack.dylib\n",
       "\n",
       "locale:\n",
       "[1] en_US.UTF-8/en_US.UTF-8/en_US.UTF-8/C/en_US.UTF-8/en_US.UTF-8\n",
       "\n",
       "attached base packages:\n",
       "[1] parallel  stats     graphics  grDevices utils     datasets  methods  \n",
       "[8] base     \n",
       "\n",
       "other attached packages:\n",
       " [1] caret_6.0-93      lattice_0.20-45   xgboost_1.6.0.1   stargazer_5.2.3  \n",
       " [5] faux_1.1.0        fixest_0.10.4     staggered_1.1     doParallel_1.0.17\n",
       " [9] iterators_1.0.14  foreach_1.5.2     zoo_1.8-11        patchwork_1.1.2  \n",
       "[13] lfe_2.8-8         Matrix_1.5-1      forcats_0.5.2     stringr_1.4.1    \n",
       "[17] dplyr_1.0.10      purrr_0.3.4       readr_2.1.3       tidyr_1.2.1      \n",
       "[21] tibble_3.1.8      ggplot2_3.3.6     tidyverse_1.3.2   data.table_1.14.2\n",
       "\n",
       "loaded via a namespace (and not attached):\n",
       " [1] nlme_3.1-157         fs_1.5.2             lubridate_1.8.0     \n",
       " [4] httr_1.4.4           dreamerr_1.2.3       repr_1.1.4          \n",
       " [7] numDeriv_2016.8-1.1  tools_4.2.1          backports_1.4.1     \n",
       "[10] utf8_1.2.2           R6_2.5.1             rpart_4.1.16        \n",
       "[13] DBI_1.1.3            colorspace_2.0-3     nnet_7.3-17         \n",
       "[16] withr_2.5.0          tidyselect_1.2.0     compiler_4.2.1      \n",
       "[19] cli_3.4.1            rvest_1.0.3          xml2_1.3.3          \n",
       "[22] sandwich_3.0-2       scales_1.2.1         pbdZMQ_0.3-7        \n",
       "[25] digest_0.6.29        base64enc_0.1-3      pkgconfig_2.0.3     \n",
       "[28] htmltools_0.5.4      parallelly_1.34.0    dbplyr_2.2.1        \n",
       "[31] fastmap_1.1.0        rlang_1.0.6          readxl_1.4.1        \n",
       "[34] generics_0.1.3       jsonlite_1.8.2       ModelMetrics_1.2.2.2\n",
       "[37] googlesheets4_1.0.1  magrittr_2.0.3       Formula_1.2-4       \n",
       "[40] Rcpp_1.0.9           IRkernel_1.3         munsell_0.5.0       \n",
       "[43] fansi_1.0.3          lifecycle_1.0.3      pROC_1.18.0         \n",
       "[46] stringi_1.7.8        MASS_7.3-57          plyr_1.8.7          \n",
       "[49] recipes_1.0.4        grid_4.2.1           listenv_0.9.0       \n",
       "[52] crayon_1.5.2         splines_4.2.1        IRdisplay_1.1       \n",
       "[55] haven_2.5.1          hms_1.1.2            pillar_1.8.1        \n",
       "[58] uuid_1.1-0           stats4_4.2.1         reshape2_1.4.4      \n",
       "[61] future.apply_1.10.0  codetools_0.2-18     reprex_2.0.2        \n",
       "[64] glue_1.6.2           evaluate_0.16        modelr_0.1.9        \n",
       "[67] vctrs_0.5.1          tzdb_0.3.0           cellranger_1.1.0    \n",
       "[70] gtable_0.3.1         future_1.30.0        assertthat_0.2.1    \n",
       "[73] gower_1.0.1          prodlim_2019.11.13   xtable_1.8-4        \n",
       "[76] broom_1.0.1          survival_3.3-1       class_7.3-20        \n",
       "[79] googledrive_2.0.0    gargle_1.2.1         timeDate_4022.108   \n",
       "[82] hardhat_1.2.0        lava_1.7.1           globals_0.16.2      \n",
       "[85] ellipsis_0.3.2       ipred_0.9-13        "
      ]
     },
     "metadata": {},
     "output_type": "display_data"
    }
   ],
   "source": [
    "sessionInfo()"
   ]
  },
  {
   "cell_type": "code",
   "execution_count": 5,
   "id": "b197663e-67fa-4d7d-9e77-983f2ff15693",
   "metadata": {},
   "outputs": [
    {
     "data": {
      "text/html": [
       "<style>\n",
       ".list-inline {list-style: none; margin:0; padding: 0}\n",
       ".list-inline>li {display: inline-block}\n",
       ".list-inline>li:not(:last-child)::after {content: \"\\00b7\"; padding: 0 .5ex}\n",
       "</style>\n",
       "<ol class=list-inline><li>'dir_path'</li><li>'model_construction'</li><li>'model_evaluation'</li><li>'search'</li></ol>\n"
      ],
      "text/latex": [
       "\\begin{enumerate*}\n",
       "\\item 'dir\\_path'\n",
       "\\item 'model\\_construction'\n",
       "\\item 'model\\_evaluation'\n",
       "\\item 'search'\n",
       "\\end{enumerate*}\n"
      ],
      "text/markdown": [
       "1. 'dir_path'\n",
       "2. 'model_construction'\n",
       "3. 'model_evaluation'\n",
       "4. 'search'\n",
       "\n",
       "\n"
      ],
      "text/plain": [
       "[1] \"dir_path\"           \"model_construction\" \"model_evaluation\"  \n",
       "[4] \"search\"            "
      ]
     },
     "metadata": {},
     "output_type": "display_data"
    }
   ],
   "source": [
    "ls()"
   ]
  },
  {
   "cell_type": "code",
   "execution_count": 6,
   "id": "71ae58a7-a5cb-4ff3-b23c-c45983159b8c",
   "metadata": {},
   "outputs": [],
   "source": [
    "training = model_construction\n",
    "df = model_evaluation"
   ]
  },
  {
   "cell_type": "markdown",
   "id": "57f0dd40-4fb7-4fe6-8aa8-df6ab1ff34f7",
   "metadata": {},
   "source": [
    "#### Figure 5 (to-do)"
   ]
  },
  {
   "cell_type": "markdown",
   "id": "de86843b-7fbd-4bd0-a459-566620798794",
   "metadata": {},
   "source": [
    "#### Figure 6 (to-do)"
   ]
  },
  {
   "cell_type": "markdown",
   "id": "ffe9a0ff-a0b1-43a1-aecf-d539a14af1de",
   "metadata": {},
   "source": [
    "#### Figure 7 (to-do)"
   ]
  }
 ],
 "metadata": {
  "kernelspec": {
   "display_name": "R",
   "language": "R",
   "name": "ir"
  },
  "language_info": {
   "codemirror_mode": "r",
   "file_extension": ".r",
   "mimetype": "text/x-r-source",
   "name": "R",
   "pygments_lexer": "r",
   "version": "4.2.1"
  }
 },
 "nbformat": 4,
 "nbformat_minor": 5
}
