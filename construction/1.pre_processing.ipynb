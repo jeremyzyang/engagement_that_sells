{
 "cells": [
  {
   "cell_type": "code",
   "execution_count": 1,
   "id": "be2d4d00-0a69-41b7-96b6-cdb716482b5a",
   "metadata": {},
   "outputs": [],
   "source": [
    "from py_session import py_session\n",
    "import numpy as np\n",
    "import os\n",
    "import pandas as pd\n",
    "import cv2\n",
    "import natsort\n",
    "import pickle\n",
    "import numpy as np\n",
    "from scipy.io import wavfile"
   ]
  },
  {
   "cell_type": "markdown",
   "id": "ccf52f48-f2e8-4efd-92fe-46eaac855b46",
   "metadata": {},
   "source": [
    "### frame extraction"
   ]
  },
  {
   "cell_type": "code",
   "execution_count": 2,
   "id": "3f829ded-5e7d-4ec8-a4c5-808de354e93e",
   "metadata": {},
   "outputs": [],
   "source": [
    "# extract frames from videos\n",
    "\n",
    "# get video directory\n",
    "video_dir = '/n/holylfs05/LABS/jyang_lab/Lab/tiktok_sample/training/video/'\n",
    "#video_dir = '/n/holylfs05/LABS/jyang_lab/Lab/tiktok_sample/sales_panel/video/'\n",
    "\n",
    "# specify directory to save frames\n",
    "frame_dir = '/n/holylfs05/LABS/jyang_lab/Lab/tiktok_sample/training/frame/'\n",
    "#frame_dir = '/n/holylfs05/LABS/jyang_lab/Lab/tiktok_sample/sales_panel/frame/'\n",
    "\n",
    "os.chdir(video_dir)\n",
    "video_name = natsort.natsorted(os.listdir(video_dir))"
   ]
  },
  {
   "cell_type": "code",
   "execution_count": 3,
   "id": "b120865b-4595-43bb-9717-8b5dffed1c7c",
   "metadata": {},
   "outputs": [],
   "source": [
    "# sample 1 frame per second up to 60 seconds\n",
    "\n",
    "for f in video_name:\n",
    "    \n",
    "    new_dir = os.path.join(frame_dir, f)\n",
    "    os.mkdir(new_dir)\n",
    "    \n",
    "    os.chdir(video_dir)\n",
    "    vidcap = cv2.VideoCapture(f)\n",
    "    \n",
    "    fps = vidcap.get(cv2.CAP_PROP_FPS) # sample 1 frame per second \n",
    "    \n",
    "    os.chdir(new_dir)\n",
    "    \n",
    "    count = 0\n",
    "        \n",
    "    while vidcap.isOpened():\n",
    "        sucess, frame = vidcap.read()\n",
    "        \n",
    "        if sucess and count <= fps*(60-1):\n",
    "            cv2.imwrite('frame%d.jpg' % count, frame)\n",
    "            count +=  fps # this advances one second\n",
    "            vidcap.set(1, count)\n",
    "        else:\n",
    "            vidcap.release()\n",
    "            break"
   ]
  },
  {
   "cell_type": "markdown",
   "id": "a66b71c5-3289-40cc-b33d-c889ba1cebea",
   "metadata": {},
   "source": [
    "### audio extraction"
   ]
  },
  {
   "cell_type": "code",
   "execution_count": 4,
   "id": "5030447b-1b6e-450c-9657-a361fda73a32",
   "metadata": {},
   "outputs": [],
   "source": [
    "import sys\n",
    "from moviepy.editor import *\n",
    "import ffmpeg\n",
    "import numpy as np\n",
    "import os\n",
    "import pandas as pd\n",
    "import cv2\n",
    "import natsort\n",
    "import pandas as pd\n",
    "import pickle\n",
    "import imageio\n",
    "import subprocess\n",
    "from scipy.io import wavfile\n",
    "from statistics import mean"
   ]
  },
  {
   "cell_type": "code",
   "execution_count": 5,
   "id": "0f1213a7-73a7-4bc4-95cd-0eb2472fa0da",
   "metadata": {},
   "outputs": [],
   "source": [
    "audio_dir = '/n/holylfs05/LABS/jyang_lab/Lab/tiktok_sample/training/audio/'"
   ]
  },
  {
   "cell_type": "code",
   "execution_count": 6,
   "id": "89994ef9-475d-44ae-9a3a-71c0499c4c4b",
   "metadata": {
    "tags": []
   },
   "outputs": [
    {
     "name": "stdout",
     "output_type": "stream",
     "text": [
      "MoviePy - Writing audio in /n/holylfs05/LABS/jyang_lab/Lab/tiktok_sample/training/audio/_video_id=v0200f030000bieakmagnbhckpvvf440.mp4.wav\n"
     ]
    },
    {
     "name": "stderr",
     "output_type": "stream",
     "text": [
      "                                                                     \r"
     ]
    },
    {
     "name": "stdout",
     "output_type": "stream",
     "text": [
      "MoviePy - Done.\n",
      "MoviePy - Writing audio in /n/holylfs05/LABS/jyang_lab/Lab/tiktok_sample/training/audio/_video_id=v0200f250000bio6hglp06vh78ohfr9g.mp4.wav\n"
     ]
    },
    {
     "name": "stderr",
     "output_type": "stream",
     "text": [
      "                                                        \r"
     ]
    },
    {
     "name": "stdout",
     "output_type": "stream",
     "text": [
      "MoviePy - Done.\n",
      "MoviePy - Writing audio in /n/holylfs05/LABS/jyang_lab/Lab/tiktok_sample/training/audio/_video_id=v0200f660000bj1bvuaikatsj0kvevbg.mp4.wav\n"
     ]
    },
    {
     "name": "stderr",
     "output_type": "stream",
     "text": [
      "                                                                    \r"
     ]
    },
    {
     "name": "stdout",
     "output_type": "stream",
     "text": [
      "MoviePy - Done.\n",
      "MoviePy - Writing audio in /n/holylfs05/LABS/jyang_lab/Lab/tiktok_sample/training/audio/_video_id=v0200fba0000bjuese7m1hf6r256ji80.mp4.wav\n"
     ]
    },
    {
     "name": "stderr",
     "output_type": "stream",
     "text": [
      "                                                                    \r"
     ]
    },
    {
     "name": "stdout",
     "output_type": "stream",
     "text": [
      "MoviePy - Done.\n",
      "MoviePy - Writing audio in /n/holylfs05/LABS/jyang_lab/Lab/tiktok_sample/training/audio/_video_id=v0200fcd0000bjshgu6t8ah51jg60p3g.mp4.wav\n"
     ]
    },
    {
     "name": "stderr",
     "output_type": "stream",
     "text": [
      "                                                       \r"
     ]
    },
    {
     "name": "stdout",
     "output_type": "stream",
     "text": [
      "MoviePy - Done.\n",
      "MoviePy - Writing audio in /n/holylfs05/LABS/jyang_lab/Lab/tiktok_sample/training/audio/_video_id=v0200fd50000bj9vi2kuatl7dl0m9c8g.mp4.wav\n"
     ]
    },
    {
     "name": "stderr",
     "output_type": "stream",
     "text": [
      "                                                                      \r"
     ]
    },
    {
     "name": "stdout",
     "output_type": "stream",
     "text": [
      "MoviePy - Done.\n",
      "MoviePy - Writing audio in /n/holylfs05/LABS/jyang_lab/Lab/tiktok_sample/training/audio/_video_id=v0300f7d0000bj0q38it36d9rgv6sd30.mp4.wav\n"
     ]
    },
    {
     "name": "stderr",
     "output_type": "stream",
     "text": [
      "                                                                    \r"
     ]
    },
    {
     "name": "stdout",
     "output_type": "stream",
     "text": [
      "MoviePy - Done.\n",
      "MoviePy - Writing audio in /n/holylfs05/LABS/jyang_lab/Lab/tiktok_sample/training/audio/_video_id=v0300f7d0000bj2h006qv7mdusje2ucg.mp4.wav\n"
     ]
    },
    {
     "name": "stderr",
     "output_type": "stream",
     "text": [
      "                                                                    \r"
     ]
    },
    {
     "name": "stdout",
     "output_type": "stream",
     "text": [
      "MoviePy - Done.\n",
      "MoviePy - Writing audio in /n/holylfs05/LABS/jyang_lab/Lab/tiktok_sample/training/audio/_video_id=v0300f390000bj731ob4nf36q7ef92mg.mp4.wav\n"
     ]
    },
    {
     "name": "stderr",
     "output_type": "stream",
     "text": [
      "                                                        \r"
     ]
    },
    {
     "name": "stdout",
     "output_type": "stream",
     "text": [
      "MoviePy - Done.\n",
      "MoviePy - Writing audio in /n/holylfs05/LABS/jyang_lab/Lab/tiktok_sample/training/audio/_video_id=v0300ff30000bjp566jbdg8imsqrp0ag.mp4.wav\n"
     ]
    },
    {
     "name": "stderr",
     "output_type": "stream",
     "text": [
      "                                                                    "
     ]
    },
    {
     "name": "stdout",
     "output_type": "stream",
     "text": [
      "MoviePy - Done.\n"
     ]
    },
    {
     "name": "stderr",
     "output_type": "stream",
     "text": [
      "\r"
     ]
    }
   ],
   "source": [
    "for file_num, file_name in enumerate(video_name, start=1):\n",
    "    if 'mouthcropped' not in file_name:\n",
    "        try:\n",
    "            file_path_input = video_dir + file_name\n",
    "            file_path_output = audio_dir + file_name + '.wav'\n",
    "\n",
    "            video = VideoFileClip(file_path_input)\n",
    "            audio = video.audio \n",
    "            audio.write_audiofile(file_path_output)\n",
    "        \n",
    "        except:\n",
    "            continue"
   ]
  },
  {
   "cell_type": "markdown",
   "id": "3fc4906b-e5b4-482e-95a7-065f75b187ae",
   "metadata": {
    "tags": []
   },
   "source": [
    "### speech recognition"
   ]
  },
  {
   "cell_type": "code",
   "execution_count": 7,
   "id": "454bb5a7-0c60-4501-8877-4779fa89bd47",
   "metadata": {},
   "outputs": [],
   "source": [
    "audio_name = os.listdir(audio_dir)"
   ]
  },
  {
   "cell_type": "code",
   "execution_count": 8,
   "id": "935fcd80-5626-450f-983f-cae2e984c929",
   "metadata": {},
   "outputs": [],
   "source": [
    "import speech_recognition as sr\n",
    "r = sr.Recognizer()"
   ]
  },
  {
   "cell_type": "code",
   "execution_count": 9,
   "id": "a82b89a6-a5e9-4fee-85b9-de00e4a5d286",
   "metadata": {},
   "outputs": [],
   "source": [
    "speech = []\n",
    "\n",
    "for i, file_name in enumerate(audio_name): \n",
    "    f = audio_dir + '/' + file_name\n",
    "    \n",
    "    with sr.AudioFile(f) as source:\n",
    "        audio_data = r.record(source)\n",
    "        try:\n",
    "            t = r.recognize_google(audio_data, language = \"zh\")\n",
    "            speech.append(t)\n",
    "        except sr.UnknownValueError:\n",
    "            t = 'NA'\n",
    "            speech.append(t)"
   ]
  },
  {
   "cell_type": "code",
   "execution_count": 10,
   "id": "3c647ffe-c756-4335-b835-398c3ded8ddc",
   "metadata": {},
   "outputs": [],
   "source": [
    "df = pd.DataFrame()\n",
    "df['video_full_id'] = [a.replace('.wav', '') for a in audio_name]\n",
    "df['speech'] = speech"
   ]
  },
  {
   "cell_type": "code",
   "execution_count": 11,
   "id": "fb8e794d-69cf-4184-9629-f3ef2d62750b",
   "metadata": {},
   "outputs": [],
   "source": [
    "# py_session()\n",
    "# 58 modules found\n",
    "# IPython             \t7.22.0                  imageio_ffmpeg      \t0.4.9                   ptyprocess          \t0.7.0\n",
    "# PIL                 \t8.2.0                   ipykernel           \t5.3.4                   py_session          \t0.1.1\n",
    "# argparse            \t1.1                     ipython_genutils    \t0.2.0                   pygments            \t2.8.1\n",
    "# backcall            \t0.2.0                   jedi                \t0.17.2                  pyparsing           \t2.4.7\n",
    "# bottleneck          \t1.3.2                   json                \t2.0.9                   pytz                \t2021.1\n",
    "# certifi             \t2020.12.05              jupyter_client      \t6.1.12                  re                  \t2.2.1\n",
    "# cffi                \t1.14.5                  jupyter_core        \t4.7.1                   requests            \t2.31.0\n",
    "# chardet             \t4.0.0                   kiwisolver          \t1.3.1                   scipy               \t1.6.2\n",
    "# charset_normalizer  \t3.3.2                   logging             \t0.5.1.2                 six                 \t1.15.0\n",
    "# colorama            \t0.4.4                   matplotlib          \t3.3.4                   skimage             \t0.18.1\n",
    "# csv                 \t1.0                     moviepy             \t1.0.3                   socks               \t1.7.1\n",
    "# ctypes              \t1.1.0                   natsort             \t8.4.0                   speech_recognition  \t3.8.1\n",
    "# cv2                 \t4.8.1                   numpy               \t1.22.4                  tqdm                \t4.66.1\n",
    "# cycler              \t0.10.0                  pandas              \t1.2.4                   traitlets           \t5.0.5\n",
    "# dateutil            \t2.8.1                   parso               \t0.7.0                   urllib3             \t1.26.4\n",
    "# decimal             \t1.70                    pexpect             \t4.8.0                   wcwidth             \t0.2.5\n",
    "# decorator           \t4.4.2                   pickleshare         \t0.7.5                   zlib                \t1.0\n",
    "# distutils           \t3.8.8                   platform            \t1.0.8                   zmq                 \t20.0.0\n",
    "# imageio             \t2.9.0            "
   ]
  }
 ],
 "metadata": {
  "kernelspec": {
   "display_name": "Python 3",
   "language": "python",
   "name": "python3"
  },
  "language_info": {
   "codemirror_mode": {
    "name": "ipython",
    "version": 3
   },
   "file_extension": ".py",
   "mimetype": "text/x-python",
   "name": "python",
   "nbconvert_exporter": "python",
   "pygments_lexer": "ipython3",
   "version": "3.8.8"
  }
 },
 "nbformat": 4,
 "nbformat_minor": 5
}
