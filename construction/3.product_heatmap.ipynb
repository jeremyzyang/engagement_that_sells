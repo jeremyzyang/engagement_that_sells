{
 "cells": [
  {
   "cell_type": "code",
   "execution_count": 1,
   "id": "bcbc2a5b-fa5c-4308-a3e0-f4ce830c2db8",
   "metadata": {},
   "outputs": [],
   "source": [
    "from py_session import py_session\n",
    "import pandas as pd\n",
    "import os\n",
    "import numpy as np\n",
    "from natsort import natsorted, ns\n",
    "import cv2\n",
    "import matplotlib.pyplot as plt\n",
    "import numpy as np\n",
    "import itertools"
   ]
  },
  {
   "cell_type": "code",
   "execution_count": 2,
   "id": "c896a525-09e5-4d44-b18a-dce727047808",
   "metadata": {},
   "outputs": [],
   "source": [
    "# get product image directory\n",
    "picture_dir = '/n/holylfs05/LABS/jyang_lab/Lab/tiktok_sample/sales_panel/product_image/'\n",
    "\n",
    "# get video directory for extracting product heatmap\n",
    "video_dir = '/n/holylfs05/LABS/jyang_lab/Lab/tiktok_sample/sales_panel/frame/'\n",
    "video_name = os.listdir(video_dir)\n",
    "\n",
    "# specify directory to save output\n",
    "out_dir = '/n/holylfs05/LABS/jyang_lab/Lab/tiktok_sample/sales_panel/product_heatmap/'"
   ]
  },
  {
   "cell_type": "code",
   "execution_count": 3,
   "id": "e0de372f-87d2-4dd3-8381-ab40f677147c",
   "metadata": {},
   "outputs": [],
   "source": [
    "# create a convex hull of all identified product pixels\n",
    "def in_hull(p, hull):\n",
    "    \"\"\"\n",
    "    Test if points in `p` are in `hull`\n",
    "\n",
    "    `p` should be a `NxK` coordinates of `N` points in `K` dimensions\n",
    "    `hull` is either a scipy.spatial.Delaunay object or the `MxK` array of the \n",
    "    coordinates of `M` points in `K`dimensions for which Delaunay triangulation\n",
    "    will be computed\n",
    "    \"\"\"\n",
    "    from scipy.spatial import Delaunay\n",
    "    if not isinstance(hull,Delaunay):\n",
    "        hull = Delaunay(hull)\n",
    "\n",
    "    return hull.find_simplex(p)>=0"
   ]
  },
  {
   "cell_type": "code",
   "execution_count": 4,
   "id": "946fb9dd-2d3a-4609-b031-b4fcaa6271b4",
   "metadata": {},
   "outputs": [],
   "source": [
    "# create a list of coordinates for all the pixels in an image\n",
    "length = 224\n",
    "width = 224\n",
    "\n",
    "c1 = list(range(0, length))\n",
    "c2 = list(range(0, width))\n",
    "c3 = [c1, c2]\n",
    "c = [l for l in itertools.product(*c3)]"
   ]
  },
  {
   "cell_type": "code",
   "execution_count": 5,
   "id": "eb528f5c-c985-4dc8-9d75-15506eb39dd5",
   "metadata": {
    "tags": []
   },
   "outputs": [],
   "source": [
    "for video in video_name:    \n",
    "    \n",
    "    try:\n",
    "        target = cv2.imread(picture_dir + video + '.jpg', 0)\n",
    "        target = cv2.resize(target , (length,width))\n",
    "        \n",
    "        if target is not None:\n",
    "            frame_dir = video_dir + video + '/'\n",
    "            frame_names = os.listdir(frame_dir)\n",
    "            frame_names = natsorted(frame_names)\n",
    "            p_video = []\n",
    "            \n",
    "            # feature matching\n",
    "            orb = cv2.ORB_create(nfeatures = 1000, scoreType = cv2.ORB_FAST_SCORE)\n",
    "            kp1, des1 = orb.detectAndCompute(target, None)\n",
    "            \n",
    "            out = out_dir + video \n",
    "        \n",
    "            for file_name in frame_names:\n",
    "                try:\n",
    "                    img = cv2.imread(frame_dir + file_name, 0)\n",
    "                    img = cv2.resize(img, (length,width))\n",
    "                    \n",
    "                    kp2, des2 = orb.detectAndCompute(img,None)\n",
    "                    # BFMatcher with default params\n",
    "                    bf = cv2.BFMatcher()\n",
    "                    matches = bf.knnMatch(des1, des2, k=2)\n",
    "                    # apply ratio test\n",
    "                    good = []\n",
    "                    for m,n in matches: \n",
    "                        if m.distance < 0.75 * n.distance:\n",
    "                            good.append(m)                    \n",
    "                    \n",
    "                    location = [kp2[g.trainIdx].pt for g in good]\n",
    "                    location = np.rint(location).astype(int)\n",
    "                    \n",
    "                    p = np.zeros((img.shape))\n",
    "                    for l in location:\n",
    "                        p[l[1],l[0]] = 1\n",
    "                    \n",
    "                    hull = np.transpose(np.asarray(np.nonzero(p)))\n",
    "                    convex = in_hull(c, hull)\n",
    "                    convex = convex.reshape((length, width)).astype(np.int32) + p\n",
    "                    convex[convex > 0] = 1\n",
    "            \n",
    "                    p_video.append(convex)                    \n",
    "                \n",
    "                except:\n",
    "                    continue\n",
    "            \n",
    "            p_video_array = np.asarray(p_video, dtype=np.float32)\n",
    "            np.save(out, p_video_array)\n",
    "        \n",
    "        else:\n",
    "            continue\n",
    "\n",
    "    except:\n",
    "        print('match error')"
   ]
  },
  {
   "cell_type": "code",
   "execution_count": 6,
   "id": "8c276089-4f3f-40d6-9d58-05b48138d99c",
   "metadata": {},
   "outputs": [],
   "source": [
    "# py_session()\n",
    "# 44 modules found\n",
    "# IPython             \t7.22.0                  ipykernel           \t5.3.4                   platform            \t1.0.8\n",
    "# PIL                 \t8.2.0                   ipython_genutils    \t0.2.0                   prompt_toolkit      \t3.0.17\n",
    "# argparse            \t1.1                     jedi                \t0.17.2                  ptyprocess          \t0.7.0\n",
    "# backcall            \t0.2.0                   json                \t2.0.9                   py_session          \t0.1.1\n",
    "# bottleneck          \t1.3.2                   jupyter_client      \t6.1.12                  pygments            \t2.8.1\n",
    "# cffi                \t1.14.5                  jupyter_core        \t4.7.1                   pyparsing           \t2.4.7\n",
    "# colorama            \t0.4.4                   kiwisolver          \t1.3.1                   pytz                \t2021.1\n",
    "# csv                 \t1.0                     logging             \t0.5.1.2                 re                  \t2.2.1\n",
    "# ctypes              \t1.1.0                   matplotlib          \t3.3.4                   scipy               \t1.6.2\n",
    "# cv2                 \t4.8.1                   natsort             \t8.4.0                   six                 \t1.15.0\n",
    "# cycler              \t0.10.0                  numpy               \t1.22.4                  traitlets           \t5.0.5\n",
    "# dateutil            \t2.8.1                   pandas              \t1.2.4                   wcwidth             \t0.2.5\n",
    "# decimal             \t1.70                    parso               \t0.7.0                   zlib                \t1.0\n",
    "# decorator           \t4.4.2                   pexpect             \t4.8.0                   zmq                 \t20.0.0\n",
    "# distutils           \t3.8.8                   pickleshare         \t0.7.5                   "
   ]
  }
 ],
 "metadata": {
  "kernelspec": {
   "display_name": "Python 3",
   "language": "python",
   "name": "python3"
  },
  "language_info": {
   "codemirror_mode": {
    "name": "ipython",
    "version": 3
   },
   "file_extension": ".py",
   "mimetype": "text/x-python",
   "name": "python",
   "nbconvert_exporter": "python",
   "pygments_lexer": "ipython3",
   "version": "3.8.8"
  }
 },
 "nbformat": 4,
 "nbformat_minor": 5
}
