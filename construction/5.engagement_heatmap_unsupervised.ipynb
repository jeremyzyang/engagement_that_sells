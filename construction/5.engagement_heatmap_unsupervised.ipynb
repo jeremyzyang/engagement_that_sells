{
 "cells": [
  {
   "cell_type": "code",
   "execution_count": 1,
   "id": "0748f078-8366-4d2f-a60f-62b4ca778436",
   "metadata": {},
   "outputs": [],
   "source": [
    "from py_session import py_session\n",
    "import cv2\n",
    "import matplotlib.pyplot as plt\n",
    "import numpy as np\n",
    "import natsort\n",
    "import os\n",
    "import pickle\n",
    "import imageio\n",
    "from skimage import data, color\n",
    "from skimage.transform import rescale, resize, downscale_local_mean"
   ]
  },
  {
   "cell_type": "code",
   "execution_count": 2,
   "id": "b179810b-b611-47b4-ae68-491102b3cd65",
   "metadata": {},
   "outputs": [],
   "source": [
    "video_dir = '/n/holylfs05/LABS/jyang_lab/Lab/tiktok_sample/sales_panel/frame/'\n",
    "video_name = os.listdir(video_dir)\n",
    "\n",
    "out_dir = '/n/holylfs05/LABS/jyang_lab/Lab/tiktok_sample/sales_panel/engagement_heatmap_unsupervised/'"
   ]
  },
  {
   "cell_type": "code",
   "execution_count": 3,
   "id": "54f4ec1d-be27-4065-a3db-2db57eabb800",
   "metadata": {},
   "outputs": [],
   "source": [
    "length = 224\n",
    "width = 224\n",
    "\n",
    "saliency = cv2.saliency.StaticSaliencySpectralResidual_create()\n",
    "\n",
    "for video in video_name:\n",
    "    y = []\n",
    "    \n",
    "    frame_name = os.listdir(video_dir + video)\n",
    "    frame_name = natsort.natsorted(frame_name)\n",
    "    \n",
    "    if len(frame_name) < 1:\n",
    "        next\n",
    "    else:       \n",
    "        for frame in frame_name:\n",
    "            if not frame.startswith('.'):\n",
    "                image = cv2.imread(video_dir + video + '/' + frame)\n",
    "                image = resize(image , (length,width))\n",
    "                image = np.float32(image)\n",
    "                (success, saliencyMap) = saliency.computeSaliency(image)\n",
    "                y.append(saliencyMap)\n",
    "    \n",
    "    y = np.array(y)\n",
    "    out = out_dir + video\n",
    "    np.save(out, y)"
   ]
  },
  {
   "cell_type": "code",
   "execution_count": 4,
   "id": "57d89648-e85e-4fa8-a046-7b31d241d0ea",
   "metadata": {},
   "outputs": [],
   "source": [
    "# py_session()\n",
    "# 42 modules found\n",
    "# IPython             \t7.22.0                  ipykernel           \t5.3.4                   platform            \t1.0.8\n",
    "# PIL                 \t8.2.0                   ipython_genutils    \t0.2.0                   prompt_toolkit      \t3.0.17\n",
    "# argparse            \t1.1                     jedi                \t0.17.2                  ptyprocess          \t0.7.0\n",
    "# backcall            \t0.2.0                   json                \t2.0.9                   py_session          \t0.1.1\n",
    "# cffi                \t1.14.5                  jupyter_client      \t6.1.12                  pygments            \t2.8.1\n",
    "# colorama            \t0.4.4                   jupyter_core        \t4.7.1                   pyparsing           \t2.4.7\n",
    "# ctypes              \t1.1.0                   kiwisolver          \t1.3.1                   re                  \t2.2.1\n",
    "# cv2                 \t4.8.1                   logging             \t0.5.1.2                 scipy               \t1.6.2\n",
    "# cycler              \t0.10.0                  matplotlib          \t3.3.4                   six                 \t1.15.0\n",
    "# dateutil            \t2.8.1                   natsort             \t8.4.0                   skimage             \t0.18.1\n",
    "# decimal             \t1.70                    numpy               \t1.22.4                  traitlets           \t5.0.5\n",
    "# decorator           \t4.4.2                   parso               \t0.7.0                   wcwidth             \t0.2.5\n",
    "# distutils           \t3.8.8                   pexpect             \t4.8.0                   zlib                \t1.0\n",
    "# imageio             \t2.9.0                   pickleshare         \t0.7.5                   zmq                 \t20.0.0"
   ]
  }
 ],
 "metadata": {
  "kernelspec": {
   "display_name": "Python 3",
   "language": "python",
   "name": "python3"
  },
  "language_info": {
   "codemirror_mode": {
    "name": "ipython",
    "version": 3
   },
   "file_extension": ".py",
   "mimetype": "text/x-python",
   "name": "python",
   "nbconvert_exporter": "python",
   "pygments_lexer": "ipython3",
   "version": "3.8.8"
  }
 },
 "nbformat": 4,
 "nbformat_minor": 5
}
