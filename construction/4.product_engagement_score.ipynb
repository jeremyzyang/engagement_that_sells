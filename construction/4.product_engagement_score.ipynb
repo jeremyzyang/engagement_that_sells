{
 "cells": [
  {
   "cell_type": "code",
   "execution_count": 1,
   "id": "7e46e5a8-7467-41f3-b83b-4f240203ae7d",
   "metadata": {},
   "outputs": [],
   "source": [
    "from py_session import py_session\n",
    "import numpy as np\n",
    "import os\n",
    "import pandas as pd\n",
    "import cv2\n",
    "import natsort\n",
    "import pandas as pd"
   ]
  },
  {
   "cell_type": "code",
   "execution_count": 2,
   "id": "b583e028-7c3b-4f83-afd4-1ed89ba14504",
   "metadata": {},
   "outputs": [],
   "source": [
    "enga_dir = '/n/holylfs05/LABS/jyang_lab/Lab/tiktok_sample/sales_panel/engagement_heatmap/'\n",
    "enga_name = os.listdir(enga_dir)\n",
    "\n",
    "product_dir = '/n/holylfs05/LABS/jyang_lab/Lab/tiktok_sample/sales_panel/product_heatmap/'\n",
    "product_name = os.listdir(product_dir)\n",
    "\n",
    "enga_name = set(enga_name).intersection(set(product_name))\n",
    "product_name = set(enga_name).intersection(set(product_name))\n",
    "\n",
    "enga_name = sorted(list(enga_name))\n",
    "product_name = sorted(list(product_name))"
   ]
  },
  {
   "cell_type": "code",
   "execution_count": 3,
   "id": "cb23b968-8ded-46a0-8eaa-792a5d29c35c",
   "metadata": {},
   "outputs": [],
   "source": [
    "e_score = []\n",
    "p_score = []\n",
    "pe_score = []\n",
    "video = []\n",
    "\n",
    "for i in range(len(product_name)):\n",
    "    \n",
    "    enga = np.load(enga_dir + enga_name[i])\n",
    "    product = np.load(product_dir + product_name[i])\n",
    "    \n",
    "    if enga.shape == product.shape:\n",
    "        score = np.multiply(enga, product)\n",
    "        score = np.sum(score)/score.shape[0]\n",
    "    \n",
    "        video.append(product_name[i].replace('.npy',''))\n",
    "        pe_score.append(score)\n",
    "        e_score.append(np.sum(enga))\n",
    "        p_score.append(np.sum(product))  \n",
    "    \n",
    "    else:\n",
    "        duration = min(product.shape[0],enga.shape[0])\n",
    "        product = product[:duration]\n",
    "        enga = enga[:duration]\n",
    "        \n",
    "        score = np.multiply(enga, product)\n",
    "        score = np.sum(score)/score.shape[0]\n",
    "    \n",
    "        video.append(product_name[i].replace('.npy',''))\n",
    "        pe_score.append(score)\n",
    "        e_score.append(np.sum(enga))\n",
    "        p_score.append(np.sum(product))  "
   ]
  },
  {
   "cell_type": "code",
   "execution_count": 4,
   "id": "1a4cbef2-b927-4238-9ca3-d688469a49d6",
   "metadata": {},
   "outputs": [],
   "source": [
    "df = pd.DataFrame()\n",
    "df['video_full_id'] = video\n",
    "df['p_score'] = p_score\n",
    "df['e_score'] = e_score\n",
    "df['pe_score'] = pe_score"
   ]
  },
  {
   "cell_type": "code",
   "execution_count": 5,
   "id": "6891fb8f-6fa8-4072-ba39-857c9fc5488b",
   "metadata": {},
   "outputs": [],
   "source": [
    "# py_session()\n",
    "# 37 modules found\n",
    "# IPython             \t7.22.0                  ipython_genutils    \t0.2.0                   prompt_toolkit      \t3.0.17\n",
    "# argparse            \t1.1                     jedi                \t0.17.2                  ptyprocess          \t0.7.0\n",
    "# backcall            \t0.2.0                   json                \t2.0.9                   py_session          \t0.1.1\n",
    "# bottleneck          \t1.3.2                   jupyter_client      \t6.1.12                  pygments            \t2.8.1\n",
    "# colorama            \t0.4.4                   jupyter_core        \t4.7.1                   pytz                \t2021.1\n",
    "# csv                 \t1.0                     logging             \t0.5.1.2                 re                  \t2.2.1\n",
    "# ctypes              \t1.1.0                   natsort             \t8.4.0                   six                 \t1.15.0\n",
    "# cv2                 \t4.8.1                   numpy               \t1.22.4                  traitlets           \t5.0.5\n",
    "# dateutil            \t2.8.1                   pandas              \t1.2.4                   wcwidth             \t0.2.5\n",
    "# decimal             \t1.70                    parso               \t0.7.0                   zlib                \t1.0\n",
    "# decorator           \t4.4.2                   pexpect             \t4.8.0                   zmq                 \t20.0.0\n",
    "# ipykernel           \t5.3.4                   "
   ]
  }
 ],
 "metadata": {
  "kernelspec": {
   "display_name": "Python 3",
   "language": "python",
   "name": "python3"
  },
  "language_info": {
   "codemirror_mode": {
    "name": "ipython",
    "version": 3
   },
   "file_extension": ".py",
   "mimetype": "text/x-python",
   "name": "python",
   "nbconvert_exporter": "python",
   "pygments_lexer": "ipython3",
   "version": "3.8.8"
  }
 },
 "nbformat": 4,
 "nbformat_minor": 5
}
