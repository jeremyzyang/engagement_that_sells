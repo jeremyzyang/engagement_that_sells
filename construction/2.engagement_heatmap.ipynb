{
 "cells": [
  {
   "cell_type": "code",
   "execution_count": 1,
   "metadata": {},
   "outputs": [],
   "source": [
    "from py_session import py_session\n",
    "import numpy as np\n",
    "import os\n",
    "import pandas as pd\n",
    "import cv2\n",
    "import natsort\n",
    "import pandas as pd\n",
    "from skimage.io import imread\n",
    "from skimage import data, color\n",
    "from skimage.transform import rescale, resize, downscale_local_mean\n",
    "import pickle\n",
    "import imageio"
   ]
  },
  {
   "cell_type": "code",
   "execution_count": 2,
   "metadata": {
    "tags": []
   },
   "outputs": [],
   "source": [
    "# load data on the outcomes (residualized like, comment, share)\n",
    "label = pd.read_csv('/n/holylfs05/LABS/jyang_lab/Lab/tiktok_sample/enga_res_emb.csv')\n",
    "\n",
    "# get video directory for training\n",
    "video_dir = '/n/holylfs05/LABS/jyang_lab/Lab/tiktok_sample/training/frame/'\n",
    "video_name = os.listdir(video_dir)\n",
    "\n",
    "# specify directory to save output\n",
    "out_dir = '/n/holylfs05/LABS/jyang_lab/Lab/tiktok_sample/sales_panel/engagement_heatmap/'"
   ]
  },
  {
   "cell_type": "markdown",
   "metadata": {},
   "source": [
    "### train 3D CNN"
   ]
  },
  {
   "cell_type": "code",
   "execution_count": 3,
   "metadata": {},
   "outputs": [],
   "source": [
    "# load video frames and filter to videos >= 15 seconds and have engagement data\n",
    "v = [] \n",
    "\n",
    "for i, video in enumerate(video_name):\n",
    "    frame_name = os.listdir(video_dir + '/' + video)\n",
    "    frame_name = natsort.natsorted(frame_name)\n",
    "        \n",
    "    if len(frame_name) >= 15 and video in label['video_full_id'].values:\n",
    "        v.append(video)\n",
    "\n",
    "label = label[label['video_full_id'].isin(v)]"
   ]
  },
  {
   "cell_type": "code",
   "execution_count": 4,
   "metadata": {},
   "outputs": [],
   "source": [
    "# use share/like/comment as the outcome\n",
    "share = label['share_res'].values.astype(float)\n",
    "#like = label['like_emb_res'].values.astype(float)\n",
    "#comment = label['comment_emb_res'].values.astype(float)"
   ]
  },
  {
   "cell_type": "code",
   "execution_count": 5,
   "metadata": {},
   "outputs": [],
   "source": [
    "# standardize the outcome\n",
    "share = (share - np.mean(share))/np.std(share)\n",
    "#like = (like - np.mean(like))/np.std(like)\n",
    "#comment = (comment - np.mean(comment))/np.std(comment)"
   ]
  },
  {
   "cell_type": "code",
   "execution_count": 6,
   "metadata": {},
   "outputs": [],
   "source": [
    "import tensorflow as tf\n",
    "import tensorflow.keras\n",
    "from tensorflow.keras.models import Sequential\n",
    "from tensorflow.keras import models\n",
    "from tensorflow.keras import layers\n",
    "from tensorflow.keras import optimizers\n",
    "from tensorflow.keras.layers import Dense, LSTM, Activation, Flatten, TimeDistributed, ConvLSTM2D, MaxPooling2D, MaxPooling3D, Conv3D, Dropout, GlobalMaxPooling3D, GlobalAveragePooling3D, BatchNormalization"
   ]
  },
  {
   "cell_type": "code",
   "execution_count": 7,
   "metadata": {},
   "outputs": [],
   "source": [
    "# define generator\n",
    "class My_Generator(tf.keras.utils.Sequence):\n",
    "  \n",
    "  def __init__(self, image_filenames, labels, batch_size):\n",
    "    self.image_filenames = image_filenames\n",
    "    self.labels = labels\n",
    "    self.batch_size = batch_size\n",
    "     \n",
    "  def __len__(self) :\n",
    "    return (np.ceil(len(self.image_filenames) / float(self.batch_size))).astype(np.int)\n",
    "  \n",
    "  \n",
    "  def __getitem__(self, idx) :\n",
    "    batch_x = self.image_filenames[idx * self.batch_size : (idx+1) * self.batch_size]\n",
    "    batch_y = self.labels[idx * self.batch_size : (idx+1) * self.batch_size]\n",
    "    \n",
    "    n = 60\n",
    "    length = 224\n",
    "    width = 224\n",
    "    \n",
    "    x = []\n",
    "\n",
    "    for i,video in enumerate(batch_x):\n",
    "        count = 0\n",
    "    \n",
    "        frame_name = os.listdir(video_dir + '/' + video)\n",
    "        frame_name = natsort.natsorted(frame_name)\n",
    "        \n",
    "        for frame in frame_name:\n",
    "            if not frame.startswith('.'):\n",
    "                if(count < n):\n",
    "                    image = imageio.imread(video_dir + '/' + video + '/' + frame)\n",
    "                    image = resize(image , (length,width))\n",
    "                    x.append(image)\n",
    "                    count+=1\n",
    "    \n",
    "    x = np.array(x)/255\n",
    "    x = x.reshape(len(batch_x),count,length,width,3)\n",
    "    \n",
    "    return x, np.array(batch_y)"
   ]
  },
  {
   "cell_type": "code",
   "execution_count": 8,
   "metadata": {
    "tags": []
   },
   "outputs": [],
   "source": [
    "batch_size = 1\n",
    "n_train = 10000\n",
    "n_val = 3500\n",
    "\n",
    "import random\n",
    "random.seed(100)\n",
    "\n",
    "id_train = random.sample(range(0, len(v)), n_train)\n",
    "id_val_test = set(range(0, len(v))) - set(id_train)\n",
    "id_val = random.sample(id_val_test, n_val)\n",
    "id_test = set(id_val_test) - set(id_val)\n",
    "\n",
    "my_training_batch_generator = My_Generator([v[i] for i in id_train], [share[i] for i in id_train], batch_size)\n",
    "my_validation_batch_generator = My_Generator([v[i] for i in id_val], [share[i] for i in id_val], batch_size)\n",
    "my_test_batch_generator = My_Generator([v[i] for i in id_test], [share[i] for i in id_test], batch_size)"
   ]
  },
  {
   "cell_type": "code",
   "execution_count": 9,
   "metadata": {},
   "outputs": [],
   "source": [
    "length = 224\n",
    "width = 224\n",
    "\n",
    "from tensorflow.keras.applications.xception import Xception\n",
    "\n",
    "conv_base = Xception(weights='imagenet',\n",
    "                  include_top=False,\n",
    "                  input_shape=(length, width, 3))\n",
    "\n",
    "for layer in conv_base.layers:\n",
    "    layer.trainable = False"
   ]
  },
  {
   "cell_type": "code",
   "execution_count": 10,
   "metadata": {
    "tags": []
   },
   "outputs": [],
   "source": [
    "model = models.Sequential()\n",
    "model.add(TimeDistributed(conv_base, input_shape=(None, length, width, 3)))\n",
    "model.add(Conv3D(128, kernel_size=(3, 3, 3), activation='relu'))\n",
    "model.add(GlobalMaxPooling3D())\n",
    "model.add(Dense(256, activation=\"relu\"))\n",
    "model.add(Dropout(0.1))\n",
    "model.add(Dense(1, activation=\"linear\"))\n",
    "model.compile(loss='mean_absolute_percentage_error', \n",
    "              optimizer = tf.keras.optimizers.Adadelta(learning_rate=0.001)) "
   ]
  },
  {
   "cell_type": "code",
   "execution_count": 11,
   "metadata": {},
   "outputs": [
    {
     "name": "stderr",
     "output_type": "stream",
     "text": [
      "/n/home09/jeryang/.local/lib/python3.8/site-packages/tensorflow/python/keras/engine/training.py:1940: UserWarning: `Model.fit_generator` is deprecated and will be removed in a future version. Please use `Model.fit`, which supports generators.\n",
      "  warnings.warn('`Model.fit_generator` is deprecated and '\n",
      "<ipython-input-7-915182c10d29>:10: DeprecationWarning: `np.int` is a deprecated alias for the builtin `int`. To silence this warning, use `int` by itself. Doing this will not modify any behavior and is safe. When replacing `np.int`, you may wish to use e.g. `np.int64` or `np.int32` to specify the precision. If you wish to review your current use, check the release note link for additional information.\n",
      "Deprecated in NumPy 1.20; for more details and guidance: https://numpy.org/devdocs/release/1.20.0-notes.html#deprecations\n",
      "  return (np.ceil(len(self.image_filenames) / float(self.batch_size))).astype(np.int)\n"
     ]
    },
    {
     "name": "stdout",
     "output_type": "stream",
     "text": [
      "Epoch 1/5\n",
      "5/5 [==============================] - 29s 6s/step - loss: 201.3306 - val_loss: 87.1824\n",
      "Epoch 2/5\n",
      "5/5 [==============================] - 21s 5s/step - loss: 174.5089 - val_loss: 89.7091\n",
      "Epoch 3/5\n",
      "5/5 [==============================] - 22s 4s/step - loss: 171.6218 - val_loss: 92.1096\n",
      "Epoch 4/5\n",
      "5/5 [==============================] - 22s 4s/step - loss: 145.8179 - val_loss: 94.4797\n",
      "Epoch 5/5\n",
      "5/5 [==============================] - 21s 4s/step - loss: 122.7122 - val_loss: 97.0158\n"
     ]
    }
   ],
   "source": [
    "history = model.fit_generator(\n",
    "    generator = my_training_batch_generator,\n",
    "                   epochs = 30,\n",
    "                   validation_data = my_validation_batch_generator,\n",
    "                   shuffle = True)"
   ]
  },
  {
   "cell_type": "code",
   "execution_count": 12,
   "metadata": {},
   "outputs": [
    {
     "data": {
      "image/png": "[encoded data removed]",
      "text/plain": [
       "<Figure size 432x288 with 1 Axes>"
      ]
     },
     "metadata": {
      "needs_background": "light"
     },
     "output_type": "display_data"
    }
   ],
   "source": [
    "import matplotlib.pyplot as plt\n",
    "\n",
    "# plot training and validation loss\n",
    "loss = history.history['loss'] \n",
    "val_loss = history.history['val_loss']\n",
    "\n",
    "epochs = range(30)\n",
    "\n",
    "plt.plot(epochs, loss, 'bo', label='Training loss')\n",
    "plt.plot(epochs, val_loss, 'b', label='Validation loss')\n",
    "plt.title('Training and validation loss')\n",
    "plt.legend()\n",
    "plt.show()"
   ]
  },
  {
   "cell_type": "code",
   "execution_count": 13,
   "metadata": {},
   "outputs": [
    {
     "name": "stderr",
     "output_type": "stream",
     "text": [
      "/n/home09/jeryang/.local/lib/python3.8/site-packages/tensorflow/python/keras/engine/training.py:1973: UserWarning: `Model.evaluate_generator` is deprecated and will be removed in a future version. Please use `Model.evaluate`, which supports generators.\n",
      "  warnings.warn('`Model.evaluate_generator` is deprecated and '\n",
      "<ipython-input-7-915182c10d29>:10: DeprecationWarning: `np.int` is a deprecated alias for the builtin `int`. To silence this warning, use `int` by itself. Doing this will not modify any behavior and is safe. When replacing `np.int`, you may wish to use e.g. `np.int64` or `np.int32` to specify the precision. If you wish to review your current use, check the release note link for additional information.\n",
      "Deprecated in NumPy 1.20; for more details and guidance: https://numpy.org/devdocs/release/1.20.0-notes.html#deprecations\n",
      "  return (np.ceil(len(self.image_filenames) / float(self.batch_size))).astype(np.int)\n"
     ]
    },
    {
     "name": "stdout",
     "output_type": "stream",
     "text": [
      "1/1 [==============================] - 6s 6s/step - loss: 117.8411\n"
     ]
    },
    {
     "data": {
      "text/plain": [
       "117.8410873413086"
      ]
     },
     "execution_count": 13,
     "metadata": {},
     "output_type": "execute_result"
    }
   ],
   "source": [
    "# test error\n",
    "model.evaluate_generator(my_test_batch_generator, verbose = 1)"
   ]
  },
  {
   "cell_type": "markdown",
   "metadata": {},
   "source": [
    "### extract saliency map"
   ]
  },
  {
   "cell_type": "code",
   "execution_count": 14,
   "metadata": {
    "tags": []
   },
   "outputs": [],
   "source": [
    "from tensorflow.keras import backend as K\n",
    "import tf_keras_vis\n",
    "from tf_keras_vis.saliency import Saliency\n",
    "from tf_keras_vis.utils import normalize\n",
    "\n",
    "saliency = Saliency(model,\n",
    "                    clone=True)\n",
    "\n",
    "def score_function(output):\n",
    "    return output[:, 0]"
   ]
  },
  {
   "cell_type": "code",
   "execution_count": 15,
   "metadata": {},
   "outputs": [],
   "source": [
    "# get video directory for extracting saliency map\n",
    "video_dir = '/n/holylfs05/LABS/jyang_lab/Lab/tiktok_sample/sales_panel/frame/'\n",
    "video_name = os.listdir(video_dir)"
   ]
  },
  {
   "cell_type": "code",
   "execution_count": 16,
   "metadata": {},
   "outputs": [],
   "source": [
    "length = 224\n",
    "width = 224\n",
    "\n",
    "for video in video_name:    \n",
    "    count = 0\n",
    "    y = []\n",
    "    \n",
    "    frame_name = os.listdir(video_dir + '/' + video)\n",
    "    frame_name = natsort.natsorted(frame_name)\n",
    "    \n",
    "    if len(frame_name) < 1:\n",
    "        next\n",
    "    else:       \n",
    "        for frame in frame_name:\n",
    "            if not frame.startswith('.'):\n",
    "                image = cv2.imread(video_dir + video + '/' + frame)\n",
    "                image = resize(image , (length,width))\n",
    "                y.append(image)\n",
    "                count+=1\n",
    "    \n",
    "    y = np.array(y)\n",
    "\n",
    "    saliency_map = saliency(score_function, y)\n",
    "    saliency_map = normalize(saliency_map)\n",
    "    saliency_map = np.reshape(saliency_map, saliency_map.shape[1:4])\n",
    "    \n",
    "    out = out_dir + video\n",
    "    np.save(out, saliency_map)"
   ]
  },
  {
   "cell_type": "code",
   "execution_count": 17,
   "metadata": {
    "jp-MarkdownHeadingCollapsed": true,
    "tags": []
   },
   "outputs": [],
   "source": [
    "# py_session()\n",
    "# 68 modules found\n",
    "# IPython             \t7.22.0                  imageio             \t2.9.0                   pygments            \t2.8.1\n",
    "# PIL                 \t8.2.0                   ipykernel           \t5.3.4                   pyparsing           \t2.4.7\n",
    "# argparse            \t1.1                     ipython_genutils    \t0.2.0                   pytz                \t2021.1\n",
    "# astunparse          \t1.6.3                   jedi                \t0.17.2                  re                  \t2.2.1\n",
    "# backcall            \t0.2.0                   json                \t2.0.9                   requests            \t2.31.0\n",
    "# bottleneck          \t1.3.2                   jupyter_client      \t6.1.12                  scipy               \t1.6.2\n",
    "# certifi             \t2020.12.05              jupyter_core        \t4.7.1                   six                 \t1.15.0\n",
    "# cffi                \t1.14.5                  keras_preprocessing \t1.1.2                   skimage             \t0.18.1\n",
    "# chardet             \t4.0.0                   kiwisolver          \t1.3.1                   socks               \t1.7.1\n",
    "# charset_normalizer  \t3.3.2                   logging             \t0.5.1.2                 tblib               \t1.7.0\n",
    "# colorama            \t0.4.4                   matplotlib          \t3.3.4                   tensorboard         \t2.11.2\n",
    "# csv                 \t1.0                     natsort             \t8.4.0                   tensorflow          \t2.5.0\n",
    "# ctypes              \t1.1.0                   numpy               \t1.22.4                  termcolor           \t(1, 1, 0)\n",
    "# cv2                 \t4.8.1                   opt_einsum          \tv3.3.0                  tf_keras_vis        \t0.8.6\n",
    "# cycler              \t0.10.0                  packaging           \t20.9                    tifffile            \t2020.10.1\n",
    "# dateutil            \t2.8.1                   pandas              \t1.2.4                   traitlets           \t5.0.5\n",
    "# decimal             \t1.70                    parso               \t0.7.0                   urllib3             \t1.26.4\n",
    "# decorator           \t4.4.2                   pexpect             \t4.8.0                   wcwidth             \t0.2.5\n",
    "# deprecated          \t1.2.14                  pickleshare         \t0.7.5                   wrapt               \t1.12.1\n",
    "# distutils           \t3.8.8                   platform            \t1.0.8                   yaml                \t5.4.1\n",
    "# fsspec              \t0.9.0                   prompt_toolkit      \t3.0.17                  zlib                \t1.0\n",
    "# h5py                \t3.1.0                   ptyprocess          \t0.7.0                   zmq                 \t20.0.0\n",
    "# idna                \t2.10                    py_session          \t0.1.1                   "
   ]
  }
 ],
 "metadata": {
  "kernelspec": {
   "display_name": "Python 3",
   "language": "python",
   "name": "python3"
  },
  "language_info": {
   "codemirror_mode": {
    "name": "ipython",
    "version": 3
   },
   "file_extension": ".py",
   "mimetype": "text/x-python",
   "name": "python",
   "nbconvert_exporter": "python",
   "pygments_lexer": "ipython3",
   "version": "3.8.8"
  }
 },
 "nbformat": 4,
 "nbformat_minor": 4
}
